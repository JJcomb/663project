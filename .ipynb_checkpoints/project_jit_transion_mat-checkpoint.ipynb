{
 "cells": [
  {
   "cell_type": "code",
   "execution_count": 19,
   "metadata": {
    "collapsed": true
   },
   "outputs": [],
   "source": [
    "import numpy as np\n",
    "from numba import jit,vectorize,float64, int64,types\n",
    "import pdb\n",
    "from numpy import matlib"
   ]
  },
  {
   "cell_type": "code",
   "execution_count": 21,
   "metadata": {
    "collapsed": true
   },
   "outputs": [],
   "source": [
    "def T_mat_template(kbar):\n",
    "    # Kbar2 = 2^3 = 8\n",
    "    kbar2 = 2**kbar\n",
    "    A = np.zeros((kbar2,kbar2))\n",
    "    for i in range(kbar2):\n",
    "        for j in range(i,kbar2-i):\n",
    "            A[i,j] = np.bitwise_xor(i,j)\n",
    "    return(A)     "
   ]
  },
  {
   "cell_type": "code",
   "execution_count": 12,
   "metadata": {
    "collapsed": true
   },
   "outputs": [],
   "source": [
    "@jit(float64[:,:](float64[:,:],float64[:],int64))\n",
    "def transition_mat_jit(A,inpt,kbar):\n",
    "    b = inpt[0]\n",
    "    gamma_kbar = inpt[2]\n",
    "    gamma = np.zeros((kbar,1))\n",
    "    gamma[0,0] = 1-(1-gamma_kbar)**(1/(b**(kbar-1)))\n",
    "    for i in range(1,kbar):\n",
    "        gamma[i,0] = 1-(1-gamma[0,0])**(b**(i))\n",
    "    gamma = gamma*0.5\n",
    "    gamma = np.c_[gamma,gamma]\n",
    "    gamma[:,0] = 1 - gamma[:,1]\n",
    "    kbar2 = 2**kbar\n",
    "    prob = np.ones((kbar2,1))\n",
    "    \n",
    "    for i in range(kbar2):\n",
    "        for m in range(kbar):\n",
    "            prob[i,0] =prob[i,0] * gamma[kbar-m-1,\n",
    "                np.unpackbits(np.array([i],dtype = np.uint8))[-(m+1)]]\n",
    "    for i in range(2**(kbar-1)):\n",
    "        for j in range(i,2**(kbar-1)):\n",
    "            A[kbar2-i-1,j] = prob[np.rint(kbar2 - A[i,j]-1).astype(int),0]\n",
    "            A[kbar2-j-1,i] = A[kbar2-i-1,j]\n",
    "            A[j,kbar2-i-1] = A[kbar2-i-1,j]\n",
    "            A[i,kbar2-j-1] = A[kbar2-i-1,j]\n",
    "            A[i,j] = prob[np.rint(A[i,j]).astype(int),0]\n",
    "            A[j,i] = A[i,j].copy()\n",
    "            A[kbar2-j-1,kbar2-i-1] = A[i,j]\n",
    "            A[kbar2-i-1,kbar2-j-1] = A[i,j]\n",
    "        \n",
    "    return(A)"
   ]
  },
  {
   "cell_type": "code",
   "execution_count": 31,
   "metadata": {
    "collapsed": true
   },
   "outputs": [],
   "source": [
    "def transition_mat(A,inpt,kbar):\n",
    "    b = inpt[0]\n",
    "    gamma_kbar = inpt[2]\n",
    "    gamma = np.zeros((kbar,1))\n",
    "    gamma[0,0] = 1-(1-gamma_kbar)**(1/(b**(kbar-1)))\n",
    "    for i in range(1,kbar):\n",
    "        gamma[i,0] = 1-(1-gamma[0,0])**(b**(i))\n",
    "    gamma = gamma*0.5\n",
    "    gamma = np.c_[gamma,gamma]\n",
    "    gamma[:,0] = 1 - gamma[:,1]\n",
    "    kbar2 = 2**kbar\n",
    "    prob = np.ones((kbar2,1))\n",
    "    \n",
    "    for i in range(kbar2):\n",
    "        for m in range(kbar):\n",
    "            prob[i,0] =prob[i,0] * gamma[kbar-m-1,\n",
    "                np.unpackbits(np.array([i],dtype = np.uint8))[-(m+1)]]\n",
    "            \n",
    "    for i in range(2**(kbar-1)):\n",
    "        for j in range(i,2**(kbar-1)):\n",
    "            A[kbar2-i-1,j] = prob[np.rint(kbar2 - A[i,j]-1).astype(int),0]\n",
    "            A[kbar2-j-1,i] = A[kbar2-i-1,j]\n",
    "            A[j,kbar2-i-1] = A[kbar2-i-1,j]\n",
    "            A[i,kbar2-j-1] = A[kbar2-i-1,j]\n",
    "            A[i,j] = prob[np.rint(A[i,j]).astype(int),0]\n",
    "            A[j,i] = A[i,j].copy()\n",
    "            A[kbar2-j-1,kbar2-i-1] = A[i,j]\n",
    "            A[kbar2-i-1,kbar2-j-1] = A[i,j]\n",
    "        \n",
    "    return(A)"
   ]
  },
  {
   "cell_type": "code",
   "execution_count": 22,
   "metadata": {
    "collapsed": true
   },
   "outputs": [],
   "source": [
    "A = [T_mat_template(i) for i in range(2,9)]"
   ]
  },
  {
   "cell_type": "code",
   "execution_count": 75,
   "metadata": {},
   "outputs": [
    {
     "name": "stdout",
     "output_type": "stream",
     "text": [
      "163 µs ± 6.64 µs per loop (mean ± std. dev. of 7 runs, 10000 loops each)\n"
     ]
    }
   ],
   "source": [
    "%%timeit\n",
    "transition_mat_jit(A[0],np.array([3,1.5,0.5,3]),2)"
   ]
  },
  {
   "cell_type": "code",
   "execution_count": 76,
   "metadata": {},
   "outputs": [
    {
     "name": "stdout",
     "output_type": "stream",
     "text": [
      "80.5 µs ± 1.53 µs per loop (mean ± std. dev. of 7 runs, 10000 loops each)\n"
     ]
    }
   ],
   "source": [
    "%%timeit\n",
    "transition_mat(A[0],np.array([3,1.5,0.5,3]),2)"
   ]
  },
  {
   "cell_type": "code",
   "execution_count": 77,
   "metadata": {},
   "outputs": [
    {
     "name": "stdout",
     "output_type": "stream",
     "text": [
      "244 µs ± 5.11 µs per loop (mean ± std. dev. of 7 runs, 1000 loops each)\n"
     ]
    }
   ],
   "source": [
    "%%timeit\n",
    "transition_mat_jit(A[1],np.array([3,1.5,0.5,3]),3)"
   ]
  },
  {
   "cell_type": "code",
   "execution_count": 78,
   "metadata": {},
   "outputs": [
    {
     "name": "stdout",
     "output_type": "stream",
     "text": [
      "171 µs ± 5.47 µs per loop (mean ± std. dev. of 7 runs, 10000 loops each)\n"
     ]
    }
   ],
   "source": [
    "%%timeit\n",
    "transition_mat(A[1],[3,1.5,0.5,3],3)"
   ]
  },
  {
   "cell_type": "code",
   "execution_count": 79,
   "metadata": {},
   "outputs": [
    {
     "name": "stdout",
     "output_type": "stream",
     "text": [
      "537 µs ± 11.1 µs per loop (mean ± std. dev. of 7 runs, 1000 loops each)\n"
     ]
    }
   ],
   "source": [
    "%%timeit\n",
    "transition_mat_jit(A[2],np.array([3,1.5,0.5,3]),4)"
   ]
  },
  {
   "cell_type": "code",
   "execution_count": 80,
   "metadata": {},
   "outputs": [
    {
     "name": "stdout",
     "output_type": "stream",
     "text": [
      "455 µs ± 11.5 µs per loop (mean ± std. dev. of 7 runs, 1000 loops each)\n"
     ]
    }
   ],
   "source": [
    "%%timeit\n",
    "transition_mat(A[2],np.array([3,1.5,0.5,3]),4)"
   ]
  },
  {
   "cell_type": "code",
   "execution_count": 81,
   "metadata": {},
   "outputs": [
    {
     "name": "stdout",
     "output_type": "stream",
     "text": [
      "1.47 ms ± 24 µs per loop (mean ± std. dev. of 7 runs, 1000 loops each)\n"
     ]
    }
   ],
   "source": [
    "%%timeit\n",
    "transition_mat_jit(A[3],np.array([3,1.5,0.5,3]),5)"
   ]
  },
  {
   "cell_type": "code",
   "execution_count": 82,
   "metadata": {},
   "outputs": [
    {
     "name": "stdout",
     "output_type": "stream",
     "text": [
      "1.4 ms ± 58.3 µs per loop (mean ± std. dev. of 7 runs, 1000 loops each)\n"
     ]
    }
   ],
   "source": [
    "%%timeit\n",
    "transition_mat(A[3],np.array([3,1.5,0.5,3]),5)"
   ]
  },
  {
   "cell_type": "code",
   "execution_count": 83,
   "metadata": {},
   "outputs": [
    {
     "name": "stdout",
     "output_type": "stream",
     "text": [
      "4.78 ms ± 91 µs per loop (mean ± std. dev. of 7 runs, 100 loops each)\n"
     ]
    }
   ],
   "source": [
    "%%timeit\n",
    "transition_mat_jit(A[4],np.array([3,1.5,0.5,3]),6)"
   ]
  },
  {
   "cell_type": "code",
   "execution_count": 84,
   "metadata": {},
   "outputs": [
    {
     "name": "stdout",
     "output_type": "stream",
     "text": [
      "4.79 ms ± 117 µs per loop (mean ± std. dev. of 7 runs, 100 loops each)\n"
     ]
    }
   ],
   "source": [
    "%%timeit\n",
    "transition_mat(A[4],np.array([3,1.5,0.5,3]),6)"
   ]
  },
  {
   "cell_type": "code",
   "execution_count": 85,
   "metadata": {},
   "outputs": [
    {
     "name": "stdout",
     "output_type": "stream",
     "text": [
      "16.9 ms ± 289 µs per loop (mean ± std. dev. of 7 runs, 100 loops each)\n"
     ]
    }
   ],
   "source": [
    "%%timeit\n",
    "transition_mat_jit(A[5],np.array([3,1.5,0.5,3]),7)"
   ]
  },
  {
   "cell_type": "code",
   "execution_count": 86,
   "metadata": {},
   "outputs": [
    {
     "name": "stdout",
     "output_type": "stream",
     "text": [
      "17.3 ms ± 361 µs per loop (mean ± std. dev. of 7 runs, 10 loops each)\n"
     ]
    }
   ],
   "source": [
    "%%timeit\n",
    "transition_mat(A[5],np.array([3,1.5,0.5,3]),7)"
   ]
  },
  {
   "cell_type": "code",
   "execution_count": 87,
   "metadata": {},
   "outputs": [
    {
     "name": "stdout",
     "output_type": "stream",
     "text": [
      "62.8 ms ± 825 µs per loop (mean ± std. dev. of 7 runs, 10 loops each)\n"
     ]
    }
   ],
   "source": [
    "%%timeit\n",
    "transition_mat_jit(A[6],np.array([3,1.5,0.5,3]),8)"
   ]
  },
  {
   "cell_type": "code",
   "execution_count": 88,
   "metadata": {},
   "outputs": [
    {
     "name": "stdout",
     "output_type": "stream",
     "text": [
      "63.7 ms ± 2.48 ms per loop (mean ± std. dev. of 7 runs, 10 loops each)\n"
     ]
    }
   ],
   "source": [
    "%%timeit\n",
    "transition_mat(A[6],np.array([3,1.5,0.5,3]),8)"
   ]
  },
  {
   "cell_type": "code",
   "execution_count": 4,
   "metadata": {
    "collapsed": true
   },
   "outputs": [],
   "source": [
    "@jit(float64(float64,int64,float64[:,:],float64[:,:],float64[:]))\n",
    "#estim_flag= list\n",
    "#input = double\n",
    "def MSM_like_init(inpt,kbar,data,A_template,estim_flag):\n",
    "    inpt = [estim_flag[0],inpt,estim_flag[1],estim_flag[2]]\n",
    "    sigma = inpt[3]/np.sqrt(252)\n",
    "    k2 = 2**kbar\n",
    "    A = transition_mat(A_template.copy(),inpt,kbar)\n",
    "    g_m = gofm(inpt,kbar)\n",
    "    T = len(data)\n",
    "    pi_mat = np.zeros((T+1,k2))\n",
    "    LLs = np.zeros(T)\n",
    "    pi_mat[0,:] = (1/k2)*np.ones((1,k2))\n",
    "    \"\"\"\n",
    "    Likelihood Algorithm\n",
    "    \"\"\"\n",
    "    pa = (2*np.pi)**(-0.5)\n",
    "    s = sigma*g_m\n",
    "    w_t = data \n",
    "    w_t = pa*np.exp(-0.5*((w_t/s)**2))/s\n",
    "    w_t = w_t + 1e-16\n",
    "\n",
    "    for t in range(T):\n",
    "        \n",
    "        piA = np.dot(pi_mat[t,:],A)\n",
    "        C = (w_t[t,:]*piA)\n",
    "        ft = np.sum(C) # log\n",
    "        if np.isclose(ft,0):\n",
    "            pi_mat[t+1,1]=1\n",
    "        else:\n",
    "            pi_mat[t+1,:] = C/ft\n",
    "        LLs[t] = np.log(np.dot(w_t[t,:],piA))\n",
    "        \n",
    "    LL = -np.sum(LLs)\n",
    "    if np.any(np.isinf(LLs)):\n",
    "        print(\"Log-likelihood is inf. Probably due to all zeros in pi_mat.\")\n",
    "    return (LL)"
   ]
  },
  {
   "cell_type": "code",
   "execution_count": 5,
   "metadata": {
    "collapsed": true
   },
   "outputs": [],
   "source": [
    "@jit(types.Tuple((float64[:],float64[:,:]))(float64[:],int64,float64[:,:],float64[:,:]))\n",
    "def MSM_likelihood(inpt,kbar,data,A_template):        \n",
    "    sigma = inpt[3]/np.sqrt(252)\n",
    "    k2 = 2**kbar\n",
    "    A = transition_mat(A_template.copy(),inpt,kbar)\n",
    "    g_m = gofm(inpt,kbar)\n",
    "    T = len(data)\n",
    "    pi_mat = np.zeros((T+1,k2))\n",
    "    LLs = np.zeros(T)\n",
    "    pi_mat[0,:] = (1/k2)*np.ones((1,k2))\n",
    "    \"\"\"\n",
    "    Likelihood Algorithm\n",
    "    \"\"\"\n",
    "    pa = (2*np.pi)**(-0.5)\n",
    "    s = sigma*g_m\n",
    "    w_t = data \n",
    "    w_t = pa*np.exp(-0.5*((w_t/s)**2))/s\n",
    "    w_t = w_t + 1e-16\n",
    "\n",
    "    for t in range(T):\n",
    "        \n",
    "        piA = np.dot(pi_mat[t,:],A)\n",
    "        C = (w_t[t,:]*piA)\n",
    "        ft = np.sum(C) # log\n",
    "        if np.isclose(ft,0):\n",
    "            pi_mat[t+1,1]=1\n",
    "        else:\n",
    "            pi_mat[t+1,:] = C/ft\n",
    "        LLs[t] = np.log(np.dot(w_t[t,:],piA))\n",
    "        \n",
    "    LL = -np.sum(LLs)\n",
    "    if np.any(np.isinf(LLs)):\n",
    "        print(\"Log-likelihood is inf. Probably due to all zeros in pi_mat.\")\n",
    "    else:\n",
    "        return(LL,LLs)"
   ]
  },
  {
   "cell_type": "code",
   "execution_count": 2,
   "metadata": {
    "collapsed": true
   },
   "outputs": [],
   "source": [
    "def gofm(inpt,kbar):\n",
    "    \"\"\"\n",
    "    A function that calculates all the possible volatility states\n",
    "    \"\"\"\n",
    "    m0 = inpt[1]\n",
    "    m1 = 2-m0\n",
    "    kbar2 = 2**kbar\n",
    "    g_m1 = np.arange(kbar2)\n",
    "    g_m = np.zeros(kbar2)\n",
    "    \n",
    "    for i in range(kbar2):\n",
    "        g =1\n",
    "        for j in range(kbar):\n",
    "            if np.bitwise_and(g_m1[i],(2**j))!=0:\n",
    "                g = g*m1\n",
    "            else:\n",
    "                g = g*m0\n",
    "        g_m[i] = g\n",
    "    return(np.sqrt(g_m))"
   ]
  },
  {
   "cell_type": "code",
   "execution_count": 13,
   "metadata": {
    "collapsed": true
   },
   "outputs": [],
   "source": [
    "s = gofm(np.array([3,1.5,0.5,3]),kbar=3)"
   ]
  },
  {
   "cell_type": "code",
   "execution_count": 2,
   "metadata": {
    "collapsed": true
   },
   "outputs": [],
   "source": [
    "data = pd.read_csv(\"data_demo.csv\",header=None)"
   ]
  },
  {
   "cell_type": "code",
   "execution_count": 20,
   "metadata": {
    "collapsed": true
   },
   "outputs": [],
   "source": [
    "wt = matlib.repmat(data,1,8)"
   ]
  },
  {
   "cell_type": "code",
   "execution_count": 1,
   "metadata": {
    "collapsed": true
   },
   "outputs": [],
   "source": [
    "import numpy as np\n",
    "import pandas as pd"
   ]
  },
  {
   "cell_type": "code",
   "execution_count": 24,
   "metadata": {},
   "outputs": [
    {
     "data": {
      "text/plain": [
       "(1000, 8)"
      ]
     },
     "execution_count": 24,
     "metadata": {},
     "output_type": "execute_result"
    }
   ],
   "source": [
    "(wt/s).shape"
   ]
  },
  {
   "cell_type": "code",
   "execution_count": 28,
   "metadata": {},
   "outputs": [
    {
     "name": "stdout",
     "output_type": "stream",
     "text": [
      "82.1 µs ± 1.55 µs per loop (mean ± std. dev. of 7 runs, 10000 loops each)\n"
     ]
    }
   ],
   "source": [
    "%%timeit\n",
    "w_t = np.exp(-0.5*((wt/s)**2))/s"
   ]
  },
  {
   "cell_type": "code",
   "execution_count": 32,
   "metadata": {
    "collapsed": true
   },
   "outputs": [],
   "source": [
    "from concurrent.futures import ThreadPoolExecutor, ProcessPoolExecutor\n",
    "import multiprocessing as mp\n",
    "from multiprocessing import (Pool, Process, Queue, Lock, cpu_count, current_process)"
   ]
  },
  {
   "cell_type": "code",
   "execution_count": 34,
   "metadata": {},
   "outputs": [
    {
     "name": "stderr",
     "output_type": "stream",
     "text": [
      "ERROR:root:Cell magic `%%cython` not found.\n"
     ]
    }
   ],
   "source": [
    "%%cython\n",
    "\n",
    "import cython\n",
    "\n",
    "from libc.stdlib cimport rand\n",
    "cdef extern from \"limits.h\":\n",
    "    int INT_MAX\n",
    "\n",
    "@cython.cdivision(True) \n",
    "def mc_pi_cython(int n):\n",
    "    cdef double s = 0.0\n",
    "    cdef double x, y\n",
    "    cdef int i\n",
    "\n",
    "    for i in range(n):\n",
    "        x = 2*(rand()/float(INT_MAX)) - 1\n",
    "        y = 2*(rand()/float(INT_MAX)) - 1\n",
    "        if (x**2 + y**2) < 1:\n",
    "            s += 1\n",
    "    return 4*s/n"
   ]
  },
  {
   "cell_type": "code",
   "execution_count": 72,
   "metadata": {
    "collapsed": true
   },
   "outputs": [],
   "source": [
    "def like(x,s=s):\n",
    "    return np.exp(-0.5*((x/s)**2))/s"
   ]
  },
  {
   "cell_type": "code",
   "execution_count": 73,
   "metadata": {},
   "outputs": [
    {
     "name": "stdout",
     "output_type": "stream",
     "text": [
      "CPU times: user 520 µs, sys: 427 µs, total: 947 µs\n",
      "Wall time: 599 µs\n"
     ]
    },
    {
     "data": {
      "text/plain": [
       "array([[ 0.54427837,  0.94253531,  0.94253531, ...,  1.63157125,\n",
       "         1.63157125,  2.82104508],\n",
       "       [ 0.54431124,  0.94270608,  0.94270608, ...,  1.6324582 ,\n",
       "         1.6324582 ,  2.82564828],\n",
       "       [ 0.54430975,  0.94269837,  0.94269837, ...,  1.63241816,\n",
       "         1.63241816,  2.8254404 ],\n",
       "       ..., \n",
       "       [ 0.54432902,  0.94279846,  0.94279846, ...,  1.6329382 ,\n",
       "         1.6329382 ,  2.82814155],\n",
       "       [ 0.54429375,  0.94261522,  0.94261522, ...,  1.63198625,\n",
       "         1.63198625,  2.8231983 ],\n",
       "       [ 0.54431111,  0.9427054 ,  0.9427054 , ...,  1.63245468,\n",
       "         1.63245468,  2.82563   ]])"
      ]
     },
     "execution_count": 73,
     "metadata": {},
     "output_type": "execute_result"
    }
   ],
   "source": [
    "%%time\n",
    "like(wt,s)"
   ]
  },
  {
   "cell_type": "code",
   "execution_count": 74,
   "metadata": {},
   "outputs": [
    {
     "name": "stdout",
     "output_type": "stream",
     "text": [
      "CPU times: user 240 ms, sys: 78.6 ms, total: 319 ms\n",
      "Wall time: 299 ms\n"
     ]
    }
   ],
   "source": [
    "%%time\n",
    "with ProcessPoolExecutor(max_workers=4) as pool:\n",
    "    res = pool.map(like,[wt[i,:] for i in range(wt.shape[0])])"
   ]
  },
  {
   "cell_type": "code",
   "execution_count": 75,
   "metadata": {},
   "outputs": [
    {
     "name": "stdout",
     "output_type": "stream",
     "text": [
      "CPU times: user 24 ms, sys: 3.37 ms, total: 27.4 ms\n",
      "Wall time: 26.1 ms\n"
     ]
    }
   ],
   "source": [
    "%%time\n",
    "with ThreadPoolExecutor(max_workers=4) as pool:\n",
    "    res = pool.map(like,[wt[i,:] for i in range(wt.shape[0])])"
   ]
  },
  {
   "cell_type": "code",
   "execution_count": 77,
   "metadata": {},
   "outputs": [
    {
     "name": "stdout",
     "output_type": "stream",
     "text": [
      "CPU times: user 15.5 ms, sys: 21.6 ms, total: 37.1 ms\n",
      "Wall time: 130 ms\n"
     ]
    }
   ],
   "source": [
    "%%time\n",
    "with mp.Pool(processes=4) as pool:\n",
    "    res = pool.map(like,[wt[i,:] for i in range(wt.shape[0])])"
   ]
  },
  {
   "cell_type": "code",
   "execution_count": 5,
   "metadata": {},
   "outputs": [],
   "source": [
    "from arch import arch_model"
   ]
  },
  {
   "cell_type": "code",
   "execution_count": 8,
   "metadata": {},
   "outputs": [
    {
     "name": "stdout",
     "output_type": "stream",
     "text": [
      "Positive directional derivative for linesearch    (Exit mode 8)\n",
      "            Current function value: -3080.298251743212\n",
      "            Iterations: 5\n",
      "            Function evaluations: 6\n",
      "            Gradient evaluations: 1\n"
     ]
    },
    {
     "name": "stderr",
     "output_type": "stream",
     "text": [
      "C:\\Users\\jaeye\\Anaconda3\\lib\\site-packages\\arch\\univariate\\base.py:524: ConvergenceWarning: \n",
      "The optimizer returned code 8. The message is:\n",
      "Positive directional derivative for linesearch\n",
      "See scipy.optimize.fmin_slsqp for code meaning.\n",
      "\n",
      "  ConvergenceWarning)\n"
     ]
    }
   ],
   "source": [
    "garch11 = arch_model(data, p=1,q=1)\n",
    "res = garch11.fit(update_freq=10)"
   ]
  },
  {
   "cell_type": "code",
   "execution_count": 10,
   "metadata": {},
   "outputs": [
    {
     "data": {
      "text/html": [
       "<table class=\"simpletable\">\n",
       "<caption>Constant Mean - GARCH Model Results</caption>\n",
       "<tr>\n",
       "  <th>Dep. Variable:</th>          <td>0</td>         <th>  R-squared:         </th>  <td>   0.000</td> \n",
       "</tr>\n",
       "<tr>\n",
       "  <th>Mean Model:</th>       <td>Constant Mean</td>   <th>  Adj. R-squared:    </th>  <td>   0.000</td> \n",
       "</tr>\n",
       "<tr>\n",
       "  <th>Vol Model:</th>            <td>GARCH</td>       <th>  Log-Likelihood:    </th> <td>   3080.30</td>\n",
       "</tr>\n",
       "<tr>\n",
       "  <th>Distribution:</th>        <td>Normal</td>       <th>  AIC:               </th> <td>  -6152.60</td>\n",
       "</tr>\n",
       "<tr>\n",
       "  <th>Method:</th>        <td>Maximum Likelihood</td> <th>  BIC:               </th> <td>  -6132.97</td>\n",
       "</tr>\n",
       "<tr>\n",
       "  <th></th>                        <td></td>          <th>  No. Observations:  </th>    <td>1000</td>   \n",
       "</tr>\n",
       "<tr>\n",
       "  <th>Date:</th>           <td>Thu, Apr 26 2018</td>  <th>  Df Residuals:      </th>     <td>996</td>   \n",
       "</tr>\n",
       "<tr>\n",
       "  <th>Time:</th>               <td>14:19:33</td>      <th>  Df Model:          </th>      <td>4</td>    \n",
       "</tr>\n",
       "</table>\n",
       "<table class=\"simpletable\">\n",
       "<caption>Mean Model</caption>\n",
       "<tr>\n",
       "   <td></td>     <th>coef</th>      <th>std err</th>       <th>t</th>       <th>P>|t|</th>      <th>95.0% Conf. Int.</th>   \n",
       "</tr>\n",
       "<tr>\n",
       "  <th>mu</th> <td>-3.8218e-18</td> <td>2.118e-05</td> <td>-1.804e-13</td> <td>    1.000</td> <td>[-4.152e-05,4.152e-05]</td>\n",
       "</tr>\n",
       "</table>\n",
       "<table class=\"simpletable\">\n",
       "<caption>Volatility Model</caption>\n",
       "<tr>\n",
       "      <td></td>        <th>coef</th>     <th>std err</th>      <th>t</th>       <th>P>|t|</th>     <th>95.0% Conf. Int.</th>   \n",
       "</tr>\n",
       "<tr>\n",
       "  <th>omega</th>    <td>2.9720e-06</td> <td>3.245e-11</td> <td>9.158e+04</td>   <td>0.000</td>   <td>[2.972e-06,2.972e-06]</td>\n",
       "</tr>\n",
       "<tr>\n",
       "  <th>alpha[1]</th> <td>    0.0500</td> <td>1.134e-02</td> <td>    4.411</td> <td>1.031e-05</td> <td>[2.778e-02,7.222e-02]</td>\n",
       "</tr>\n",
       "<tr>\n",
       "  <th>beta[1]</th>  <td>    0.9300</td> <td>8.590e-03</td> <td>  108.269</td>   <td>0.000</td>     <td>[  0.913,  0.947]</td>  \n",
       "</tr>\n",
       "</table>"
      ],
      "text/plain": [
       "<class 'statsmodels.iolib.summary.Summary'>\n",
       "\"\"\"\n",
       "                     Constant Mean - GARCH Model Results                      \n",
       "==============================================================================\n",
       "Dep. Variable:                      0   R-squared:                       0.000\n",
       "Mean Model:             Constant Mean   Adj. R-squared:                  0.000\n",
       "Vol Model:                      GARCH   Log-Likelihood:                3080.30\n",
       "Distribution:                  Normal   AIC:                          -6152.60\n",
       "Method:            Maximum Likelihood   BIC:                          -6132.97\n",
       "                                        No. Observations:                 1000\n",
       "Date:                Thu, Apr 26 2018   Df Residuals:                      996\n",
       "Time:                        14:19:33   Df Model:                            4\n",
       "                                  Mean Model                                  \n",
       "==============================================================================\n",
       "                  coef    std err          t      P>|t|       95.0% Conf. Int.\n",
       "------------------------------------------------------------------------------\n",
       "mu         -3.8218e-18  2.118e-05 -1.804e-13      1.000 [-4.152e-05,4.152e-05]\n",
       "                              Volatility Model                              \n",
       "============================================================================\n",
       "                 coef    std err          t      P>|t|      95.0% Conf. Int.\n",
       "----------------------------------------------------------------------------\n",
       "omega      2.9720e-06  3.245e-11  9.158e+04      0.000 [2.972e-06,2.972e-06]\n",
       "alpha[1]       0.0500  1.134e-02      4.411  1.031e-05 [2.778e-02,7.222e-02]\n",
       "beta[1]        0.9300  8.590e-03    108.269      0.000     [  0.913,  0.947]\n",
       "============================================================================\n",
       "\n",
       "Covariance estimator: robust\n",
       "\n",
       "WARNING: The optimizer did not indicate successful convergence. The message was\n",
       "Positive directional derivative for linesearch. See convergence_flag.\n",
       "\"\"\""
      ]
     },
     "execution_count": 10,
     "metadata": {},
     "output_type": "execute_result"
    }
   ],
   "source": [
    "res.summary()"
   ]
  },
  {
   "cell_type": "markdown",
   "metadata": {},
   "source": [
    "$\\sigma_t^2 = \\omega+\\alpha r_{t-1}^2+\\beta \\sigma_{t-1}^2$  \n",
    "$(\\omega, \\alpha, \\beta) = (2.9720e^{-06}, 0.05, 0.93)$"
   ]
  },
  {
   "cell_type": "code",
   "execution_count": 37,
   "metadata": {},
   "outputs": [
    {
     "data": {
      "text/plain": [
       "[1, 2, 3, 4, 5]"
      ]
     },
     "execution_count": 37,
     "metadata": {},
     "output_type": "execute_result"
    }
   ],
   "source": [
    "list(range(1,6))"
   ]
  },
  {
   "cell_type": "code",
   "execution_count": 36,
   "metadata": {},
   "outputs": [
    {
     "data": {
      "text/plain": [
       "array([[0., 0., 0., 0., 0.],\n",
       "       [0., 0., 0., 0., 0.],\n",
       "       [0., 0., 0., 0., 0.],\n",
       "       [0., 0., 0., 0., 0.],\n",
       "       [0., 0., 0., 0., 0.]])"
      ]
     },
     "execution_count": 36,
     "metadata": {},
     "output_type": "execute_result"
    }
   ],
   "source": [
    "aic=np.zeros((5,5))\n",
    "aic"
   ]
  },
  {
   "cell_type": "code",
   "execution_count": 38,
   "metadata": {},
   "outputs": [
    {
     "name": "stdout",
     "output_type": "stream",
     "text": [
      "Positive directional derivative for linesearch    (Exit mode 8)\n",
      "            Current function value: -3080.298251743212\n",
      "            Iterations: 5\n",
      "            Function evaluations: 6\n",
      "            Gradient evaluations: 1\n",
      "Positive directional derivative for linesearch    (Exit mode 8)\n",
      "            Current function value: -3080.2962668584537\n",
      "            Iterations: 6\n",
      "            Function evaluations: 21\n",
      "            Gradient evaluations: 2\n",
      "Positive directional derivative for linesearch    (Exit mode 8)\n",
      "            Current function value: -3080.3994576053615\n",
      "            Iterations: 8\n",
      "            Function evaluations: 57\n",
      "            Gradient evaluations: 4\n",
      "Iteration:      5,   Func. Count:     73,   Neg. LLF: -3080.845479741839\n",
      "Positive directional derivative for linesearch    (Exit mode 8)\n",
      "            Current function value: -3080.845481570994\n",
      "            Iterations: 9\n",
      "            Function evaluations: 73\n",
      "            Gradient evaluations: 5\n",
      "Positive directional derivative for linesearch    (Exit mode 8)\n",
      "            Current function value: -3080.751304286686\n",
      "            Iterations: 6\n",
      "            Function evaluations: 27\n",
      "            Gradient evaluations: 2\n",
      "Iteration:      5,   Func. Count:     65,   Neg. LLF: -3082.356295997278\n",
      "Positive directional derivative for linesearch    (Exit mode 8)\n",
      "            Current function value: -3082.3567017230457\n",
      "            Iterations: 10\n",
      "            Function evaluations: 82\n",
      "            Gradient evaluations: 6\n",
      "Positive directional derivative for linesearch    (Exit mode 8)\n",
      "            Current function value: -3084.4887471591846\n",
      "            Iterations: 5\n",
      "            Function evaluations: 8\n",
      "            Gradient evaluations: 1\n",
      "Positive directional derivative for linesearch    (Exit mode 8)\n",
      "            Current function value: -3085.8186956735603\n",
      "            Iterations: 5\n",
      "            Function evaluations: 9\n",
      "            Gradient evaluations: 1\n",
      "Positive directional derivative for linesearch    (Exit mode 8)\n",
      "            Current function value: -3086.158395148633\n",
      "            Iterations: 8\n",
      "            Function evaluations: 61\n",
      "            Gradient evaluations: 4\n",
      "Optimization terminated successfully.    (Exit mode 0)\n",
      "            Current function value: -3086.019812628689\n",
      "            Iterations: 2\n",
      "            Function evaluations: 40\n",
      "            Gradient evaluations: 2\n",
      "Positive directional derivative for linesearch    (Exit mode 8)\n",
      "            Current function value: -3082.829402933383\n",
      "            Iterations: 6\n",
      "            Function evaluations: 23\n",
      "            Gradient evaluations: 2\n",
      "Positive directional derivative for linesearch    (Exit mode 8)\n",
      "            Current function value: -3084.8465220616226\n",
      "            Iterations: 7\n",
      "            Function evaluations: 44\n",
      "            Gradient evaluations: 3\n",
      "Positive directional derivative for linesearch    (Exit mode 8)\n",
      "            Current function value: -3085.754806519005\n",
      "            Iterations: 8\n",
      "            Function evaluations: 63\n",
      "            Gradient evaluations: 4\n",
      "Positive directional derivative for linesearch    (Exit mode 8)\n",
      "            Current function value: -3085.9348473285145\n",
      "            Iterations: 7\n",
      "            Function evaluations:"
     ]
    },
    {
     "name": "stderr",
     "output_type": "stream",
     "text": [
      "C:\\Users\\jaeye\\Anaconda3\\lib\\site-packages\\arch\\univariate\\base.py:524: ConvergenceWarning: \n",
      "The optimizer returned code 8. The message is:\n",
      "Positive directional derivative for linesearch\n",
      "See scipy.optimize.fmin_slsqp for code meaning.\n",
      "\n",
      "  ConvergenceWarning)\n",
      "C:\\Users\\jaeye\\Anaconda3\\lib\\site-packages\\arch\\univariate\\base.py:524: ConvergenceWarning: \n",
      "The optimizer returned code 8. The message is:\n",
      "Positive directional derivative for linesearch\n",
      "See scipy.optimize.fmin_slsqp for code meaning.\n",
      "\n",
      "  ConvergenceWarning)\n",
      "C:\\Users\\jaeye\\Anaconda3\\lib\\site-packages\\arch\\univariate\\base.py:524: ConvergenceWarning: \n",
      "The optimizer returned code 8. The message is:\n",
      "Positive directional derivative for linesearch\n",
      "See scipy.optimize.fmin_slsqp for code meaning.\n",
      "\n",
      "  ConvergenceWarning)\n",
      "C:\\Users\\jaeye\\Anaconda3\\lib\\site-packages\\arch\\univariate\\base.py:524: ConvergenceWarning: \n",
      "The optimizer returned code 8. The message is:\n",
      "Positive directional derivative for linesearch\n",
      "See scipy.optimize.fmin_slsqp for code meaning.\n",
      "\n",
      "  ConvergenceWarning)\n",
      "C:\\Users\\jaeye\\Anaconda3\\lib\\site-packages\\arch\\univariate\\base.py:524: ConvergenceWarning: \n",
      "The optimizer returned code 8. The message is:\n",
      "Positive directional derivative for linesearch\n",
      "See scipy.optimize.fmin_slsqp for code meaning.\n",
      "\n",
      "  ConvergenceWarning)\n",
      "C:\\Users\\jaeye\\Anaconda3\\lib\\site-packages\\arch\\univariate\\base.py:524: ConvergenceWarning: \n",
      "The optimizer returned code 8. The message is:\n",
      "Positive directional derivative for linesearch\n",
      "See scipy.optimize.fmin_slsqp for code meaning.\n",
      "\n",
      "  ConvergenceWarning)\n",
      "C:\\Users\\jaeye\\Anaconda3\\lib\\site-packages\\arch\\univariate\\base.py:524: ConvergenceWarning: \n",
      "The optimizer returned code 8. The message is:\n",
      "Positive directional derivative for linesearch\n",
      "See scipy.optimize.fmin_slsqp for code meaning.\n",
      "\n",
      "  ConvergenceWarning)\n",
      "C:\\Users\\jaeye\\Anaconda3\\lib\\site-packages\\arch\\univariate\\base.py:524: ConvergenceWarning: \n",
      "The optimizer returned code 8. The message is:\n",
      "Positive directional derivative for linesearch\n",
      "See scipy.optimize.fmin_slsqp for code meaning.\n",
      "\n",
      "  ConvergenceWarning)\n",
      "C:\\Users\\jaeye\\Anaconda3\\lib\\site-packages\\arch\\univariate\\base.py:524: ConvergenceWarning: \n",
      "The optimizer returned code 8. The message is:\n",
      "Positive directional derivative for linesearch\n",
      "See scipy.optimize.fmin_slsqp for code meaning.\n",
      "\n",
      "  ConvergenceWarning)\n",
      "C:\\Users\\jaeye\\Anaconda3\\lib\\site-packages\\arch\\univariate\\base.py:524: ConvergenceWarning: \n",
      "The optimizer returned code 8. The message is:\n",
      "Positive directional derivative for linesearch\n",
      "See scipy.optimize.fmin_slsqp for code meaning.\n",
      "\n",
      "  ConvergenceWarning)\n",
      "C:\\Users\\jaeye\\Anaconda3\\lib\\site-packages\\arch\\univariate\\base.py:524: ConvergenceWarning: \n",
      "The optimizer returned code 8. The message is:\n",
      "Positive directional derivative for linesearch\n",
      "See scipy.optimize.fmin_slsqp for code meaning.\n",
      "\n",
      "  ConvergenceWarning)\n",
      "C:\\Users\\jaeye\\Anaconda3\\lib\\site-packages\\arch\\univariate\\base.py:524: ConvergenceWarning: \n",
      "The optimizer returned code 8. The message is:\n",
      "Positive directional derivative for linesearch\n",
      "See scipy.optimize.fmin_slsqp for code meaning.\n",
      "\n",
      "  ConvergenceWarning)\n",
      "C:\\Users\\jaeye\\Anaconda3\\lib\\site-packages\\arch\\univariate\\base.py:524: ConvergenceWarning: \n",
      "The optimizer returned code 8. The message is:\n",
      "Positive directional derivative for linesearch\n",
      "See scipy.optimize.fmin_slsqp for code meaning.\n",
      "\n",
      "  ConvergenceWarning)\n"
     ]
    },
    {
     "name": "stdout",
     "output_type": "stream",
     "text": [
      " 50\n",
      "            Gradient evaluations: 3\n",
      "Positive directional derivative for linesearch    (Exit mode 8)\n",
      "            Current function value: -3085.833133154343\n",
      "            Iterations: 6\n",
      "            Function evaluations: 31\n",
      "            Gradient evaluations: 2\n",
      "Optimization terminated successfully.    (Exit mode 0)\n",
      "            Current function value: -3084.396095234488\n",
      "            Iterations: 2\n",
      "            Function evaluations: 36\n",
      "            Gradient evaluations: 2\n",
      "Positive directional derivative for linesearch    (Exit mode 8)\n",
      "            Current function value: -3086.0889410249165\n",
      "            Iterations: 6\n",
      "            Function evaluations: 27\n",
      "            Gradient evaluations: 2\n",
      "Optimization terminated successfully.    (Exit mode 0)\n",
      "            Current function value: -3086.8117206224515\n",
      "            Iterations: 2\n",
      "            Function evaluations: 40\n",
      "            Gradient evaluations: 2\n",
      "Positive directional derivative for linesearch    (Exit mode 8)\n",
      "            Current function value: -3087.0615574338153\n",
      "            Iterations: 8\n",
      "            Function evaluations: 75\n",
      "            Gradient evaluations: 4\n",
      "Positive directional derivative for linesearch    (Exit mode 8)\n",
      "            Current function value: -3086.950419018244\n",
      "            Iterations: 6\n",
      "            Function evaluations: 33\n",
      "            Gradient evaluations: 2\n",
      "Optimization terminated successfully.    (Exit mode 0)\n",
      "            Current function value: -3085.023852078546\n",
      "            Iterations: 2\n",
      "            Function evaluations: 38\n",
      "            Gradient evaluations: 2\n",
      "Positive directional derivative for linesearch    (Exit mode 8)\n",
      "            Current function value: -3086.575454901871\n",
      "            Iterations: 8\n",
      "            Function evaluations: 63\n",
      "            Gradient evaluations: 4\n",
      "Positive directional derivative for linesearch    (Exit mode 8)\n",
      "            Current function value: -3087.3271656909155\n",
      "            Iterations: 8\n",
      "            Function evaluations: 67\n",
      "            Gradient evaluations: 4\n",
      "Positive directional derivative for linesearch    (Exit mode 8)\n",
      "            Current function value: -3087.523798144564\n",
      "            Iterations: 6\n",
      "            Function evaluations: 33\n",
      "            Gradient evaluations: 2\n",
      "Iteration:      5,   Func. Count:    104,   Neg. LLF: -3087.5381101419853\n",
      "Positive directional derivative for linesearch    (Exit mode 8)\n",
      "            Current function value: -3087.538635707541\n",
      "            Iterations: 13\n",
      "            Function evaluations: 190\n",
      "            Gradient evaluations: 9\n"
     ]
    },
    {
     "name": "stderr",
     "output_type": "stream",
     "text": [
      "C:\\Users\\jaeye\\Anaconda3\\lib\\site-packages\\arch\\univariate\\base.py:524: ConvergenceWarning: \n",
      "The optimizer returned code 8. The message is:\n",
      "Positive directional derivative for linesearch\n",
      "See scipy.optimize.fmin_slsqp for code meaning.\n",
      "\n",
      "  ConvergenceWarning)\n",
      "C:\\Users\\jaeye\\Anaconda3\\lib\\site-packages\\arch\\univariate\\base.py:524: ConvergenceWarning: \n",
      "The optimizer returned code 8. The message is:\n",
      "Positive directional derivative for linesearch\n",
      "See scipy.optimize.fmin_slsqp for code meaning.\n",
      "\n",
      "  ConvergenceWarning)\n",
      "C:\\Users\\jaeye\\Anaconda3\\lib\\site-packages\\arch\\univariate\\base.py:524: ConvergenceWarning: \n",
      "The optimizer returned code 8. The message is:\n",
      "Positive directional derivative for linesearch\n",
      "See scipy.optimize.fmin_slsqp for code meaning.\n",
      "\n",
      "  ConvergenceWarning)\n",
      "C:\\Users\\jaeye\\Anaconda3\\lib\\site-packages\\arch\\univariate\\base.py:524: ConvergenceWarning: \n",
      "The optimizer returned code 8. The message is:\n",
      "Positive directional derivative for linesearch\n",
      "See scipy.optimize.fmin_slsqp for code meaning.\n",
      "\n",
      "  ConvergenceWarning)\n",
      "C:\\Users\\jaeye\\Anaconda3\\lib\\site-packages\\arch\\univariate\\base.py:524: ConvergenceWarning: \n",
      "The optimizer returned code 8. The message is:\n",
      "Positive directional derivative for linesearch\n",
      "See scipy.optimize.fmin_slsqp for code meaning.\n",
      "\n",
      "  ConvergenceWarning)\n",
      "C:\\Users\\jaeye\\Anaconda3\\lib\\site-packages\\arch\\univariate\\base.py:524: ConvergenceWarning: \n",
      "The optimizer returned code 8. The message is:\n",
      "Positive directional derivative for linesearch\n",
      "See scipy.optimize.fmin_slsqp for code meaning.\n",
      "\n",
      "  ConvergenceWarning)\n",
      "C:\\Users\\jaeye\\Anaconda3\\lib\\site-packages\\arch\\univariate\\base.py:524: ConvergenceWarning: \n",
      "The optimizer returned code 8. The message is:\n",
      "Positive directional derivative for linesearch\n",
      "See scipy.optimize.fmin_slsqp for code meaning.\n",
      "\n",
      "  ConvergenceWarning)\n",
      "C:\\Users\\jaeye\\Anaconda3\\lib\\site-packages\\arch\\univariate\\base.py:524: ConvergenceWarning: \n",
      "The optimizer returned code 8. The message is:\n",
      "Positive directional derivative for linesearch\n",
      "See scipy.optimize.fmin_slsqp for code meaning.\n",
      "\n",
      "  ConvergenceWarning)\n"
     ]
    }
   ],
   "source": [
    "aic = np.zeros((5,5))\n",
    "for i in range(1,6):\n",
    "    for j in range(1,6):\n",
    "        garch11 = arch_model(data, p=i,q=j)\n",
    "        res = garch11.fit(update_freq=5)\n",
    "        aic[i-1,j-1] = res.aic    "
   ]
  },
  {
   "cell_type": "code",
   "execution_count": 43,
   "metadata": {},
   "outputs": [
    {
     "data": {
      "text/plain": [
       "array([[False, False, False, False, False],\n",
       "       [False, False,  True, False, False],\n",
       "       [False, False, False, False, False],\n",
       "       [False, False, False, False, False],\n",
       "       [False, False, False, False, False]])"
      ]
     },
     "execution_count": 43,
     "metadata": {},
     "output_type": "execute_result"
    }
   ],
   "source": [
    "np.min(aic)==aic\n",
    "# The best one is (p=2,q=3) in terms of AIC score."
   ]
  },
  {
   "cell_type": "code",
   "execution_count": 12,
   "metadata": {},
   "outputs": [],
   "source": [
    "forecasts = res.forecast()"
   ]
  },
  {
   "cell_type": "code",
   "execution_count": 16,
   "metadata": {},
   "outputs": [
    {
     "name": "stdout",
     "output_type": "stream",
     "text": [
      "              h.1\n",
      "999 -3.821813e-18\n",
      "          h.1\n",
      "999  0.000137\n",
      "          h.1\n",
      "999  0.000137\n"
     ]
    }
   ],
   "source": [
    "print(forecasts.mean[-1:])\n",
    "print(forecasts.residual_variance.iloc[-1:])\n",
    "print(forecasts.variance.iloc[-1:])"
   ]
  },
  {
   "cell_type": "code",
   "execution_count": 17,
   "metadata": {
    "collapsed": true
   },
   "outputs": [],
   "source": [
    "from matplotlib import pyplot as plt"
   ]
  },
  {
   "cell_type": "code",
   "execution_count": 31,
   "metadata": {},
   "outputs": [
    {
     "data": {
      "image/png": "[encoded data removed]",
      "text/plain": [
       "<matplotlib.figure.Figure at 0x1e916ccdeb8>"
      ]
     },
     "metadata": {},
     "output_type": "display_data"
    }
   ],
   "source": [
    "plt.scatter(x=data.index, y=data)\n",
    "plt.show()\n",
    "pass"
   ]
  },
  {
   "cell_type": "code",
   "execution_count": 32,
   "metadata": {},
   "outputs": [
    {
     "data": {
      "image/png": "[encoded data removed]",
      "text/plain": [
       "<matplotlib.figure.Figure at 0x1e9177bfb00>"
      ]
     },
     "metadata": {},
     "output_type": "display_data"
    }
   ],
   "source": [
    "plt.plot(x=data.index, y=data)\n",
    "plt.show()\n",
    "pass"
   ]
  },
  {
   "cell_type": "code",
   "execution_count": null,
   "metadata": {
    "collapsed": true
   },
   "outputs": [],
   "source": []
  }
 ],
 "metadata": {
  "kernelspec": {
   "display_name": "Python 3",
   "language": "python",
   "name": "python3"
  },
  "language_info": {
   "codemirror_mode": {
    "name": "ipython",
    "version": 3
   },
   "file_extension": ".py",
   "mimetype": "text/x-python",
   "name": "python",
   "nbconvert_exporter": "python",
   "pygments_lexer": "ipython3",
   "version": "3.6.3"
  }
 },
 "nbformat": 4,
 "nbformat_minor": 2
}
