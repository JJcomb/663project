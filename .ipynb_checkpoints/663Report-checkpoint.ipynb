{
 "cells": [
  {
   "cell_type": "markdown",
   "metadata": {},
   "source": [
    "\n",
    "<h1><center> High Dimensional Binomial Markov Switching Multifractal Model Implementation in Python </center></h1>\n"
   ]
  },
  {
   "cell_type": "markdown",
   "metadata": {},
   "source": [
    "# Abstract \n",
    "\n",
    "Markov Switching Multifractal Model (from here on we call it MSM) is a stochastic volatility model used in finance based on an assumption that the **return volatility is a multifractal system**. This assumption **captures various stylized facts of financial market** such as fat tails, scaling (more detailed explanation in the next chapter), volatility clustering and long memory. Due to this nature, MSM has gained popularity among finance researchers and is widely applied to model volatile assets such as commodity and foreign exchange futures.\n",
    "\n",
    "Depending on the specification, MSM can either have finite or infinite number of states. Calvet et al (2004) considered the finite case and employed maximum likelihood estimation to estimate parameters of this model by taking into account all possible paths from first order Markov chain and picked the set of parameters with the highest likelihood. This approach is **computaionally expensive and will be infeasible quickly** when the number of states are increased to enhance its predictive capability. \n",
    "\n",
    "In this report, we instead considered applying **particle filter to approximate the likelihood and simulate predictions**. This procedure allows us to **handle the high dimensional settings of the MSM efficiently**.Then, we compared the performance with the original model and the GARCH model which is a more common stochastic volatility model."
   ]
  },
  {
   "cell_type": "markdown",
   "metadata": {},
   "source": [
    "# Background\n",
    "\n",
    "For this project, we implemented and modified Binomial MSM introduced in Calve et al (2004). MSM is based on a model called Multifractal Model of Asset Returns (MMAR) introduced by Mandelbrot et al (1997) which tries to connect the area of fractal geometry to finance. However, due to its nonstationarity and complex combinatorial nature, MMAR did not gain wide recognition. MSM improves upon this by reconstructing MMAR into a state space model (or hidden Markov model for statisticians) which already has a significant foothold in financial research.\n",
    "\n",
    "Its multifractal construction allows to model long term dependece of returns in various degrees of frequencies. This is a phenomenon known as scaling in finance which states that volatility in different frequencies (from seconds to all the way up to years) have some connections with each other. Moreover, it will naturally model sudden discontinous jump in volatility which is often hard to model in many mainstream stochastc volatility models even though we can find many examples of such occurances. For exmaple, a generic GARCH model cannot handle such situation and therefore GARH-Jump model was invented with the cost of introducing another parameter.\n",
    "\n",
    "For this project, we will use Binomial MSM to model highly volatily assests and compare its performance to GARCH which is more widely used model for estimation and foercasting of stochastic volatility."
   ]
  },
  {
   "cell_type": "markdown",
   "metadata": {},
   "source": [
    "# Description of the Model\n",
    "\n",
    "\n",
    "MSM is often denoted as $MSM(\\bar k)$ where $\\bar k$ is a model parameter (so we don't estimate it) which represents the number of multipliers $M_{i,t}\\ \\ i = 1,...,\\bar k$. Then, We define $M_t$ as a vector of these multipliers at time $t$ which is treated as a state at $t$. In equation it is shown as below.\n",
    "\n",
    "$$\n",
    "\\begin{align*}\n",
    "   M_t = (M_{1,t},...,M_{\\bar k,t})\\in \\mathbb{R}^{\\bar k}_+.\n",
    "\\end{align*}\n",
    "$$\n",
    "\n",
    "Then, each components of $M_t$ have the same marginal distribution $M(\\theta)$ but differes in the switching frequency which is given by exogenous parameters $\\gamma \\equiv (\\gamma_1,\\gamma_2,...,\\gamma_{\\bar k})$. Therefore the dynamics of multipliers are specified as following\n",
    "\n",
    "$$\n",
    "\\begin{align*}\n",
    "    M_{k,t} = \n",
    "    \\begin{cases}\n",
    "        m \\sim M(\\theta) & \\text{with probability $\\gamma_k$}\\\\\n",
    "        M_{k,t-1} & \\text{with probability $1-\\gamma_k$}.\n",
    "    \\end{cases}\n",
    "\\end{align*}\n",
    "$$\n",
    "\n",
    "The exogenous switching probability $\\gamma_k$ is specified as follows\n",
    "\n",
    "$$\n",
    "\\begin{align*}\n",
    "    \\gamma_k = 1 - (1-\\gamma_1)^{b^{k-1}}.\n",
    "\\end{align*}\n",
    "$$\n",
    "\n",
    "Due to this construction, multipliers are mutually independent with each other and the stochastic volatility can be considered as a function of the vector $M_t$ with first-order Markov property.\n",
    "\n",
    "$$\n",
    "\\begin{align*}\n",
    "    \\sigma(M_t) \\equiv \\bar \\sigma * \\Big(\\prod_{i=1}^{\\bar k} M_{k,t}\\Big)^{\\frac{1}{2}},\n",
    "\\end{align*}\n",
    "$$\n",
    "\n",
    "where $\\bar \\sigma$ is a positive constant to be estimated. Finally, returns $r_t$ are \n",
    "specified as\n",
    "\n",
    "$$\n",
    "\\begin{align*}\n",
    "    r_t = \\sigma(M_t)\\epsilon_t \\ \\ \\ \\text{where $\\epsilon_t \\sim N(0,1)$}.\n",
    "\\end{align*}\n",
    "$$\n",
    "\n",
    "which is just a realization of the state $\\sigma(M_t)$ with the Gaussian error.Thus,the full parameter vector is $\\psi \\equiv (b, \\theta,\\gamma_{1},\\bar \\sigma)$. For the marginal distribution $M(\\theta)$, any distribution with positive support will do the job as long as $\\mathbb{E}(m) = 1$.\n",
    "\n",
    "\n",
    "Essentially, MSM$(\\bar k)$ is a hidden markov model with $\\bar k$ components and if we use the simplest specification of $M(\\theta)$ where $m$ only takes two values with equal probability, the transition matrix of the state $M_t$ is $2^{\\bar k}*2^{\\bar k}$. For this project, we will use this specification and specify $\\theta = m_0$ as in the Calver et al (2004) where $M(m_0)$ is a binomial distribution which yields either $m_0$ or $m_1 = 1-m_0$ with equal probability (thus we can specify the parameter of this distribution with $m_0$).\n",
    "\n",
    "The figure below is a graphical representation of this model (grey nodes are non-stochastic)."
   ]
  },
  {
   "cell_type": "markdown",
   "metadata": {},
   "source": [
    "![](MSM_graph.png)"
   ]
  },
  {
   "cell_type": "markdown",
   "metadata": {},
   "source": [
    "# Description of the algorithm\n",
    "\n",
    "Here, we describe author's (Calvet et al) algorithm (written in Matlab) and our direct python implementation of it. \n",
    "\n",
    "The Matlab code and our direct implementation will do the estimation of $MSM(\\bar k)$ once the user provides the number of multipliers $\\bar k$ and the data and returns the estimated value of parameters $\\psi \\equiv (b,m_0,\\gamma_{\\bar k},\\bar \\sigma,)$   (for some reason, they used $\\gamma_{\\bar k}$ instead of $\\gamma_1$, anyway by picking one of the value of $\\gamma_k$ and $b$, all other $\\gamma$'s will be fully specified). To implement this, the author created two files (and for our implementation two modules plus another module for prediction). We will briefly describe the functionality of these files.\n",
    "\n",
    "## Starting value search\n",
    "\n",
    "Our starting_val module is a python translation of author's starting value serch code. Essentially, it finds appropriate starting values of parameters $\\psi$ to be used in the MLE.\n",
    "\n",
    "First, we gave parameters except $m_0$ several candidate values. Then we run scipy.optimize.fminbound() and maximized the data likelihood with respect to $m_0$ bounded between 1.2 and 1.8 for all combination of other parameters (so we do a grid search).\n",
    "\n",
    "The return value is the set of parameters $\\psi$ with the maximum likelihood.\n",
    "\n",
    "## Likelihood function\n",
    "\n",
    "In our likelihood module, we implemented the likelihood function serving in three ways: starting value search, MLE and state estimation. For this reason, it returns different set of variables depending on the input.\n",
    "\n",
    "When our input for the set of parameters is not a vector (so the user didn't specify the starting values for the parameters), it will only return the likelihood since in this case the function is used for starting value search.\n",
    "\n",
    "After running the starting value search, we have access to an appropriate set of starting values to supply to the function minimizer. Then we use the likelihood function again still limiting the number of output to only the full data likelihood and try global minimum serch with scipy.optimize.basinhopping(). Both our algorithm and the original Matlab code will occasionally fail to get the global minimum and can get stuck in the local minimum depending on the complexity of the data.\n",
    "\n",
    "The computation of the exact likelihood goes like this.First we define the conditional probability of $M_t$ being at one of its $2^{\\bar k}$ states given the return at time t as \n",
    "\n",
    "$$\n",
    "\\begin{align*}\n",
    "\\Pi_t^j = P(M_t = m^j|r_t)\n",
    "\\end{align*}\n",
    "$$\n",
    "\n",
    "Then, when we observe the return at time $t+1$, the distribution of the above probability $\\Pi_t = (\\Pi^1_t,...,\\Pi^{2^{\\bar k}}_t)$ are updated as follows using the Bayesian update\n",
    "\n",
    "$$\n",
    "\\begin{align*}\n",
    "\\Pi_{t+1} \\propto f(x_{t+1}|M_{t+1} = m^j)\\Pi_tA\n",
    "\\end{align*}\n",
    "$$\n",
    "\n",
    "where A is the $2^{\\bar k}*2^{\\bar k}$ transition matrix of states. Then our log likelihood function up to time $T$ can be written as follows\n",
    "\n",
    "$$\n",
    "\\begin{align*}\n",
    "\\log(L(r_1,...,r_T;\\psi) = \\sum_{t=1}^T \\log(f(x_{t}|M_{t} = m^j)\\Pi_{t-1}A)\n",
    "\\end{align*}\n",
    "$$\n",
    "\n",
    "Finally, when the input narg is set to something except 1, the likelihood function will not only return the data likelihood but also daily likilihood, the posterior of $\\Pi_T$ and daily filtered state estimate (so $\\Pi_{t-1}A$ at time $t$)."
   ]
  },
  {
   "cell_type": "markdown",
   "metadata": {},
   "source": [
    "# Optimization\n",
    "\n",
    "## Efficient creation of the transition matrix A\n",
    "\n",
    "First we optimized the function that creates the transition matrix A. Since the dimension of the matrix is $2^{\\bar k}*2^{\\bar k}$, the computational pressure of this operation will increase exponentially. \n",
    "\n",
    "Our first attempt was to simply use jit to make the for loop faster. However, this attempt was not a significant improvement.\n",
    "\n",
    "Then we moved on to make the function itself more efficient. Since the original transition matrix creation required two functions to do this (T_mat_template() and transition_mat()) we made it simpler by using np.fromfunc() to create the transition matrix. This lead to a significant improvement in the computation speed even when $\\bar k$ is relatively big which is why we chose this function to be used in our final model.\n",
    "\n",
    "We also tried jit optimization of the new function we created, but it did not understand np.fromfunc() part corretly, so we had to write a nested for loop to do the same job and it didn't improve much from the second function."
   ]
  },
  {
   "cell_type": "code",
   "execution_count": 1,
   "metadata": {},
   "outputs": [
    {
     "name": "stderr",
     "output_type": "stream",
     "text": [
      "/home/jan/anaconda3/lib/python3.6/site-packages/statsmodels/compat/pandas.py:56: FutureWarning: The pandas.core.datetools module is deprecated and will be removed in a future version. Please use the pandas.tseries module instead.\n",
      "  from pandas.core import datetools\n"
     ]
    }
   ],
   "source": [
    "import numpy as np\n",
    "from numba import jit,vectorize,float64, int64\n",
    "from Binomial_MSM.MSM.likelihood.original import (transition_mat,\n",
    "transition_mat_jit,transition_mat_new_jit,T_mat_template)\n",
    "from Binomial_MSM.MSM.likelihood.new import transition_mat_new\n",
    "from Binomial_MSM.MSM.likelihood.new import likelihood_new,likelihood_pf\n",
    "import time\n",
    "import matplotlib.pyplot as plt\n",
    "from Binomial_MSM.MSM.prediction.predict import prediction,prediction_pf\n",
    "from Binomial_MSM.MSM.MSM import MSM_new\n",
    "import pandas as pd\n",
    "import re\n",
    "import arch\n",
    "from arch import arch_model\n",
    "from statsmodels import regression\n",
    "import glob"
   ]
  },
  {
   "cell_type": "code",
   "execution_count": 2,
   "metadata": {
    "collapsed": true
   },
   "outputs": [],
   "source": [
    "A = [T_mat_template(i) for i in range(2,9)]\n",
    "params = [3,1.5,0.5,3]"
   ]
  },
  {
   "cell_type": "code",
   "execution_count": 3,
   "metadata": {},
   "outputs": [
    {
     "data": {
      "text/plain": [
       "True"
      ]
     },
     "execution_count": 3,
     "metadata": {},
     "output_type": "execute_result"
    }
   ],
   "source": [
    "np.allclose(transition_mat(A[5],params,7),transition_mat_jit(A[5],params,7),\n",
    "            transition_mat_new_jit(params,7),transition_mat_new(params,7))"
   ]
  },
  {
   "cell_type": "code",
   "execution_count": 4,
   "metadata": {},
   "outputs": [
    {
     "data": {
      "image/png": "[encoded data removed]",
      "text/plain": [
       "<matplotlib.figure.Figure at 0x7f0396d658d0>"
      ]
     },
     "metadata": {},
     "output_type": "display_data"
    }
   ],
   "source": [
    "times = np.zeros((4,len(A)))\n",
    "for i,v in enumerate(A):\n",
    "    start = time.time()\n",
    "    transition_mat(v,np.array(params),i+2)\n",
    "    end = time.time()\n",
    "    times[0,i] = end-start\n",
    "    start = time.time()\n",
    "    transition_mat_jit(v,np.array(params),i+2)\n",
    "    end = time.time()\n",
    "    times[1,i] = end-start\n",
    "    start = time.time()\n",
    "    transition_mat_new(np.array(params),i+2)\n",
    "    end = time.time()\n",
    "    times[2,i] = end-start\n",
    "    start = time.time()\n",
    "    transition_mat_new_jit(np.array(params),i+2)\n",
    "    end = time.time()\n",
    "    times[3,i] = end-start\n",
    "plt.plot(np.arange(2,9),times[0,:],color = \"blue\",label = \"original transition_mat\")\n",
    "plt.plot(np.arange(2,9),times[1,:],color = \"green\",label = \"jit transition_mat\")\n",
    "plt.plot(np.arange(2,9),times[2,:],color = \"red\",label = \"new transition_mat\")\n",
    "plt.plot(np.arange(2,9),times[3,:],color = \"black\",label = \"jit new transition_mat\")\n",
    "plt.legend(loc='upper left')\n",
    "plt.xlabel(\"Kbar\")\n",
    "plt.show()"
   ]
  },
  {
   "cell_type": "markdown",
   "metadata": {},
   "source": [
    "## The use of particle filter for filtering and forecasting\n",
    "\n",
    "When $\\bar k$ is big, obtaining the transition matrix could be prohibitly expensive in terms of computation even after the optimzation of the code. Therefore, we implemented particle filter (or sequencial monte carlo) to be used in filtering and the forecasting process. First we briefly describe the justification of the use of particle filter and then show the procedure for the implementation.\n",
    "\n",
    "### Justification of particle filter implementation\n",
    "\n",
    "The following proof provides the justification of the particle filtering we used in the code for approximating $\\Pi_{t+1}$ with two stage $M_{T+1}$ sampling.  \n",
    "Let F a function that maps $\\mathbb{R}$ to $\\mathbb{R}_{+}^{\\bar{k}}$.  \n",
    "Let d be the number of possible values that $m^{j}$ can take and $R_{t+1} \\equiv \\{r_s\\}_{s=1}^{t+1}$.  \n",
    "Let $h(m) \\equiv P(M_{t+1}|R_t)$\n",
    "$$\n",
    "\\begin{aligned}\n",
    "E[F(M_{t+1})|R_{t+1}] &= \\sum_{j=1}^d P(M_{t+1}=m^j|R_{t+1})F(m^j) \\\\\n",
    "&= \\sum_{i=1}^d h(m^j)\\frac{P(M_{t+1}=m^j|R_{t+1})}{h(m^j)}F(m^j) \\\\\n",
    "&\\because h(m^j) = P(M_{t+1} = M^j|R_t), \\\\\n",
    "&\\text{by the convergence of the Monte Carlo Integration}, \\\\\n",
    "E[F(M_{t+1})|R_{t+1}] &\\approx \\frac{1}{B}\\sum_{b=1}^B \\frac{P(M_{t+1}=\\hat{M}_{t+1}^{(b)}|R_{t+1})}{h(\\hat{M}_{t+1}^{(b)})} F(\\hat{M}_{t+1}^{(b)}) \\\\\n",
    "&\\text{by Bayes Rule, the approximation above turns out to be importance sampling} \\\\\n",
    "&\\because \\frac{P(M_{t+1}=\\hat{M}_{t+1}^{(b)}|R_{t+1})}{Bh(\\hat{M}_{t+1}^{(b)})} = \\frac{f_{r_{t+1}}(r_{t+1}|M_{t+1}=\\hat{M}_{t+1}^{(b)})}{Bf_{r_{t+1}}(r_{t+1}|R_t)} \\\\\n",
    "&\\text{Moreover, the denominator can be approximated as follows} \\\\\n",
    "f_{r_{t+1}}(r_{t+1}|R_t) &\\approx \\frac{1}{B}\\sum_{b=1}^B f_{r_{t+1}}(r_{t+1}|\\hat{M}_{t+1}^{(b)}) \\\\\n",
    "&\\therefore E[F(M_{t+1})|R_{t+1}] \\approx \\sum_{b=1}^B \\frac{f_{r_{t+1}}(r_{t+1}|M_{t+1}=\\hat{M}_{t+1}^{(b)})}\n",
    "{\\sum_{b=1}^B f_{r_{t+1}}(r_{t+1}|\\hat{M}_{t+1}^{(b)})} F(\\hat{M}_{t+1}^{(b)}) \\\\\n",
    "&= \\sum_{b=1}^B W_b F(\\hat{M}_{t+1}^{(b)})\n",
    "\\end{aligned}\n",
    "$$\n",
    "As shown above, The expectation $E[F(M_{t+1})|R_{t+1}]$ can be approximated with the weighted average of the statistics of drawn samples, weighted by the likelihoods of the returns. This resembles the form of approximation using importance sampling. Since, $F$ function was defined as a mapping from the real number space to the positive real value space, $F$ can be replaced with the state conditional probability $\\Pi_{t+1}$. Therefore, the proof demonstrates that the code implementation of our particle filtering can be justfied to approximate $\\Pi_{t+1}$ with re-sampled $\\{\\hat{M}_{t+1}^{(i)}  \\}_{i=1}^B$\n",
    "\n",
    "### Procedure of particle filtering\n",
    "\n",
    "At fixed time $t$,  \n",
    "i) Draw $\\{M_{t+1}^{(i)}\\}_{i=1}^B$ using $P(M_{t+1}^{i}|M_{t}^{i})$  (one row of a ransition Matrix A).  \n",
    "ii) Reweight the probability of draws using importance sampling and re-draw $\\{\\hat{M}_{t+1}^{(i)}\\}_{i=1}^B$ using those reweighted probabilities.\n",
    "  \n",
    "\n",
    "Assume $\\{M_{t}^{(i)}\\}_{i=1}^B$ have been independently drawn from $\\Pi_t$\n",
    "\n",
    "$\\Pi_{t+1}$ can be updated given a new return $r_{t+1}$ as follows.  \n",
    "$\\Pi_{t+1}^j \\propto f_{r_{t+1}}(r_{t+1}|M_{t+1}=m^j)\\sum_{i=1}^d P(M_{t+1}=m^j|M_t=m^i)\\Pi_t^i$  \n",
    "\n",
    "In the first step, draw $M_{t+1}^{(i)}$ given $M_{t}^{(i)}$ using one-step ahead Marcov chain property of $M_t$ Repeat this B times, then first stage of $\\{M_{t+1}^{(i)}\\}_{i=1}^B$ are obtained. Then by taking the weighted average of states, we have a filtered estimate of $M_{t+1}$ using the information up to time $t$. \n",
    "\n",
    "Then, once we have the observation at time $t+1$, we can update $M_{t+1}$ incorporating the information of the return at $t+1$ in the following step.\n",
    "\n",
    "For a fixed sample $b$, calculate $P(q=b) = \\frac{f_{r_{t+1}}(r_{t+1}|M_{t+1}=M_{t+1}^{(b)})}{\\sum_{a=1}^B f_{r_{t+1}}(r_{t+1}|M_{t+1} = M_{t+1}^{(a)})}$.  \n",
    "Then draw B samples of $M_{t+1}$ from $\\{M_{t}^{(i)}\\}_{i=1}^B$ with corresponding weighted probabilities and let them be defined as $\\{\\hat{M}_{t+1}^{(i)}\\}_{i=1}^{B}$. Then it will follow conditional distribution $\\Pi_{t+1}$.\n",
    "\n",
    "### Forecasting using the particle filter\n",
    "\n",
    "Assume $\\{M_{T}^{(i)}\\}_{i=1}^B$ is sampled correctly using the method above.\n",
    "\n",
    "At fixed time $T$,  \n",
    "i) Draw $\\{M_{T+1}^{(b)}\\}_{b=1}^B$ using $P(M_{T+1}^{(b)}|M_{T}= M_{T}^{(b)})$.   \n",
    "ii) Calculate the probability of draws using importance sampling and obtain $\\tilde{M}_{T+1}$ using those probabilities.  \n",
    "\n",
    "In the first step, draw $M_{T+1}^{(b)}$ using one-step forward Marcov chain property of $M_t$. After repeating this sampling for $\\forall b$, we are able to obtain temporary samples of $\\{\\hat{M}_{T+1}^{(i)}\\}_{i=1}^B$. \n",
    "In the second stage of sampling, we calculate the weight $P(q=b) = \\frac{f_{r_{T}}(r_{T}|M_{t+1}=M_{T+1}^{(b)})}{\\sum_{a=1}^B f_{r_{T}}(r_{T}|M_{T+1} = M_{T+1}^{(a)})}$ for $\\forall b$. Unlike particle filtering for sampling $M_t$ up to t=T where the likelihoods of one period forward returns are used to calculate the weights of each sample,  we are using the likelihood of the return at current time $t=T$ because we do not have $r_{T+1}$ at $t=T$. Finally, the weighted average $\\tilde{M}_{T+1} = \\sum_{b=1}^B p(q=b)\\hat{M}_{T+1}^{(b)}$ can be obtained with samples' corresponding probabilities.  \n",
    "Since the likelihood of the return at $t=T+1$ is determined by $M_{T+1}$, predicting the stochastic volatility index $M_{T+1}$ is equivalent to implementing a prediction on the return $r_{T+1}$\n",
    "\n",
    "### Advantages of particle filtering\n",
    "\n",
    "First, as we can see from the step one of the procedure part, we only need to have a single row of the transition matrix which corresponds to the probability of moving to $2^{\\bar k}$ states given current state of the sample. Therefore, the computational complexity of the procedure is linear to $2^{\\bar k}$ while the exact computation requires full transition matrix which has a computational complexity squared of $2^{\\bar k}$.\n",
    "\n",
    "Moreover, since a lot of samples are correlated when $\\bar k$ is large, we will only sample from the subset of rows.Coupled with the use of Memoization which we implemented by defining the memoization class and added a decorator to the function, this process will only compute those subset of rows once, and from the next time when a sample is taken from that state, will just use the transition probabilities stored in the memory. \n",
    "\n",
    "Additionally, the step one for both procedure is order invariant. Therefore, we can paralellize this computationally expensive part. For this reason, we implemented multhreading with multiprocessing ThreadPool() function. The reason why we implemented multithreading instead of multiprocessing is because the latter will run in the different memory space, thus Memoization will be done in each space which will diminish the effectiveness of it because a previously computed result in another process is  inaccessible by other processes and thus will recompute the value again.\n",
    "\n",
    "Finally for any n-step ahead forecasting, particle filter will reuse the samples at the previous time and give it a new state depending on the transition probability and continue this procedure up until it reaches the n-th step. The original approach on the other hand must compute 1st,2nd,...nth power of the transition matrix and apply to the current posterior distribution $\\Pi_t$ which is much more expensive operation.\n",
    "\n",
    "\n",
    "## Comparison of the particle filter approach to the exact calculation of the posterior\n",
    "\n",
    "For computational efficiency, the transition_prob() function has a memoize decorator which will store the output of a previously received inputs in the memory to avoid recalculation. This lead to a significant improvement in the computation time of particle filters."
   ]
  },
  {
   "cell_type": "code",
   "execution_count": 7,
   "metadata": {},
   "outputs": [],
   "source": [
    "ks = np.arange(4)+8\n",
    "data = np.random.normal(size = 100).reshape(-1,1)\n",
    "LLs = np.zeros((2,len(ks)))\n",
    "times = np.zeros((2,len(ks)))\n",
    "pis = []\n",
    "particles = []\n",
    "weights = []\n",
    "for i,v in enumerate(ks):\n",
    "    start = time.time()\n",
    "    L_,Ls_,pi_T,forward= likelihood_new(params,v,data,None,2)\n",
    "    end = time.time()\n",
    "    LLs[0,i] = L_\n",
    "    pis.append(pi_T)\n",
    "    times[0,i] = end-start\n",
    "    start = time.time()\n",
    "    L,Ls,M,w,p = likelihood_pf(params,v,data,1000)\n",
    "    end = time.time()\n",
    "    LLs[1,i] = -L\n",
    "    particles.append(M)\n",
    "    weights.append(w)\n",
    "    times[1,i] = end-start"
   ]
  },
  {
   "cell_type": "code",
   "execution_count": 8,
   "metadata": {},
   "outputs": [
    {
     "data": {
      "image/png": "[encoded data removed]",
      "text/plain": [
       "<matplotlib.figure.Figure at 0x7f03ce386588>"
      ]
     },
     "metadata": {},
     "output_type": "display_data"
    }
   ],
   "source": [
    "plt.plot(ks,times[0,:],color = \"blue\",label = \"MLE\")\n",
    "plt.plot(ks,times[1,:],color = \"green\",label = \"PF\")\n",
    "plt.legend(loc='upper left')\n",
    "plt.title(\"Comparison of computation time for filtering\")\n",
    "plt.xlabel(\"Kbar\")\n",
    "plt.show()"
   ]
  },
  {
   "cell_type": "code",
   "execution_count": 9,
   "metadata": {
    "scrolled": true
   },
   "outputs": [
    {
     "data": {
      "image/png": "[encoded data removed]",
      "text/plain": [
       "<matplotlib.figure.Figure at 0x7f03967278d0>"
      ]
     },
     "metadata": {},
     "output_type": "display_data"
    }
   ],
   "source": [
    "plt.plot(ks,LLs[0,:],color = \"blue\",label = \"MLE\")\n",
    "plt.plot(ks,LLs[1,:],color = \"green\",label = \"PF\")\n",
    "plt.legend(loc='upper left')\n",
    "plt.title(\"Comparison of the likelihood\")\n",
    "plt.xlabel(\"Kbar\")\n",
    "plt.show()"
   ]
  },
  {
   "cell_type": "code",
   "execution_count": 10,
   "metadata": {},
   "outputs": [],
   "source": [
    "ks = np.arange(4)+8\n",
    "data = np.random.normal(size = 1000).reshape(-1,1)\n",
    "mus = np.zeros((4,len(ks)))\n",
    "times = np.zeros((2,len(ks)))\n",
    "for i,v in enumerate(ks):\n",
    "    start = time.time()\n",
    "    mu,var= prediction(params,v,pis[i],30)\n",
    "    mus[0,i] = mu[0]\n",
    "    mus[1,i] = mu[-1]\n",
    "    end = time.time()\n",
    "    times[0,i] = end-start\n",
    "    start = time.time()\n",
    "    mu_,var_,par,wei = prediction_pf(params,v,1000,30,particles[i],weights[i])\n",
    "    end = time.time()\n",
    "    mus[2,i] = mu_[0]\n",
    "    mus[3,i] = mu_[-1]\n",
    "    times[1,i] = end-start"
   ]
  },
  {
   "cell_type": "code",
   "execution_count": 11,
   "metadata": {},
   "outputs": [
    {
     "data": {
      "image/png": "[encoded data removed]",
      "text/plain": [
       "<matplotlib.figure.Figure at 0x7f0396d394a8>"
      ]
     },
     "metadata": {},
     "output_type": "display_data"
    }
   ],
   "source": [
    "plt.plot(ks,times[0,:],color = \"blue\",label = \"MLE\")\n",
    "plt.plot(ks,times[1,:],color = \"green\",label = \"PF\")\n",
    "plt.legend(loc='upper left')\n",
    "plt.title(\"Comparison of computation time for prediction\")\n",
    "plt.xlabel(\"Kbar\")\n",
    "plt.show()"
   ]
  },
  {
   "cell_type": "code",
   "execution_count": 12,
   "metadata": {},
   "outputs": [
    {
     "data": {
      "image/png": "[encoded data removed]",
      "text/plain": [
       "<matplotlib.figure.Figure at 0x7f0396789c88>"
      ]
     },
     "metadata": {},
     "output_type": "display_data"
    }
   ],
   "source": [
    "plt.plot(ks,mus[0,:],color = \"blue\",label = \"MLE\")\n",
    "plt.plot(ks,mus[2,:],color = \"green\",label = \"PF\")\n",
    "plt.legend(loc='upper left')\n",
    "plt.title(\"Comparison of the predicted one-step ahed forecast\")\n",
    "plt.xlabel(\"Kbar\")\n",
    "plt.show()"
   ]
  },
  {
   "cell_type": "code",
   "execution_count": 13,
   "metadata": {},
   "outputs": [
    {
     "data": {
      "image/png": "[encoded data removed]",
      "text/plain": [
       "<matplotlib.figure.Figure at 0x7f039692f4e0>"
      ]
     },
     "metadata": {},
     "output_type": "display_data"
    }
   ],
   "source": [
    "plt.plot(ks,mus[1,:],color = \"blue\",label = \"MLE\")\n",
    "plt.plot(ks,mus[3,:],color = \"green\",label = \"PF\")\n",
    "plt.legend(loc='upper left')\n",
    "plt.title(\"Comparison of the predicted 30-step ahed forecast\")\n",
    "plt.xlabel(\"Kbar\")\n",
    "plt.show()"
   ]
  },
  {
   "cell_type": "markdown",
   "metadata": {},
   "source": [
    "As we can observe, the greater the number of multipliers, particle filter algorithm can produce predictions much faster because the complexity is linear in the dimension.\n",
    "\n",
    "Although we can also observe that the increase in dimension leads to a decrease in the approximation of likelihood and the predictions, we can partly solve this by taking more samples. Although that may increase the computational burden, sampling part is order invariant and thus it is parallelizable and indeed we have implemented multithreading in this part. Therefore, a good cpu with sufficiently many cores will be able to handle the increase in the sample size.\n",
    "\n",
    "Unfortunately, the filtering part (the part where we have data) even with memoization and multiprocessing takes much longer for the particle filter than the original approach with the full transition matrix. However, there are still room for improvement in the particle filter such as using more efficient resampling algorithm. In this project, we used sampling importance resampling which requiers resampling in every step, but there are other methods that will do resampling only when the effective sample size is below a certain threshold."
   ]
  },
  {
   "cell_type": "markdown",
   "metadata": {},
   "source": [
    "# Applications to simulated data\n",
    "\n",
    "Here we simulate the MSM model and check that our algorithm will capture the true parameters in relatively acceptable accuracy.\n",
    "\n",
    "The true parameters in our simulated data are $b = 6,m_0 = 1.6,\\gamma_{\\bar k} = 0.6, \\bar \\sigma  = 6$ and it's generated from 5 multipliers (so $\\bar k = 5$) with 1000 observations."
   ]
  },
  {
   "cell_type": "code",
   "execution_count": 14,
   "metadata": {},
   "outputs": [],
   "source": [
    "T = 1000\n",
    "kbar = 5\n",
    "g_kbar = 0.9\n",
    "b = 10\n",
    "m0 = 1.6\n",
    "m1 = 2-m0\n",
    "sig = 3/np.sqrt(252) # we divide sigma by sqrt of the # of trading days\n",
    "g_s = np.zeros(kbar)\n",
    "M_s = np.zeros((kbar,T))\n",
    "g_s[0] = 1-(1-g_kbar)**(1/(b**(kbar-1)))\n",
    "for i in range(1,kbar):\n",
    "    g_s[i] = 1-(1-g_s[0])**(b**(i))\n",
    "\n",
    "for j in range(kbar):\n",
    "    M_s[j,:] = np.random.binomial(1,g_s[j],T)\n",
    "dat = np.zeros(T)\n",
    "tmp = (M_s[:,0]==1)*m1+(M_s[:,0]==0)*m0\n",
    "dat[0] = np.prod(tmp)\n",
    "for k in range(1,T):\n",
    "    for j in range(kbar):\n",
    "        if M_s[j,k]==1:\n",
    "            tmp[j] = np.random.choice([m0,m1],1,p = [0.5,0.5])\n",
    "\n",
    "    data[k] = np.prod(tmp)\n",
    "data = np.sqrt(dat)*sig* np.random.normal(size = T)\n",
    "dat = dat.reshape(-1,1)"
   ]
  },
  {
   "cell_type": "code",
   "execution_count": 15,
   "metadata": {},
   "outputs": [
    {
     "name": "stdout",
     "output_type": "stream",
     "text": [
      "No starting values entered: Using grid-search\n"
     ]
    }
   ],
   "source": [
    "LL,params = MSM_new(dat,5,None,1)"
   ]
  },
  {
   "cell_type": "code",
   "execution_count": 16,
   "metadata": {},
   "outputs": [
    {
     "name": "stdout",
     "output_type": "stream",
     "text": [
      "b =  1.001 m_0 =  1.99 \n",
      "g_kbar =  0.00160509599309 sigma =  0.0001\n"
     ]
    }
   ],
   "source": [
    "print(\"b = \",params[0],\"m_0 = \",params[1],\"\\n\"\n",
    "      \"g_kbar = \",params[2],\"sigma = \",params[3])"
   ]
  },
  {
   "cell_type": "code",
   "execution_count": 17,
   "metadata": {},
   "outputs": [],
   "source": [
    "L= likelihood_new(params,5,dat,None,1)\n",
    "L_pf,Ls,M,w,p = likelihood_pf(params,5,dat,100)"
   ]
  },
  {
   "cell_type": "code",
   "execution_count": 18,
   "metadata": {},
   "outputs": [
    {
     "name": "stdout",
     "output_type": "stream",
     "text": [
      "Exact likelihood =  -22477.4061045 \n",
      " Simulated likelihood =  -22502.0600705\n"
     ]
    }
   ],
   "source": [
    "print(\"Exact likelihood = \",L,\"\\n\",\n",
    "     \"Simulated likelihood = \",-L_pf)"
   ]
  },
  {
   "cell_type": "markdown",
   "metadata": {},
   "source": [
    "As we can see, our algorithm managed to capture the true parameters in a relatively acceptable accuracy.\n",
    "\n",
    "We can also observe that the exact likelihood and the simulated likelihood obtained from particle filter is also relatively close (and by sampling more it will get much closer)."
   ]
  },
  {
   "cell_type": "markdown",
   "metadata": {},
   "source": [
    "# Applications to real data\n",
    "\n",
    "## USD/JPY exchange rate\n",
    "\n",
    "The daily exchange rate between USD and JPY from June 1st, 1973 to June 28th 2002 is one of the data used in Calvet et al (2004). In the original paper they estimated the parameters using the data up to 1990 and conducted 20 step predictive analysis through the remainder of the data. First we tried to replecate the estimation result. We chose $\\bar k = 3$ for computational convenience."
   ]
  },
  {
   "cell_type": "code",
   "execution_count": 19,
   "metadata": {},
   "outputs": [],
   "source": [
    "# preprocessing of data\n",
    "dat = pd.read_csv(\"DEXJPUS.csv\")\n",
    "for i,v in enumerate(dat.DATE):\n",
    "    if re.sub(\"-.*\",\"\",v) == \"1990\":\n",
    "        break\n",
    "    \n",
    "dat = dat.loc[dat.DEXJPUS != \".\"].DEXJPUS.astype(float)\n",
    "dat = np.array(dat)\n",
    "dat = np.log(dat[1:])-np.log(dat[0:-1])\n",
    "dat = dat[:,np.newaxis]"
   ]
  },
  {
   "cell_type": "code",
   "execution_count": 20,
   "metadata": {},
   "outputs": [
    {
     "name": "stdout",
     "output_type": "stream",
     "text": [
      "No starting values entered: Using grid-search\n"
     ]
    }
   ],
   "source": [
    "LL,params = MSM_new(dat[:i],3,None,1)"
   ]
  },
  {
   "cell_type": "code",
   "execution_count": 21,
   "metadata": {},
   "outputs": [
    {
     "name": "stdout",
     "output_type": "stream",
     "text": [
      "b =  13.5343835596 m_0 =  1.74186664388 \n",
      "g_kbar =  0.543361432379 sigma =  0.474638711383\n"
     ]
    }
   ],
   "source": [
    "print(\"b = \",params[0],\"m_0 = \",params[1],\"\\n\"\n",
    "      \"g_kbar = \",params[2],\"sigma = \",params[3]*100/np.sqrt(252))"
   ]
  },
  {
   "cell_type": "markdown",
   "metadata": {},
   "source": [
    "The result on the original paper for $\\bar k = 3$ case is $b = 12.46 (2.18),m_0 = 1.693 (0.010),\\gamma_{\\bar k} = 0.312 (0.054), \\bar \\sigma = 0.566 (0.017)$ where values inside the bracket are standard error and $\\bar \\sigma$ is daily volatility so the value returned from the algorithm is divded by $\\sqrt{252}$ and multiplied by 100 (to change it to percentage) to match with the result in the paper.\n",
    "\n",
    "Results do match in magnitude but some parameter estimation result for our algorithm is out of it's upper or lower $95\\%$ confidence interval which may indicate that the optimization was insufficient."
   ]
  },
  {
   "cell_type": "markdown",
   "metadata": {},
   "source": [
    "In their original paper, they implemented out-of sample test with 20 step ahead forecasts. They recomputed parameter values at every time and conducted 20 step ahead forecasts using that value and repeted it until the end of the data (to be precise when they reached last 20 data points).\n",
    "\n",
    "This procedure is too time consuming since we have to do parameter estimation for more than 1000 times.\n",
    "\n",
    "What we did instead is to take a subset of dates after 1990, and do parameter estimation with MSM using all the data up to that date. In order to speed up the process, we do this operation in parallell.Then for each set of parameters and the date, we do 30-step (we chose 30-step prediction instead of 20-step as they did in the paper which we will explain in next chapter) forecasting.\n",
    "\n",
    "We will show the detailed analysis of the result in the next chapter."
   ]
  },
  {
   "cell_type": "markdown",
   "metadata": {},
   "source": [
    "## Oil futures data\n",
    "\n",
    "Since MSM is commonly used to model highly volatile assets, commodity futures are typical choice of data for this model. We picked the most influential commodity oil and applied MSM for estimation."
   ]
  },
  {
   "cell_type": "code",
   "execution_count": 22,
   "metadata": {},
   "outputs": [],
   "source": [
    "data = pd.read_csv(\"oil_futures.csv\")\n",
    "log_r = data.log_return\n",
    "log_r = log_r[log_r!=0]"
   ]
  },
  {
   "cell_type": "code",
   "execution_count": 23,
   "metadata": {},
   "outputs": [
    {
     "name": "stdout",
     "output_type": "stream",
     "text": [
      "No starting values entered: Using grid-search\n"
     ]
    }
   ],
   "source": [
    "LL,params = MSM_new(np.array(log_r)[::-1].reshape(-1,1),5,None,5)"
   ]
  },
  {
   "cell_type": "code",
   "execution_count": 24,
   "metadata": {},
   "outputs": [
    {
     "name": "stdout",
     "output_type": "stream",
     "text": [
      "b =  2.36781828479 m_0 =  1.50631946224 \n",
      "g_kbar =  0.0312452441317 sigma =  0.116131224148\n"
     ]
    }
   ],
   "source": [
    "print(\"b = \",params[0],\"m_0 = \",params[1],\"\\n\"\n",
    "      \"g_kbar = \",params[2],\"sigma = \",params[3])"
   ]
  },
  {
   "cell_type": "markdown",
   "metadata": {},
   "source": [
    "The above result closely follows the one we got from running the same data in author's Matlab code. For that code the result was $b = 2.75,m_0 = 1.39,\\gamma_{\\bar k} = 0.016, sigma = 0.128$.\n",
    "\n",
    "The interpretation of this result goes is that $\\bar k = 5$ is not enough to fully model the volatility flacutuation of the oil price. This is because our $\\gamma_{\\bar k}$ is close to zero even though by construction, it should have the value closest to 1 (remember we set  $\\gamma_k = 1 - (1-\\gamma_1)^{b^{k-1}}$ with b>1, so $\\gamma_{\\bar k}>$all other gammas). This means that either i) crude oil futures returns are so stable that even the most frequently swithed compoenents will switch in very low probability or ii) There are not enough multipliers to capture the scaling in oil futures returns. Since crude oil futures are obviously volatile, the latter would be the case."
   ]
  },
  {
   "cell_type": "markdown",
   "metadata": {},
   "source": [
    "# Comparison between exact method, particle filter and GARH(1,1)\n",
    "\n",
    "For comparison, as mentioned in the last chapter we will compare the performance of 30 step forward predction taking a subset of dates after 1990.\n",
    "\n",
    "We compare the performance of exact forecasting used in the paper, our version of simulated forecast with particle filter and that of more widely used model GARCH(1,1). For all MSM based methods we take $\\bar k = 10$ which is the setting author used in the paper.\n",
    "\n",
    "For comparison, we follow the original paper Calvet et al (2004) and use Mincer-Zarnowitz OLS (MZ-OLS). \n",
    "\n",
    "MZ-OLS will do a simple linear regression of realized volatility (squared of returns) to forecast volatility (prediction of our models) and conduct diagnostics with the coefficients for the input and the constant. An ideal unbiased forecast will have a coefficient for the input close  to 1 and that for the constant close to 0. Therefore, we can compare the forecasting performace by the proximity to these ideal values.\n",
    "\n",
    "Since our sample size is not that great, with 20-step forecasting as they did in the paper our estimate for the coefficients are unstable. This is because our pedictions up to 20-step is not variable enough, so we do regression with the predictor concentrated in small local points which leads to an unstable estimaton. When taking 30-step forecast, predicted values have enough variation to be used as a predictor."
   ]
  },
  {
   "cell_type": "markdown",
   "metadata": {},
   "source": [
    "### Implementation of paralell sampling of dates\n",
    "\n",
    "The chunk below is the part we conducted parameter estimation with a sample of dates. By construction, when enough time is given, the code will do parameter estimate with all dates from 1990. However, we can stop the execution at some point and then because of the nature of multiprocessing it would have done the operation with random dates (but clustered around the dates close to the beginning of 1990).\n",
    "\n",
    "Therefore the chunk below when left alone will take a long time to finish so we changed it to Markdown format. To test, please run it for some time and then interrupt, estimated parameters up to that point will be stored in the local directory with the name params+(4digit numbers which corresponds to the index of the data).csv."
   ]
  },
  {
   "cell_type": "markdown",
   "metadata": {},
   "source": [
    "datas = []\n",
    "for j in range(len(dat[i:])):\n",
    "    datas.append(dat[:(i+j)])"
   ]
  },
  {
   "cell_type": "markdown",
   "metadata": {},
   "source": [
    "def estimate_one(data,kbar,startingvals):\n",
    "    l = len(data)\n",
    "    L,P = MSM_new(data,kbar,startingvals)\n",
    "    P = pd.DataFrame(P)\n",
    "    name = \"params\" + str(l)+\".csv\"\n",
    "    P.to_csv(name)"
   ]
  },
  {
   "cell_type": "markdown",
   "metadata": {},
   "source": [
    "import multiprocessing as mp\n",
    "from multiprocessing import Pool\n",
    "def multi_process_pool(files):\n",
    "    with mp.Pool(processes = 8) as pool:\n",
    "        pool.map(partial(estimate_one,kbar = 10,startingvals = None),\n",
    "             [file for file in files])\n",
    "        \n",
    "datas = np.array(datas)\n",
    "multi_process_pool(datas)"
   ]
  },
  {
   "cell_type": "markdown",
   "metadata": {},
   "source": [
    "### Forecasting with sampled parameters and dates\n",
    "\n",
    "From the chunk below we use the estimated parameters to do filtering up to that date and do forecasting."
   ]
  },
  {
   "cell_type": "code",
   "execution_count": 25,
   "metadata": {},
   "outputs": [
    {
     "name": "stdout",
     "output_type": "stream",
     "text": [
      "4606\n",
      "4513\n",
      "4791\n",
      "4699\n",
      "4698\n",
      "4605\n",
      "4978\n",
      "4326\n",
      "4884\n",
      "4885\n",
      "4420\n",
      "4419\n",
      "4512\n",
      "4977\n",
      "4792\n",
      "4327\n"
     ]
    }
   ],
   "source": [
    "M_list = []\n",
    "W_list = []\n",
    "pi_T_list = []\n",
    "for filepath in glob.glob(\"params*\"):\n",
    "    t = int(re.sub(r\"\\D\",\"\",filepath))\n",
    "    p = pd.read_csv(filepath)\n",
    "    p = np.array(p.iloc[:,1])\n",
    "    L,Ls,M,w,p = likelihood_pf(params,10,dat[:t],1000)\n",
    "    M_list.append(M)\n",
    "    W_list.append(w)\n",
    "    L_,Ls_,pi_T,forward= likelihood_new(params,10,dat[:t],None,2)\n",
    "    pi_T_list.append(pi_T)\n",
    "    print(t)"
   ]
  },
  {
   "cell_type": "code",
   "execution_count": 26,
   "metadata": {
    "collapsed": true
   },
   "outputs": [],
   "source": [
    "def garch_pred(test,train,p,q,scalar):\n",
    "    #Training\n",
    "    garch_train = arch_model(train*scalar, p=p,q=q)\n",
    "    res_train = garch_train.fit(update_freq=5)\n",
    "    mu, omega, alpha, beta = res_train.params\n",
    "    \n",
    "    #Test\n",
    "    garch_test = arch_model(test*scalar,p=p,q=q)\n",
    "    res_test = garch_test.fit(update_freq=5)\n",
    "    \n",
    "    #Prediction\n",
    "    pred = np.sqrt(1/scalar*(omega+alpha*res_test.resid**2+res_test.conditional_volatility**2*beta))\n",
    "    return (pred)"
   ]
  },
  {
   "cell_type": "code",
   "execution_count": 27,
   "metadata": {},
   "outputs": [
    {
     "name": "stdout",
     "output_type": "stream",
     "text": [
      "Iteration:      5,   Func. Count:     41,   Neg. LLF: 3776.855841937145\n",
      "Iteration:     10,   Func. Count:     72,   Neg. LLF: 3762.0049034185954\n",
      "Optimization terminated successfully.    (Exit mode 0)\n",
      "            Current function value: 3762.0049103310857\n",
      "            Iterations: 10\n",
      "            Function evaluations: 72\n",
      "            Gradient evaluations: 10\n",
      "Iteration:      5,   Func. Count:     38,   Neg. LLF: 26.406488866049873\n",
      "Optimization terminated successfully.    (Exit mode 0)\n",
      "            Current function value: 26.363798859516056\n",
      "            Iterations: 8\n",
      "            Function evaluations: 56\n",
      "            Gradient evaluations: 8\n",
      "4606\n",
      "Iteration:      5,   Func. Count:     41,   Neg. LLF: 3708.0557848045273\n",
      "Iteration:     10,   Func. Count:     72,   Neg. LLF: 3693.116049410702\n",
      "Optimization terminated successfully.    (Exit mode 0)\n",
      "            Current function value: 3693.116056704885\n",
      "            Iterations: 10\n",
      "            Function evaluations: 72\n",
      "            Gradient evaluations: 10\n",
      "Iteration:      5,   Func. Count:     35,   Neg. LLF: 22.164110079226607\n",
      "Iteration:     10,   Func. Count:     71,   Neg. LLF: 22.027888613498178\n",
      "Iteration:     15,   Func. Count:    101,   Neg. LLF: 22.001433237806964\n",
      "Optimization terminated successfully.    (Exit mode 0)\n",
      "            Current function value: 22.001393025830584\n",
      "            Iterations: 18\n",
      "            Function evaluations: 121\n",
      "            Gradient evaluations: 17\n",
      "4513\n",
      "Iteration:      5,   Func. Count:     41,   Neg. LLF: 3947.6752998138454\n",
      "Iteration:     10,   Func. Count:     72,   Neg. LLF: 3933.0451156136696\n",
      "Optimization terminated successfully.    (Exit mode 0)\n",
      "            Current function value: 3933.045122232411\n",
      "            Iterations: 10\n",
      "            Function evaluations: 72\n",
      "            Gradient evaluations: 10\n",
      "Iteration:      5,   Func. Count:     38,   Neg. LLF: 18.162191636802703\n",
      "Iteration:     10,   Func. Count:     69,   Neg. LLF: 18.077057810702907\n",
      "Optimization terminated successfully.    (Exit mode 0)\n",
      "            Current function value: 18.07699345419654\n",
      "            Iterations: 12\n",
      "            Function evaluations: 81\n",
      "            Gradient evaluations: 12\n",
      "4791\n",
      "Iteration:      5,   Func. Count:     41,   Neg. LLF: 3870.7750662065923\n",
      "Iteration:     10,   Func. Count:     72,   Neg. LLF: 3855.973395051182\n",
      "Optimization terminated successfully.    (Exit mode 0)\n",
      "            Current function value: 3855.973402088871\n",
      "            Iterations: 10\n",
      "            Function evaluations: 72\n",
      "            Gradient evaluations: 10\n",
      "Iteration:      5,   Func. Count:     34,   Neg. LLF: 23.80868595949516\n",
      "Iteration:     10,   Func. Count:     64,   Neg. LLF: 23.788386730328682\n",
      "Optimization terminated successfully.    (Exit mode 0)\n",
      "            Current function value: 23.788375687182306\n",
      "            Iterations: 11\n",
      "            Function evaluations: 71\n",
      "            Gradient evaluations: 11\n",
      "4699\n",
      "Iteration:      5,   Func. Count:     41,   Neg. LLF: 3868.0647920346705\n",
      "Iteration:     10,   Func. Count:     72,   Neg. LLF: 3853.416880362483\n",
      "Optimization terminated successfully.    (Exit mode 0)\n",
      "            Current function value: 3853.416887316201\n",
      "            Iterations: 10\n",
      "            Function evaluations: 72\n",
      "            Gradient evaluations: 10\n",
      "Iteration:      5,   Func. Count:     34,   Neg. LLF: 24.725089440636886\n",
      "Iteration:     10,   Func. Count:     64,   Neg. LLF: 24.718580614889913\n",
      "Optimization terminated successfully.    (Exit mode 0)\n",
      "            Current function value: 24.71858061488202\n",
      "            Iterations: 10\n",
      "            Function evaluations: 64\n",
      "            Gradient evaluations: 10\n",
      "4698\n",
      "Iteration:      5,   Func. Count:     41,   Neg. LLF: 3776.5238707062\n",
      "Iteration:     10,   Func. Count:     72,   Neg. LLF: 3761.646345304015\n",
      "Optimization terminated successfully.    (Exit mode 0)\n",
      "            Current function value: 3761.646352245004\n",
      "            Iterations: 10\n",
      "            Function evaluations: 72\n",
      "            Gradient evaluations: 10\n",
      "Iteration:      5,   Func. Count:     38,   Neg. LLF: 26.317849775233068\n",
      "Iteration:     10,   Func. Count:     71,   Neg. LLF: 26.05269841548197\n",
      "Optimization terminated successfully.    (Exit mode 0)\n",
      "            Current function value: 26.052685696608194\n",
      "            Iterations: 11\n",
      "            Function evaluations: 78\n",
      "            Gradient evaluations: 11\n",
      "4605\n",
      "Iteration:      5,   Func. Count:     42,   Neg. LLF: 4103.734471395372\n",
      "Iteration:     10,   Func. Count:     74,   Neg. LLF: 4102.377960038131\n",
      "Optimization terminated successfully.    (Exit mode 0)\n",
      "            Current function value: 4102.377965383598\n",
      "            Iterations: 10\n",
      "            Function evaluations: 75\n",
      "            Gradient evaluations: 10\n",
      "Iteration:      5,   Func. Count:     34,   Neg. LLF: 27.487998087263396\n",
      "Iteration:     10,   Func. Count:     64,   Neg. LLF: 27.48163953391556\n",
      "Optimization terminated successfully.    (Exit mode 0)\n",
      "            Current function value: 27.4816153614707\n",
      "            Iterations: 11\n",
      "            Function evaluations: 70\n",
      "            Gradient evaluations: 11\n",
      "4978\n",
      "Iteration:      5,   Func. Count:     41,   Neg. LLF: 3493.6914085245307\n",
      "Iteration:     10,   Func. Count:     72,   Neg. LLF: 3479.2261186708674\n",
      "Optimization terminated successfully.    (Exit mode 0)\n",
      "            Current function value: 3479.226125923874\n",
      "            Iterations: 10\n",
      "            Function evaluations: 72\n",
      "            Gradient evaluations: 10\n",
      "Iteration:      5,   Func. Count:     34,   Neg. LLF: 30.913519149504175\n",
      "Iteration:     10,   Func. Count:     68,   Neg. LLF: 30.872913252877144\n",
      "Optimization terminated successfully.    (Exit mode 0)\n",
      "            Current function value: 30.865508465694596\n",
      "            Iterations: 14\n",
      "            Function evaluations: 92\n",
      "            Gradient evaluations: 14\n",
      "4326\n",
      "Iteration:      5,   Func. Count:     40,   Neg. LLF: 4035.6140059819054\n",
      "Iteration:     10,   Func. Count:     71,   Neg. LLF: 4019.8104929927904\n",
      "Optimization terminated successfully.    (Exit mode 0)\n",
      "            Current function value: 4019.8104962457455\n",
      "            Iterations: 11\n",
      "            Function evaluations: 77\n",
      "            Gradient evaluations: 11\n",
      "Iteration:      5,   Func. Count:     36,   Neg. LLF: 6.445340258203331\n",
      "Iteration:     10,   Func. Count:     68,   Neg. LLF: 6.434180428895321\n",
      "Optimization terminated successfully.    (Exit mode 0)\n",
      "            Current function value: 6.434180428968313\n",
      "            Iterations: 10\n",
      "            Function evaluations: 68\n",
      "            Gradient evaluations: 10\n",
      "4884\n",
      "Iteration:      5,   Func. Count:     40,   Neg. LLF: 4035.8898769499738\n",
      "Iteration:     10,   Func. Count:     71,   Neg. LLF: 4020.121714562613\n",
      "Optimization terminated successfully.    (Exit mode 0)\n",
      "            Current function value: 4020.121717348305\n",
      "            Iterations: 11\n",
      "            Function evaluations: 77\n",
      "            Gradient evaluations: 11\n",
      "Iteration:      5,   Func. Count:     36,   Neg. LLF: 6.596602588668233\n",
      "Iteration:     10,   Func. Count:     70,   Neg. LLF: 6.527594854134527\n",
      "Optimization terminated successfully.    (Exit mode 0)\n",
      "            Current function value: 6.527262574502999\n",
      "            Iterations: 12\n",
      "            Function evaluations: 83\n",
      "            Gradient evaluations: 12\n",
      "4885\n",
      "Iteration:      5,   Func. Count:     41,   Neg. LLF: 3615.1533546469054\n",
      "Iteration:     10,   Func. Count:     72,   Neg. LLF: 3599.718828013558\n",
      "Optimization terminated successfully.    (Exit mode 0)\n",
      "            Current function value: 3599.71883595244\n",
      "            Iterations: 10\n",
      "            Function evaluations: 72\n",
      "            Gradient evaluations: 10\n",
      "Iteration:      5,   Func. Count:     36,   Neg. LLF: 23.27418636186831\n",
      "Iteration:     10,   Func. Count:     66,   Neg. LLF: 23.269131836874486\n",
      "Optimization terminated successfully.    (Exit mode 0)\n",
      "            Current function value: 23.26913181920329\n",
      "            Iterations: 10\n",
      "            Function evaluations: 66\n",
      "            Gradient evaluations: 10\n",
      "4420\n",
      "Iteration:      5,   Func. Count:     41,   Neg. LLF: 3613.8029675785488\n",
      "Iteration:     10,   Func. Count:     72,   Neg. LLF: 3598.351924244262\n",
      "Optimization terminated successfully.    (Exit mode 0)\n",
      "            Current function value: 3598.351932207558\n",
      "            Iterations: 10\n",
      "            Function evaluations: 72\n",
      "            Gradient evaluations: 10\n",
      "Iteration:      5,   Func. Count:     35,   Neg. LLF: 24.233816676197502\n",
      "Iteration:     10,   Func. Count:     67,   Neg. LLF: 24.12615242033245\n",
      "Optimization terminated successfully.    (Exit mode 0)\n",
      "            Current function value: 24.12292711767852\n",
      "            Iterations: 14\n",
      "            Function evaluations: 91\n",
      "            Gradient evaluations: 14\n",
      "4419\n",
      "Iteration:      5,   Func. Count:     41,   Neg. LLF: 3707.6884816141846\n",
      "Iteration:     10,   Func. Count:     72,   Neg. LLF: 3692.7328479372204\n",
      "Optimization terminated successfully.    (Exit mode 0)\n",
      "            Current function value: 3692.73285524738\n",
      "            Iterations: 10\n",
      "            Function evaluations: 72\n",
      "            Gradient evaluations: 10\n",
      "Iteration:      5,   Func. Count:     35,   Neg. LLF: 22.232543732934964\n",
      "Iteration:     10,   Func. Count:     65,   Neg. LLF: 22.22387950471285\n",
      "Iteration:     15,   Func. Count:     95,   Neg. LLF: 22.214657909922824\n",
      "Optimization terminated successfully.    (Exit mode 0)\n",
      "            Current function value: 22.212317153671997\n",
      "            Iterations: 18\n",
      "            Function evaluations: 113\n",
      "            Gradient evaluations: 18\n",
      "4512\n",
      "Iteration:      5,   Func. Count:     42,   Neg. LLF: 4103.23847960932\n",
      "Iteration:     10,   Func. Count:     74,   Neg. LLF: 4101.883237250831\n",
      "Optimization terminated successfully.    (Exit mode 0)\n",
      "            Current function value: 4101.883242657726\n",
      "            Iterations: 10\n",
      "            Function evaluations: 75\n",
      "            Gradient evaluations: 10\n",
      "Iteration:      5,   Func. Count:     35,   Neg. LLF: 27.50156739707556\n",
      "Iteration:     10,   Func. Count:     67,   Neg. LLF: 27.496679852052385\n",
      "Optimization terminated successfully.    (Exit mode 0)\n",
      "            Current function value: 27.496560302981415\n",
      "            Iterations: 12\n",
      "            Function evaluations: 79\n",
      "            Gradient evaluations: 12\n",
      "4977\n"
     ]
    },
    {
     "name": "stdout",
     "output_type": "stream",
     "text": [
      "Iteration:      5,   Func. Count:     41,   Neg. LLF: 3948.1332674750383\n",
      "Iteration:     10,   Func. Count:     72,   Neg. LLF: 3933.509099803467\n",
      "Optimization terminated successfully.    (Exit mode 0)\n",
      "            Current function value: 3933.509106410799\n",
      "            Iterations: 10\n",
      "            Function evaluations: 72\n",
      "            Gradient evaluations: 10\n",
      "Iteration:      5,   Func. Count:     36,   Neg. LLF: 21.468155234410613\n",
      "Iteration:     10,   Func. Count:     70,   Neg. LLF: 21.232275727505648\n",
      "Iteration:     15,   Func. Count:    102,   Neg. LLF: 21.187926399454394\n",
      "Optimization terminated successfully.    (Exit mode 0)\n",
      "            Current function value: 21.187774404794496\n",
      "            Iterations: 16\n",
      "            Function evaluations: 109\n",
      "            Gradient evaluations: 16\n",
      "4792\n",
      "Iteration:      5,   Func. Count:     41,   Neg. LLF: 3496.534119887391\n",
      "Iteration:     10,   Func. Count:     72,   Neg. LLF: 3481.900874012096\n",
      "Optimization terminated successfully.    (Exit mode 0)\n",
      "            Current function value: 3481.900881394282\n",
      "            Iterations: 10\n",
      "            Function evaluations: 72\n",
      "            Gradient evaluations: 10\n",
      "Iteration:      5,   Func. Count:     34,   Neg. LLF: 30.093544192891166\n",
      "Iteration:     10,   Func. Count:     66,   Neg. LLF: 30.036477149867604\n",
      "Optimization terminated successfully.    (Exit mode 0)\n",
      "            Current function value: 30.034848703747315\n",
      "            Iterations: 13\n",
      "            Function evaluations: 86\n",
      "            Gradient evaluations: 13\n",
      "4327\n"
     ]
    }
   ],
   "source": [
    "pred_garch =[]\n",
    "for filepath in glob.glob(\"params*\"):\n",
    "    t = int(re.sub(r\"\\D\",\"\",filepath))\n",
    "    pred_garch.append(garch_pred(dat[t:t+30],dat[:t],1,1,100))\n",
    "    print(t)"
   ]
  },
  {
   "cell_type": "code",
   "execution_count": 28,
   "metadata": {},
   "outputs": [
    {
     "name": "stdout",
     "output_type": "stream",
     "text": [
      "4606\n",
      "4513\n",
      "4791\n",
      "4699\n",
      "4698\n",
      "4605\n",
      "4978\n",
      "4326\n",
      "4884\n",
      "4885\n",
      "4420\n",
      "4419\n",
      "4512\n",
      "4977\n",
      "4792\n",
      "4327\n"
     ]
    }
   ],
   "source": [
    "pred_direct = []\n",
    "pred_pf = []\n",
    "vol_list = []\n",
    "idx = 0\n",
    "time_direct = []\n",
    "time_pf = []\n",
    "for filepath in glob.glob(\"params*\"):\n",
    "    t = int(re.sub(r\"\\D\",\"\",filepath))\n",
    "    start = time.time()\n",
    "    mu,var= prediction(params,10,pi_T_list[idx],30)\n",
    "    end = time.time()\n",
    "    time_direct.append(end-start)\n",
    "    start = time.time()\n",
    "    mu_,var_,par,wei = prediction_pf(params,10,1000,30,\n",
    "                                     M_list[idx],W_list[idx])\n",
    "    end = time.time()\n",
    "    time_pf.append(end-start)\n",
    "    pred_direct.append(mu)\n",
    "    pred_pf.append(mu_)\n",
    "    vol_list.append(dat[t:t+30]**2)\n",
    "    print(t)\n",
    "    idx +=1"
   ]
  },
  {
   "cell_type": "code",
   "execution_count": 29,
   "metadata": {},
   "outputs": [],
   "source": [
    "Y = np.concatenate(vol_list).ravel()\n",
    "X = np.concatenate(pred_direct).ravel()\n",
    "X = np.c_[np.ones(len(X)),X]\n",
    "MZ_test = regression.linear_model.OLS(Y,X)\n",
    "result = MZ_test.fit()\n",
    "res_direct = result.params"
   ]
  },
  {
   "cell_type": "code",
   "execution_count": 30,
   "metadata": {},
   "outputs": [],
   "source": [
    "Y = np.concatenate(vol_list).ravel()\n",
    "X = np.concatenate(pred_pf).ravel()\n",
    "X = np.c_[np.ones(len(X)),X]\n",
    "MZ_test = regression.linear_model.OLS(Y,X)\n",
    "result = MZ_test.fit()\n",
    "res_pf = result.params"
   ]
  },
  {
   "cell_type": "code",
   "execution_count": 31,
   "metadata": {},
   "outputs": [],
   "source": [
    "Y = np.concatenate(vol_list).ravel()\n",
    "X = np.concatenate(pred_garch).ravel()\n",
    "X = np.c_[np.ones(len(X)),X]\n",
    "MZ_test = regression.linear_model.OLS(Y,X)\n",
    "result = MZ_test.fit()\n",
    "res_garch = result.params"
   ]
  },
  {
   "cell_type": "code",
   "execution_count": 32,
   "metadata": {},
   "outputs": [
    {
     "name": "stdout",
     "output_type": "stream",
     "text": [
      "Coefficients for direct forecasting:  [ 0.     0.145] \n",
      " Coefficients for particle filter forecasting:  [ 0.    0.27] \n",
      " Coefficients for GARCH(1,1) forecasting:  [-0.     0.002]\n"
     ]
    }
   ],
   "source": [
    "print(\"Coefficients for direct forecasting: \",np.round(res_direct,3),\"\\n\",\n",
    "     \"Coefficients for particle filter forecasting: \",np.round(res_pf,3),\"\\n\",\n",
    "     \"Coefficients for GARCH(1,1) forecasting: \",np.round(res_garch,3))"
   ]
  },
  {
   "cell_type": "markdown",
   "metadata": {},
   "source": [
    "As we can see from the result above coefficients for the constant is about 0 for all algorithm.\n",
    "\n",
    "However, for GARCH(1,1) coefficient for the predictor is also close to 0 which is too far away from the ideal value of 1.\n",
    "\n",
    "The other MSM based methods are closer to 1 compared to GARCH(1,1) which represents it's predictive superiority.\n",
    "\n",
    "Finally, we check wheter the particle filter forecasting is superior to the original direct calculation forecasting in terms of computation."
   ]
  },
  {
   "cell_type": "code",
   "execution_count": 33,
   "metadata": {},
   "outputs": [
    {
     "name": "stdout",
     "output_type": "stream",
     "text": [
      "Average 30 step prediction time for the direct method:  3.54648536444 \n",
      " Average 30 step prediction time for the particle filter:  1.8702417016\n"
     ]
    }
   ],
   "source": [
    "print(\"Average 30 step prediction time for the direct method: \",\n",
    "      np.mean(time_direct),\"\\n\",\n",
    "      \"Average 30 step prediction time for the particle filter: \",\n",
    "      np.mean(time_pf))"
   ]
  },
  {
   "cell_type": "markdown",
   "metadata": {},
   "source": [
    "We can see that the particle filter implementation is superior to the original one. This is understandable since $\\bar k = 10$ and the complexity of the computation for particle filter is linear to the dimension while that of direct compuation is squared to it."
   ]
  },
  {
   "cell_type": "markdown",
   "metadata": {},
   "source": [
    "# Conclusion\n",
    "\n",
    "In this project, we optimized the estimation of MSM by improving the code and then introduced particle filter for likelihood approximation, state estimation by filtring and n-step ahead forecasting. Then we optimized the particle filter using methods such as multiprocessing and memoization so that it can be more efficient compared with the exact calculation of posterior quantities and prediction employed in the original paper.\n",
    "\n",
    "Results from simulated and real data presented above colloborates the claim that particle filter is more efficient in high dimensional setting although the concern about the decrease in accuracy may not have been fully addressed.\n",
    "\n",
    "Although the MSM is built in the context of finance, its construction is more general which only assumes that the process it's tracking is a multifractal system with normal observation noise. Therefore, it may be used in other areas of science as well. Considering that the Mandelbrot who inverted MMAR which lead to the creation of MSM has applied his work concerning fractals in wide variety of areas from math,physics to computer graphics etc this model may have wider audience as well.\n",
    "\n",
    "\n",
    "Finally, we must acknowledge the limitation of our algorithm which sometimes will get stuck in local minimum and does not return optimal parameter values. However, this was also the case for the author's Matlab code (although fmincon() function used for optimization in their code seems to work much better than our basinhopping L-BFGS-B minimizer).\n",
    "\n",
    "Moreover, the introduction of particle filters was not just aimed for an increase in filtering and forecasting performance but was also intended to aid parameter estimation. If we can use particle filter instad of MLE to get a parameter estimate, it will speed up the process even more. This is because particle filtering is done sequentially (which is why it's also called sequential monte carlo) and thus whenever a new observation is obtained at time $t$, the update can be just done with the data and the prior (which is a posterior at time $t-1$) whereas MLE must use all the data up to $t$ to recalculate the parameter estimate (or set a window length). However, the parameter estimation with particle filter is a frontier in the area of statistics and considering the time constraints we were unable to implement that.\n",
    "\n",
    "Therefore, our future aim is to implement some sort of self organizing state space model (proposed by Kitagawa(1998)) to change evey part of MSM process into the context of filtering so that it can become an online learning algorithm which allows sequential updates."
   ]
  },
  {
   "cell_type": "markdown",
   "metadata": {},
   "source": [
    "# References\n",
    "\n",
    "B. Mandelbrot, A. Fisher, L. Calvet, A multifractal model of asset returns., Cowles Foundation Discus-\n",
    "sion Paper (1997)\n",
    "\n",
    "L. Calvet, A.Fisher, How to forecast long-run volatility:  regime switching and the estimation of multi-\n",
    "fractal processes., Journal of Financial Econometrics 2 (1) (2004) 49–83.\n",
    "\n",
    "G. Kitagawa, A self-organizing state-space model, Journal of the American Statistical Association (1998)\n",
    "1203–1215.\n",
    "\n",
    "URL of the author's Matlab code:\n",
    "http://www.runmycode.org/companion/view/31\n",
    "\n",
    "For memoization we used the code from here:\n",
    "https://wiki.python.org/moin/PythonDecoratorLibrary#Alternate_memoize_as_dict_subclass"
   ]
  }
 ],
 "metadata": {
  "kernelspec": {
   "display_name": "Python 3",
   "language": "python",
   "name": "python3"
  },
  "language_info": {
   "codemirror_mode": {
    "name": "ipython",
    "version": 3
   },
   "file_extension": ".py",
   "mimetype": "text/x-python",
   "name": "python",
   "nbconvert_exporter": "python",
   "pygments_lexer": "ipython3",
   "version": "3.6.3"
  }
 },
 "nbformat": 4,
 "nbformat_minor": 2
}
