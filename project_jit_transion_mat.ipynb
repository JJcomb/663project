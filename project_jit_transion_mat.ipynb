{
 "cells": [
  {
   "cell_type": "code",
   "execution_count": 3,
   "metadata": {
    "collapsed": true
   },
   "outputs": [],
   "source": [
    "import numpy as np\n",
    "from numba import jit,vectorize,float64, int64\n",
    "import pdb"
   ]
  },
  {
   "cell_type": "code",
   "execution_count": 21,
   "metadata": {
    "collapsed": true
   },
   "outputs": [],
   "source": [
    "def T_mat_template(kbar):\n",
    "    # Kbar2 = 2^3 = 8\n",
    "    kbar2 = 2**kbar\n",
    "    A = np.zeros((kbar2,kbar2))\n",
    "    for i in range(kbar2):\n",
    "        for j in range(i,kbar2-i):\n",
    "            A[i,j] = np.bitwise_xor(i,j)\n",
    "    return(A)     "
   ]
  },
  {
   "cell_type": "code",
   "execution_count": 12,
   "metadata": {
    "collapsed": true
   },
   "outputs": [],
   "source": [
    "@jit(float64[:,:](float64[:,:],float64[:],int64))\n",
    "def transition_mat_jit(A,inpt,kbar):\n",
    "    b = inpt[0]\n",
    "    gamma_kbar = inpt[2]\n",
    "    gamma = np.zeros((kbar,1))\n",
    "    gamma[0,0] = 1-(1-gamma_kbar)**(1/(b**(kbar-1)))\n",
    "    for i in range(1,kbar):\n",
    "        gamma[i,0] = 1-(1-gamma[0,0])**(b**(i))\n",
    "    gamma = gamma*0.5\n",
    "    gamma = np.c_[gamma,gamma]\n",
    "    gamma[:,0] = 1 - gamma[:,1]\n",
    "    kbar2 = 2**kbar\n",
    "    prob = np.ones((kbar2,1))\n",
    "    \n",
    "    for i in range(kbar2):\n",
    "        for m in range(kbar):\n",
    "            prob[i,0] =prob[i,0] * gamma[kbar-m-1,\n",
    "                np.unpackbits(np.array([i],dtype = np.uint8))[-(m+1)]]\n",
    "    for i in range(2**(kbar-1)):\n",
    "        for j in range(i,2**(kbar-1)):\n",
    "            A[kbar2-i-1,j] = prob[np.rint(kbar2 - A[i,j]-1).astype(int),0]\n",
    "            A[kbar2-j-1,i] = A[kbar2-i-1,j]\n",
    "            A[j,kbar2-i-1] = A[kbar2-i-1,j]\n",
    "            A[i,kbar2-j-1] = A[kbar2-i-1,j]\n",
    "            A[i,j] = prob[np.rint(A[i,j]).astype(int),0]\n",
    "            A[j,i] = A[i,j].copy()\n",
    "            A[kbar2-j-1,kbar2-i-1] = A[i,j]\n",
    "            A[kbar2-i-1,kbar2-j-1] = A[i,j]\n",
    "        \n",
    "    return(A)"
   ]
  },
  {
   "cell_type": "code",
   "execution_count": 31,
   "metadata": {
    "collapsed": true
   },
   "outputs": [],
   "source": [
    "def transition_mat(A,inpt,kbar):\n",
    "    b = inpt[0]\n",
    "    gamma_kbar = inpt[2]\n",
    "    gamma = np.zeros((kbar,1))\n",
    "    gamma[0,0] = 1-(1-gamma_kbar)**(1/(b**(kbar-1)))\n",
    "    for i in range(1,kbar):\n",
    "        gamma[i,0] = 1-(1-gamma[0,0])**(b**(i))\n",
    "    gamma = gamma*0.5\n",
    "    gamma = np.c_[gamma,gamma]\n",
    "    gamma[:,0] = 1 - gamma[:,1]\n",
    "    kbar2 = 2**kbar\n",
    "    prob = np.ones((kbar2,1))\n",
    "    \n",
    "    for i in range(kbar2):\n",
    "        for m in range(kbar):\n",
    "            prob[i,0] =prob[i,0] * gamma[kbar-m-1,\n",
    "                np.unpackbits(np.array([i],dtype = np.uint8))[-(m+1)]]\n",
    "            \n",
    "    for i in range(2**(kbar-1)):\n",
    "        for j in range(i,2**(kbar-1)):\n",
    "            A[kbar2-i-1,j] = prob[np.rint(kbar2 - A[i,j]-1).astype(int),0]\n",
    "            A[kbar2-j-1,i] = A[kbar2-i-1,j]\n",
    "            A[j,kbar2-i-1] = A[kbar2-i-1,j]\n",
    "            A[i,kbar2-j-1] = A[kbar2-i-1,j]\n",
    "            A[i,j] = prob[np.rint(A[i,j]).astype(int),0]\n",
    "            A[j,i] = A[i,j].copy()\n",
    "            A[kbar2-j-1,kbar2-i-1] = A[i,j]\n",
    "            A[kbar2-i-1,kbar2-j-1] = A[i,j]\n",
    "        \n",
    "    return(A)"
   ]
  },
  {
   "cell_type": "code",
   "execution_count": 22,
   "metadata": {
    "collapsed": true
   },
   "outputs": [],
   "source": [
    "A = [T_mat_template(i) for i in range(2,9)]"
   ]
  },
  {
   "cell_type": "code",
   "execution_count": 75,
   "metadata": {},
   "outputs": [
    {
     "name": "stdout",
     "output_type": "stream",
     "text": [
      "163 µs ± 6.64 µs per loop (mean ± std. dev. of 7 runs, 10000 loops each)\n"
     ]
    }
   ],
   "source": [
    "%%timeit\n",
    "transition_mat_jit(A[0],np.array([3,1.5,0.5,3]),2)"
   ]
  },
  {
   "cell_type": "code",
   "execution_count": 76,
   "metadata": {},
   "outputs": [
    {
     "name": "stdout",
     "output_type": "stream",
     "text": [
      "80.5 µs ± 1.53 µs per loop (mean ± std. dev. of 7 runs, 10000 loops each)\n"
     ]
    }
   ],
   "source": [
    "%%timeit\n",
    "transition_mat(A[0],np.array([3,1.5,0.5,3]),2)"
   ]
  },
  {
   "cell_type": "code",
   "execution_count": 77,
   "metadata": {},
   "outputs": [
    {
     "name": "stdout",
     "output_type": "stream",
     "text": [
      "244 µs ± 5.11 µs per loop (mean ± std. dev. of 7 runs, 1000 loops each)\n"
     ]
    }
   ],
   "source": [
    "%%timeit\n",
    "transition_mat_jit(A[1],np.array([3,1.5,0.5,3]),3)"
   ]
  },
  {
   "cell_type": "code",
   "execution_count": 78,
   "metadata": {},
   "outputs": [
    {
     "name": "stdout",
     "output_type": "stream",
     "text": [
      "171 µs ± 5.47 µs per loop (mean ± std. dev. of 7 runs, 10000 loops each)\n"
     ]
    }
   ],
   "source": [
    "%%timeit\n",
    "transition_mat(A[1],[3,1.5,0.5,3],3)"
   ]
  },
  {
   "cell_type": "code",
   "execution_count": 79,
   "metadata": {},
   "outputs": [
    {
     "name": "stdout",
     "output_type": "stream",
     "text": [
      "537 µs ± 11.1 µs per loop (mean ± std. dev. of 7 runs, 1000 loops each)\n"
     ]
    }
   ],
   "source": [
    "%%timeit\n",
    "transition_mat_jit(A[2],np.array([3,1.5,0.5,3]),4)"
   ]
  },
  {
   "cell_type": "code",
   "execution_count": 80,
   "metadata": {},
   "outputs": [
    {
     "name": "stdout",
     "output_type": "stream",
     "text": [
      "455 µs ± 11.5 µs per loop (mean ± std. dev. of 7 runs, 1000 loops each)\n"
     ]
    }
   ],
   "source": [
    "%%timeit\n",
    "transition_mat(A[2],np.array([3,1.5,0.5,3]),4)"
   ]
  },
  {
   "cell_type": "code",
   "execution_count": 81,
   "metadata": {},
   "outputs": [
    {
     "name": "stdout",
     "output_type": "stream",
     "text": [
      "1.47 ms ± 24 µs per loop (mean ± std. dev. of 7 runs, 1000 loops each)\n"
     ]
    }
   ],
   "source": [
    "%%timeit\n",
    "transition_mat_jit(A[3],np.array([3,1.5,0.5,3]),5)"
   ]
  },
  {
   "cell_type": "code",
   "execution_count": 82,
   "metadata": {},
   "outputs": [
    {
     "name": "stdout",
     "output_type": "stream",
     "text": [
      "1.4 ms ± 58.3 µs per loop (mean ± std. dev. of 7 runs, 1000 loops each)\n"
     ]
    }
   ],
   "source": [
    "%%timeit\n",
    "transition_mat(A[3],np.array([3,1.5,0.5,3]),5)"
   ]
  },
  {
   "cell_type": "code",
   "execution_count": 83,
   "metadata": {},
   "outputs": [
    {
     "name": "stdout",
     "output_type": "stream",
     "text": [
      "4.78 ms ± 91 µs per loop (mean ± std. dev. of 7 runs, 100 loops each)\n"
     ]
    }
   ],
   "source": [
    "%%timeit\n",
    "transition_mat_jit(A[4],np.array([3,1.5,0.5,3]),6)"
   ]
  },
  {
   "cell_type": "code",
   "execution_count": 84,
   "metadata": {},
   "outputs": [
    {
     "name": "stdout",
     "output_type": "stream",
     "text": [
      "4.79 ms ± 117 µs per loop (mean ± std. dev. of 7 runs, 100 loops each)\n"
     ]
    }
   ],
   "source": [
    "%%timeit\n",
    "transition_mat(A[4],np.array([3,1.5,0.5,3]),6)"
   ]
  },
  {
   "cell_type": "code",
   "execution_count": 85,
   "metadata": {},
   "outputs": [
    {
     "name": "stdout",
     "output_type": "stream",
     "text": [
      "16.9 ms ± 289 µs per loop (mean ± std. dev. of 7 runs, 100 loops each)\n"
     ]
    }
   ],
   "source": [
    "%%timeit\n",
    "transition_mat_jit(A[5],np.array([3,1.5,0.5,3]),7)"
   ]
  },
  {
   "cell_type": "code",
   "execution_count": 86,
   "metadata": {},
   "outputs": [
    {
     "name": "stdout",
     "output_type": "stream",
     "text": [
      "17.3 ms ± 361 µs per loop (mean ± std. dev. of 7 runs, 10 loops each)\n"
     ]
    }
   ],
   "source": [
    "%%timeit\n",
    "transition_mat(A[5],np.array([3,1.5,0.5,3]),7)"
   ]
  },
  {
   "cell_type": "code",
   "execution_count": 87,
   "metadata": {},
   "outputs": [
    {
     "name": "stdout",
     "output_type": "stream",
     "text": [
      "62.8 ms ± 825 µs per loop (mean ± std. dev. of 7 runs, 10 loops each)\n"
     ]
    }
   ],
   "source": [
    "%%timeit\n",
    "transition_mat_jit(A[6],np.array([3,1.5,0.5,3]),8)"
   ]
  },
  {
   "cell_type": "code",
   "execution_count": 88,
   "metadata": {},
   "outputs": [
    {
     "name": "stdout",
     "output_type": "stream",
     "text": [
      "63.7 ms ± 2.48 ms per loop (mean ± std. dev. of 7 runs, 10 loops each)\n"
     ]
    }
   ],
   "source": [
    "%%timeit\n",
    "transition_mat(A[6],np.array([3,1.5,0.5,3]),8)"
   ]
  },
  {
   "cell_type": "code",
   "execution_count": null,
   "metadata": {
    "collapsed": true
   },
   "outputs": [],
   "source": []
  },
  {
   "cell_type": "code",
   "execution_count": null,
   "metadata": {
    "collapsed": true
   },
   "outputs": [],
   "source": [
    "def MSM_likelihood(inpt,kbar,data,A_template,estim_flag,nargout =1):\n",
    "    if not hasattr(inpt,\"__len__\"):\n",
    "        inpt = [estim_flag[0],inpt,estim_flag[1],estim_flag[2]]\n",
    "        \n",
    "    sigma = inpt[3]/np.sqrt(252)\n",
    "    k2 = 2**kbar\n",
    "    A = transition_mat(A_template.copy(),inpt,kbar)\n",
    "    g_m = gofm(inpt,kbar)\n",
    "    T = len(data)\n",
    "    pi_mat = np.zeros((T+1,k2))\n",
    "    LLs = np.zeros(T)\n",
    "    pi_mat[0,:] = (1/k2)*np.ones((1,k2))\n",
    "    \"\"\"\n",
    "    Likelihood Algorithm\n",
    "    \"\"\"\n",
    "    pa = (2*np.pi)**(-0.5)\n",
    "    s = sigma*g_m\n",
    "    w_t = data \n",
    "    w_t = pa*np.exp(-0.5*((w_t/s)**2))/s\n",
    "    w_t = w_t + 1e-16\n",
    "\n",
    "    for t in range(T):\n",
    "        \n",
    "        piA = np.dot(pi_mat[t,:],A)\n",
    "        C = (w_t[t,:]*piA)\n",
    "        ft = np.sum(C) # log\n",
    "        if np.isclose(ft,0):\n",
    "            pi_mat[t+1,1]=1\n",
    "        else:\n",
    "            pi_mat[t+1,:] = C/ft\n",
    "        LLs[t] = np.log(np.dot(w_t[t,:],piA))\n",
    "        \n",
    "    LL = -np.sum(LLs)\n",
    "    if np.any(np.isinf(LLs)):\n",
    "        print(\"Log-likelihood is inf. Probably due to all zeros in pi_mat.\")\n",
    "    if nargout == 1:\n",
    "        return(LL)\n",
    "    else:\n",
    "        return(LL,LLs)"
   ]
  },
  {
   "cell_type": "code",
   "execution_count": null,
   "metadata": {
    "collapsed": true
   },
   "outputs": [],
   "source": []
  }
 ],
 "metadata": {
  "kernelspec": {
   "display_name": "Python 3",
   "language": "python",
   "name": "python3"
  },
  "language_info": {
   "codemirror_mode": {
    "name": "ipython",
    "version": 3
   },
   "file_extension": ".py",
   "mimetype": "text/x-python",
   "name": "python",
   "nbconvert_exporter": "python",
   "pygments_lexer": "ipython3",
   "version": "3.6.3"
  }
 },
 "nbformat": 4,
 "nbformat_minor": 2
}
