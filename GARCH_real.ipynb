{
 "cells": [
  {
   "cell_type": "code",
   "execution_count": 1,
   "metadata": {
    "collapsed": true
   },
   "outputs": [],
   "source": [
    "import pandas as pd\n",
    "import numpy as np\n",
    "from arch import arch_model\n",
    "from statsmodels import regression\n",
    "from scipy import linalg\n",
    "import re"
   ]
  },
  {
   "cell_type": "code",
   "execution_count": 3,
   "metadata": {
    "collapsed": true
   },
   "outputs": [],
   "source": [
    "data = pd.read_csv(\"oil_futures.csv\")\n",
    "log_r = data.log_return\n",
    "log_r = log_r[log_r!=0]"
   ]
  },
  {
   "cell_type": "code",
   "execution_count": 28,
   "metadata": {},
   "outputs": [
    {
     "name": "stdout",
     "output_type": "stream",
     "text": [
      "Iteration:      5,   Func. Count:     31,   Neg. LLF: 215.37648921264974\n",
      "Iteration:     10,   Func. Count:     61,   Neg. LLF: 215.31671423599306\n",
      "Optimization terminated successfully.    (Exit mode 0)\n",
      "            Current function value: 215.31500769293996\n",
      "            Iterations: 12\n",
      "            Function evaluations: 73\n",
      "            Gradient evaluations: 12\n"
     ]
    }
   ],
   "source": [
    "test_oil = log_r[970:]\n",
    "training_oil = log_r[:-30]\n",
    "garch_testoil = arch_model(test_oil*1000, p=1,q=1)\n",
    "res_testoil = garch_testoil.fit(update_freq=5)"
   ]
  },
  {
   "cell_type": "code",
   "execution_count": 33,
   "metadata": {},
   "outputs": [],
   "source": [
    "def report_garch(test,train,p,q,scalar):\n",
    "    #Training\n",
    "    garch_train = arch_model(train*scalar, p=p,q=q)\n",
    "    res_train = garch_train.fit(update_freq=5)\n",
    "    mu, omega, alpha, beta = res_train.params\n",
    "    \n",
    "    #Test\n",
    "    garch_test = arch_model(test*scalar,p=p,q=q)\n",
    "    res_test = garch_test.fit(update_freq=5)\n",
    "    \n",
    "    #Prediction\n",
    "    pred = np.sqrt(1/scalar*(omega+alpha*res_test.resid**2+res_test.conditional_volatility**2*beta))\n",
    "    \n",
    "    # MZ OLS Regression\n",
    "    complete = np.c_[np.ones(len(pred)), pred]\n",
    "    MZ_test = regression.linear_model.OLS(test**2, complete)\n",
    "    result = MZ_test.fit()\n",
    "    \n",
    "    return (result.params)"
   ]
  },
  {
   "cell_type": "markdown",
   "metadata": {},
   "source": [
    "# MZ Test for Oil Data"
   ]
  },
  {
   "cell_type": "code",
   "execution_count": 34,
   "metadata": {},
   "outputs": [
    {
     "name": "stdout",
     "output_type": "stream",
     "text": [
      "Iteration:      5,   Func. Count:     35,   Neg. LLF: 3541.3886885016436\n",
      "Iteration:     10,   Func. Count:     70,   Neg. LLF: 3541.156418276011\n",
      "Optimization terminated successfully.    (Exit mode 0)\n",
      "            Current function value: 3541.1498898988584\n",
      "            Iterations: 12\n",
      "            Function evaluations: 83\n",
      "            Gradient evaluations: 12\n",
      "Iteration:      5,   Func. Count:     31,   Neg. LLF: 215.37648921264974\n",
      "Iteration:     10,   Func. Count:     61,   Neg. LLF: 215.31671423599306\n",
      "Optimization terminated successfully.    (Exit mode 0)\n",
      "            Current function value: 215.31500769293996\n",
      "            Iterations: 12\n",
      "            Function evaluations: 73\n",
      "            Gradient evaluations: 12\n"
     ]
    },
    {
     "data": {
      "text/plain": [
       "const   -2.240449\n",
       "x1       0.195755\n",
       "dtype: float64"
      ]
     },
     "execution_count": 34,
     "metadata": {},
     "output_type": "execute_result"
    }
   ],
   "source": [
    "report_garch(test_oil,training_oil, p=1,q=1,scalar=1000)"
   ]
  },
  {
   "cell_type": "markdown",
   "metadata": {},
   "source": [
    "# MZ Test for Exchange Rate Data"
   ]
  },
  {
   "cell_type": "code",
   "execution_count": 65,
   "metadata": {
    "collapsed": true
   },
   "outputs": [],
   "source": [
    "dat = pd.read_csv(\"DEXJPUS.csv\")\n",
    "dat = dat.loc[dat.DEXJPUS != \".\"].DEXJPUS.astype(float)\n",
    "dat = np.array(dat)\n",
    "dat = np.log(dat[1:])-np.log(dat[0:-1])\n",
    "dat = dat[:,np.newaxis]"
   ]
  },
  {
   "cell_type": "code",
   "execution_count": 52,
   "metadata": {},
   "outputs": [],
   "source": [
    "train = pd.DataFrame(dat[:-30])\n",
    "test = pd.DataFrame(dat[-30:])"
   ]
  },
  {
   "cell_type": "code",
   "execution_count": 42,
   "metadata": {},
   "outputs": [
    {
     "data": {
      "text/plain": [
       "(30, 1)"
      ]
     },
     "execution_count": 42,
     "metadata": {},
     "output_type": "execute_result"
    }
   ],
   "source": [
    "test.shape"
   ]
  },
  {
   "cell_type": "code",
   "execution_count": 57,
   "metadata": {},
   "outputs": [
    {
     "name": "stdout",
     "output_type": "stream",
     "text": [
      "Iteration:      5,   Func. Count:     34,   Neg. LLF: 31.331296351240184\n",
      "Optimization terminated successfully.    (Exit mode 0)\n",
      "            Current function value: 31.32840424779346\n",
      "            Iterations: 8\n",
      "            Function evaluations: 53\n",
      "            Gradient evaluations: 8\n",
      "Iteration:      5,   Func. Count:     42,   Neg. LLF: 6562.970753413042\n",
      "Iteration:     10,   Func. Count:     74,   Neg. LLF: 6558.307956580733\n",
      "Optimization terminated successfully.    (Exit mode 0)\n",
      "            Current function value: 6558.307959331568\n",
      "            Iterations: 11\n",
      "            Function evaluations: 80\n",
      "            Gradient evaluations: 11\n"
     ]
    },
    {
     "data": {
      "text/plain": [
       "const   -0.000044\n",
       "x1       0.001342\n",
       "dtype: float64"
      ]
     },
     "execution_count": 57,
     "metadata": {},
     "output_type": "execute_result"
    }
   ],
   "source": [
    "report_garch(train,test,p=1,q=1,scalar=100)"
   ]
  },
  {
   "cell_type": "markdown",
   "metadata": {},
   "source": [
    "# Posterior Check for Oil Data"
   ]
  },
  {
   "cell_type": "code",
   "execution_count": 17,
   "metadata": {},
   "outputs": [
    {
     "name": "stdout",
     "output_type": "stream",
     "text": [
      "Iteration:      5,   Func. Count:     31,   Neg. LLF: 5579.6220064688105\n",
      "Iteration:     10,   Func. Count:     61,   Neg. LLF: 5578.24538662792\n",
      "Iteration:     15,   Func. Count:    107,   Neg. LLF: 5248.694186650964\n",
      "Iteration:     20,   Func. Count:    141,   Neg. LLF: 5136.633117818144\n",
      "Optimization terminated successfully.    (Exit mode 0)\n",
      "            Current function value: 5133.7662165158945\n",
      "            Iterations: 24\n",
      "            Function evaluations: 164\n",
      "            Gradient evaluations: 23\n"
     ]
    },
    {
     "data": {
      "text/html": [
       "<div>\n",
       "<style>\n",
       "    .dataframe thead tr:only-child th {\n",
       "        text-align: right;\n",
       "    }\n",
       "\n",
       "    .dataframe thead th {\n",
       "        text-align: left;\n",
       "    }\n",
       "\n",
       "    .dataframe tbody tr th {\n",
       "        vertical-align: top;\n",
       "    }\n",
       "</style>\n",
       "<table border=\"1\" class=\"dataframe\">\n",
       "  <thead>\n",
       "    <tr style=\"text-align: right;\">\n",
       "      <th></th>\n",
       "      <th>h.1</th>\n",
       "    </tr>\n",
       "  </thead>\n",
       "  <tbody>\n",
       "    <tr>\n",
       "      <th>1000</th>\n",
       "      <td>-0.000847</td>\n",
       "    </tr>\n",
       "  </tbody>\n",
       "</table>\n",
       "</div>"
      ],
      "text/plain": [
       "           h.1\n",
       "1000 -0.000847"
      ]
     },
     "execution_count": 17,
     "metadata": {},
     "output_type": "execute_result"
    }
   ],
   "source": [
    "garch_complete = arch_model(log_r*1000,p=1,q=1)\n",
    "res_complete = garch_complete.fit(update_freq=5)\n",
    "fore_result = res_complete.forecast()\n",
    "(fore_result.mean/1000)[-1:]"
   ]
  },
  {
   "cell_type": "markdown",
   "metadata": {},
   "source": [
    "# Posterior Check for Exchange Rate"
   ]
  },
  {
   "cell_type": "code",
   "execution_count": 59,
   "metadata": {},
   "outputs": [
    {
     "data": {
      "text/plain": [
       "(7268, 1)"
      ]
     },
     "execution_count": 59,
     "metadata": {},
     "output_type": "execute_result"
    }
   ],
   "source": [
    "train.shape"
   ]
  },
  {
   "cell_type": "code",
   "execution_count": 72,
   "metadata": {},
   "outputs": [
    {
     "name": "stdout",
     "output_type": "stream",
     "text": [
      "Iteration:      5,   Func. Count:     42,   Neg. LLF: 6599.211185452592\n",
      "Iteration:     10,   Func. Count:     74,   Neg. LLF: 6594.862137239937\n",
      "Optimization terminated successfully.    (Exit mode 0)\n",
      "            Current function value: 6594.862141348218\n",
      "            Iterations: 10\n",
      "            Function evaluations: 74\n",
      "            Gradient evaluations: 10\n"
     ]
    },
    {
     "data": {
      "text/html": [
       "<div>\n",
       "<style>\n",
       "    .dataframe thead tr:only-child th {\n",
       "        text-align: right;\n",
       "    }\n",
       "\n",
       "    .dataframe thead th {\n",
       "        text-align: left;\n",
       "    }\n",
       "\n",
       "    .dataframe tbody tr th {\n",
       "        vertical-align: top;\n",
       "    }\n",
       "</style>\n",
       "<table border=\"1\" class=\"dataframe\">\n",
       "  <thead>\n",
       "    <tr style=\"text-align: right;\">\n",
       "      <th></th>\n",
       "      <th>h.1</th>\n",
       "    </tr>\n",
       "  </thead>\n",
       "  <tbody>\n",
       "    <tr>\n",
       "      <th>7297</th>\n",
       "      <td>-0.002525</td>\n",
       "    </tr>\n",
       "  </tbody>\n",
       "</table>\n",
       "</div>"
      ],
      "text/plain": [
       "           h.1\n",
       "7297 -0.002525"
      ]
     },
     "execution_count": 72,
     "metadata": {},
     "output_type": "execute_result"
    }
   ],
   "source": [
    "garch_exchange = arch_model(dat*100,p=1,q=1)\n",
    "res_exchange = garch_exchange.fit(update_freq=5)\n",
    "forecast_exchange = res_exchange.forecast()\n",
    "(forecast_exchange.mean)[-1:]"
   ]
  },
  {
   "cell_type": "code",
   "execution_count": null,
   "metadata": {
    "collapsed": true
   },
   "outputs": [],
   "source": []
  },
  {
   "cell_type": "code",
   "execution_count": null,
   "metadata": {
    "collapsed": true
   },
   "outputs": [],
   "source": []
  },
  {
   "cell_type": "code",
   "execution_count": null,
   "metadata": {
    "collapsed": true
   },
   "outputs": [],
   "source": []
  },
  {
   "cell_type": "code",
   "execution_count": null,
   "metadata": {
    "collapsed": true
   },
   "outputs": [],
   "source": []
  },
  {
   "cell_type": "code",
   "execution_count": null,
   "metadata": {
    "collapsed": true
   },
   "outputs": [],
   "source": []
  },
  {
   "cell_type": "code",
   "execution_count": null,
   "metadata": {
    "collapsed": true
   },
   "outputs": [],
   "source": []
  },
  {
   "cell_type": "code",
   "execution_count": null,
   "metadata": {
    "collapsed": true
   },
   "outputs": [],
   "source": []
  },
  {
   "cell_type": "code",
   "execution_count": null,
   "metadata": {
    "collapsed": true
   },
   "outputs": [],
   "source": []
  },
  {
   "cell_type": "code",
   "execution_count": null,
   "metadata": {
    "collapsed": true
   },
   "outputs": [],
   "source": []
  },
  {
   "cell_type": "code",
   "execution_count": null,
   "metadata": {
    "collapsed": true
   },
   "outputs": [],
   "source": []
  },
  {
   "cell_type": "code",
   "execution_count": null,
   "metadata": {
    "collapsed": true
   },
   "outputs": [],
   "source": []
  },
  {
   "cell_type": "markdown",
   "metadata": {},
   "source": [
    "# One-Day Forward Volatility"
   ]
  },
  {
   "cell_type": "code",
   "execution_count": null,
   "metadata": {
    "collapsed": true
   },
   "outputs": [],
   "source": []
  },
  {
   "cell_type": "code",
   "execution_count": null,
   "metadata": {
    "collapsed": true
   },
   "outputs": [],
   "source": []
  },
  {
   "cell_type": "code",
   "execution_count": 75,
   "metadata": {
    "collapsed": true
   },
   "outputs": [],
   "source": [
    "forecasted_vol = 0.001 * np.sqrt(res.params['omega'] + res.params['alpha[1]'] * res.resid**2 + res.conditional_volatility**2 * res.params['beta[1]'])"
   ]
  },
  {
   "cell_type": "code",
   "execution_count": 76,
   "metadata": {
    "collapsed": true
   },
   "outputs": [],
   "source": [
    "model_fore = res.conditional_volatility*0.001"
   ]
  },
  {
   "cell_type": "code",
   "execution_count": 77,
   "metadata": {
    "collapsed": true
   },
   "outputs": [],
   "source": [
    "complete = np.c_[np.ones(len(forecasted_vol)),model_fore]"
   ]
  },
  {
   "cell_type": "code",
   "execution_count": 78,
   "metadata": {
    "collapsed": true
   },
   "outputs": [],
   "source": [
    "MZ_test = regression.linear_model.OLS(log_r**2,complete)"
   ]
  },
  {
   "cell_type": "code",
   "execution_count": 79,
   "metadata": {
    "collapsed": true
   },
   "outputs": [],
   "source": [
    "result = MZ_test.fit()"
   ]
  },
  {
   "cell_type": "code",
   "execution_count": 80,
   "metadata": {},
   "outputs": [
    {
     "data": {
      "text/plain": [
       "const   -0.012969\n",
       "x1       0.380222\n",
       "dtype: float64"
      ]
     },
     "execution_count": 80,
     "metadata": {},
     "output_type": "execute_result"
    }
   ],
   "source": [
    "result.params"
   ]
  },
  {
   "cell_type": "code",
   "execution_count": 81,
   "metadata": {
    "collapsed": true
   },
   "outputs": [],
   "source": [
    "dat = pd.read_csv(\"DEXJPUS.csv\")"
   ]
  },
  {
   "cell_type": "code",
   "execution_count": 82,
   "metadata": {
    "collapsed": true
   },
   "outputs": [],
   "source": [
    "for i,v in enumerate(dat.DATE):\n",
    "    if re.sub(\"-.*\",\"\",v) == \"1990\":\n",
    "        break\n",
    "    \n",
    "dat = dat.loc[dat.DEXJPUS != \".\"].DEXJPUS.astype(float)\n",
    "dat = np.array(dat)\n",
    "dat = np.log(dat[1:])-np.log(dat[0:-1])\n",
    "dat = dat[:,np.newaxis]\n",
    "train = dat[:i]\n",
    "test = dat[i:]"
   ]
  },
  {
   "cell_type": "code",
   "execution_count": 83,
   "metadata": {},
   "outputs": [
    {
     "data": {
      "text/plain": [
       "(4326, 1)"
      ]
     },
     "execution_count": 83,
     "metadata": {},
     "output_type": "execute_result"
    }
   ],
   "source": [
    "train.shape"
   ]
  },
  {
   "cell_type": "code",
   "execution_count": 84,
   "metadata": {},
   "outputs": [
    {
     "name": "stdout",
     "output_type": "stream",
     "text": [
      "Iteration:      5,   Func. Count:     41,   Neg. LLF: 3493.691460700021\n",
      "Iteration:     10,   Func. Count:     72,   Neg. LLF: 3479.226118808358\n",
      "Optimization terminated successfully.    (Exit mode 0)\n",
      "            Current function value: 3479.226126061366\n",
      "            Iterations: 10\n",
      "            Function evaluations: 72\n",
      "            Gradient evaluations: 10\n"
     ]
    }
   ],
   "source": [
    "garch11_train = arch_model(train*100, p=1,q=1)\n",
    "res_train = garch11_train.fit(update_freq=5)"
   ]
  },
  {
   "cell_type": "code",
   "execution_count": 85,
   "metadata": {
    "collapsed": true
   },
   "outputs": [],
   "source": [
    "# Parameters of the training set\n",
    "mu, omega, alpha, beta = res_train.params"
   ]
  },
  {
   "cell_type": "code",
   "execution_count": 86,
   "metadata": {},
   "outputs": [
    {
     "name": "stdout",
     "output_type": "stream",
     "text": [
      "Iteration:      5,   Func. Count:     40,   Neg. LLF: 3074.762431321689\n",
      "Optimization terminated successfully.    (Exit mode 0)\n",
      "            Current function value: 3074.719556857562\n",
      "            Iterations: 9\n",
      "            Function evaluations: 67\n",
      "            Gradient evaluations: 9\n"
     ]
    }
   ],
   "source": [
    "#To extract residuals and the conditonal volatilities of the test set\n",
    "garch11_test = arch_model(test*100, p=1,q=1)\n",
    "res_test = garch11_test.fit(update_freq=5)"
   ]
  },
  {
   "cell_type": "code",
   "execution_count": 107,
   "metadata": {
    "collapsed": true
   },
   "outputs": [],
   "source": [
    "#shifted = pd.DataFrame(res_test.conditional_volatility)\n",
    "#shifted = shifted.shift(periods=1)\n",
    "#2971 obs\n",
    "#shifted = shifted[1:]"
   ]
  },
  {
   "cell_type": "code",
   "execution_count": 131,
   "metadata": {
    "collapsed": true
   },
   "outputs": [],
   "source": [
    "shifted_residual = res_test.resid[:-1].reshape(-1,1)"
   ]
  },
  {
   "cell_type": "code",
   "execution_count": 146,
   "metadata": {
    "collapsed": true
   },
   "outputs": [],
   "source": [
    "# Calculating the one-step forward prediction on the volatility.\n",
    "#pred = 0.01*np.sqrt(omega+alpha*shifted_residual**2+shifted**2*beta)"
   ]
  },
  {
   "cell_type": "code",
   "execution_count": 143,
   "metadata": {
    "collapsed": true
   },
   "outputs": [],
   "source": [
    "# Calculating the one-step forward prediction on the volatility.\n",
    "pred = 0.1*np.sqrt(omega+alpha*res_test.resid**2+res_test.conditional_volatility**2*beta)\n",
    "pred = pred.reshape(-1,1)"
   ]
  },
  {
   "cell_type": "code",
   "execution_count": 147,
   "metadata": {
    "collapsed": true
   },
   "outputs": [],
   "source": [
    "complete2 = np.c_[np.ones(len(pred)),pred]"
   ]
  },
  {
   "cell_type": "code",
   "execution_count": 148,
   "metadata": {
    "collapsed": true
   },
   "outputs": [],
   "source": [
    "MZ_test_DEXJPUS = regression.linear_model.OLS(test**2,complete2)"
   ]
  },
  {
   "cell_type": "code",
   "execution_count": 149,
   "metadata": {
    "collapsed": true
   },
   "outputs": [],
   "source": [
    "result2 = MZ_test_DEXJPUS.fit()"
   ]
  },
  {
   "cell_type": "code",
   "execution_count": 150,
   "metadata": {},
   "outputs": [
    {
     "data": {
      "text/plain": [
       "array([-6.97565045e-05,  1.74525895e-02])"
      ]
     },
     "execution_count": 150,
     "metadata": {},
     "output_type": "execute_result"
    }
   ],
   "source": [
    "result2.params"
   ]
  },
  {
   "cell_type": "code",
   "execution_count": null,
   "metadata": {
    "collapsed": true
   },
   "outputs": [],
   "source": []
  }
 ],
 "metadata": {
  "kernelspec": {
   "display_name": "Python 3",
   "language": "python",
   "name": "python3"
  },
  "language_info": {
   "codemirror_mode": {
    "name": "ipython",
    "version": 3
   },
   "file_extension": ".py",
   "mimetype": "text/x-python",
   "name": "python",
   "nbconvert_exporter": "python",
   "pygments_lexer": "ipython3",
   "version": "3.6.3"
  }
 },
 "nbformat": 4,
 "nbformat_minor": 2
}
