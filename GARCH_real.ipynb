{
 "cells": [
  {
   "cell_type": "code",
   "execution_count": 69,
   "metadata": {
    "collapsed": true
   },
   "outputs": [],
   "source": [
    "import pandas as pd\n",
    "import numpy as np\n",
    "from arch import arch_model\n",
    "from statsmodels import regression\n",
    "from scipy import linalg\n",
    "import re"
   ]
  },
  {
   "cell_type": "code",
   "execution_count": 70,
   "metadata": {
    "collapsed": true
   },
   "outputs": [],
   "source": [
    "data = pd.read_csv(\"oil_futures.csv\")\n",
    "log_r = data.log_return\n",
    "log_r = log_r[log_r!=0]"
   ]
  },
  {
   "cell_type": "code",
   "execution_count": 71,
   "metadata": {},
   "outputs": [
    {
     "name": "stdout",
     "output_type": "stream",
     "text": [
      "Iteration:      5,   Func. Count:     31,   Neg. LLF: 5579.6220064688105\n",
      "Iteration:     10,   Func. Count:     61,   Neg. LLF: 5578.24538662792\n",
      "Iteration:     15,   Func. Count:    107,   Neg. LLF: 5248.694186650964\n",
      "Iteration:     20,   Func. Count:    141,   Neg. LLF: 5136.633117818144\n",
      "Optimization terminated successfully.    (Exit mode 0)\n",
      "            Current function value: 5133.7662165158945\n",
      "            Iterations: 24\n",
      "            Function evaluations: 164\n",
      "            Gradient evaluations: 23\n"
     ]
    }
   ],
   "source": [
    "garch11 = arch_model(log_r*1000, p=1,q=1)\n",
    "res11 = garch11.fit(update_freq=5)"
   ]
  },
  {
   "cell_type": "code",
   "execution_count": 72,
   "metadata": {},
   "outputs": [
    {
     "data": {
      "text/plain": [
       "mu         -8.465481e-01\n",
       "omega       4.441352e+00\n",
       "alpha[1]    6.321265e-09\n",
       "beta[1]     1.000000e+00\n",
       "Name: params, dtype: float64"
      ]
     },
     "execution_count": 72,
     "metadata": {},
     "output_type": "execute_result"
    }
   ],
   "source": [
    "res.params"
   ]
  },
  {
   "cell_type": "code",
   "execution_count": 73,
   "metadata": {
    "scrolled": true
   },
   "outputs": [
    {
     "data": {
      "text/html": [
       "<table class=\"simpletable\">\n",
       "<caption>Constant Mean - GARCH Model Results</caption>\n",
       "<tr>\n",
       "  <th>Dep. Variable:</th>     <td>log_return</td>     <th>  R-squared:         </th>  <td>  -0.000</td> \n",
       "</tr>\n",
       "<tr>\n",
       "  <th>Mean Model:</th>       <td>Constant Mean</td>   <th>  Adj. R-squared:    </th>  <td>  -0.000</td> \n",
       "</tr>\n",
       "<tr>\n",
       "  <th>Vol Model:</th>            <td>GARCH</td>       <th>  Log-Likelihood:    </th> <td>  -5133.77</td>\n",
       "</tr>\n",
       "<tr>\n",
       "  <th>Distribution:</th>        <td>Normal</td>       <th>  AIC:               </th> <td>   10275.5</td>\n",
       "</tr>\n",
       "<tr>\n",
       "  <th>Method:</th>        <td>Maximum Likelihood</td> <th>  BIC:               </th> <td>   10295.2</td>\n",
       "</tr>\n",
       "<tr>\n",
       "  <th></th>                        <td></td>          <th>  No. Observations:  </th>    <td>1000</td>   \n",
       "</tr>\n",
       "<tr>\n",
       "  <th>Date:</th>           <td>Sat, Apr 28 2018</td>  <th>  Df Residuals:      </th>     <td>996</td>   \n",
       "</tr>\n",
       "<tr>\n",
       "  <th>Time:</th>               <td>00:45:39</td>      <th>  Df Model:          </th>      <td>4</td>    \n",
       "</tr>\n",
       "</table>\n",
       "<table class=\"simpletable\">\n",
       "<caption>Mean Model</caption>\n",
       "<tr>\n",
       "   <td></td>     <th>coef</th>     <th>std err</th>       <th>t</th>       <th>P>|t|</th>   <th>95.0% Conf. Int.</th> \n",
       "</tr>\n",
       "<tr>\n",
       "  <th>mu</th> <td>   -0.8465</td> <td>   20.863</td> <td>-4.058e-02</td> <td>    0.968</td> <td>[-41.738, 40.045]</td>\n",
       "</tr>\n",
       "</table>\n",
       "<table class=\"simpletable\">\n",
       "<caption>Volatility Model</caption>\n",
       "<tr>\n",
       "      <td></td>        <th>coef</th>     <th>std err</th>      <th>t</th>       <th>P>|t|</th>   <th>95.0% Conf. Int.</th> \n",
       "</tr>\n",
       "<tr>\n",
       "  <th>omega</th>    <td>    4.4414</td> <td>    5.509</td> <td>    0.806</td> <td>    0.420</td> <td>[ -6.357, 15.240]</td>\n",
       "</tr>\n",
       "<tr>\n",
       "  <th>alpha[1]</th> <td>6.3213e-09</td> <td>    0.208</td> <td>3.037e-08</td> <td>    1.000</td> <td>[ -0.408,  0.408]</td>\n",
       "</tr>\n",
       "<tr>\n",
       "  <th>beta[1]</th>  <td>    1.0000</td> <td>1.212e-02</td> <td>   82.488</td>   <td>0.000</td>   <td>[  0.976,  1.024]</td>\n",
       "</tr>\n",
       "</table>"
      ],
      "text/plain": [
       "<class 'statsmodels.iolib.summary.Summary'>\n",
       "\"\"\"\n",
       "                     Constant Mean - GARCH Model Results                      \n",
       "==============================================================================\n",
       "Dep. Variable:             log_return   R-squared:                      -0.000\n",
       "Mean Model:             Constant Mean   Adj. R-squared:                 -0.000\n",
       "Vol Model:                      GARCH   Log-Likelihood:               -5133.77\n",
       "Distribution:                  Normal   AIC:                           10275.5\n",
       "Method:            Maximum Likelihood   BIC:                           10295.2\n",
       "                                        No. Observations:                 1000\n",
       "Date:                Sat, Apr 28 2018   Df Residuals:                      996\n",
       "Time:                        00:45:39   Df Model:                            4\n",
       "                               Mean Model                               \n",
       "========================================================================\n",
       "                 coef    std err          t      P>|t|  95.0% Conf. Int.\n",
       "------------------------------------------------------------------------\n",
       "mu            -0.8465     20.863 -4.058e-02      0.968 [-41.738, 40.045]\n",
       "                            Volatility Model                            \n",
       "========================================================================\n",
       "                 coef    std err          t      P>|t|  95.0% Conf. Int.\n",
       "------------------------------------------------------------------------\n",
       "omega          4.4414      5.509      0.806      0.420 [ -6.357, 15.240]\n",
       "alpha[1]   6.3213e-09      0.208  3.037e-08      1.000 [ -0.408,  0.408]\n",
       "beta[1]        1.0000  1.212e-02     82.488      0.000 [  0.976,  1.024]\n",
       "========================================================================\n",
       "\n",
       "Covariance estimator: robust\n",
       "\"\"\""
      ]
     },
     "execution_count": 73,
     "metadata": {},
     "output_type": "execute_result"
    }
   ],
   "source": [
    "res.summary()"
   ]
  },
  {
   "cell_type": "code",
   "execution_count": 74,
   "metadata": {},
   "outputs": [
    {
     "data": {
      "text/html": [
       "<div>\n",
       "<style>\n",
       "    .dataframe thead tr:only-child th {\n",
       "        text-align: right;\n",
       "    }\n",
       "\n",
       "    .dataframe thead th {\n",
       "        text-align: left;\n",
       "    }\n",
       "\n",
       "    .dataframe tbody tr th {\n",
       "        vertical-align: top;\n",
       "    }\n",
       "</style>\n",
       "<table border=\"1\" class=\"dataframe\">\n",
       "  <thead>\n",
       "    <tr style=\"text-align: right;\">\n",
       "      <th></th>\n",
       "      <th>h.1</th>\n",
       "    </tr>\n",
       "  </thead>\n",
       "  <tbody>\n",
       "    <tr>\n",
       "      <th>1000</th>\n",
       "      <td>-0.000847</td>\n",
       "    </tr>\n",
       "  </tbody>\n",
       "</table>\n",
       "</div>"
      ],
      "text/plain": [
       "           h.1\n",
       "1000 -0.000847"
      ]
     },
     "execution_count": 74,
     "metadata": {},
     "output_type": "execute_result"
    }
   ],
   "source": [
    "fore_result = res11.forecast()\n",
    "(fore_result.mean/1000)[-1:]"
   ]
  },
  {
   "cell_type": "code",
   "execution_count": null,
   "metadata": {
    "collapsed": true
   },
   "outputs": [],
   "source": []
  },
  {
   "cell_type": "markdown",
   "metadata": {},
   "source": [
    "# One-Day Forward Volatility"
   ]
  },
  {
   "cell_type": "code",
   "execution_count": 75,
   "metadata": {
    "collapsed": true
   },
   "outputs": [],
   "source": [
    "forecasted_vol = 0.001 * np.sqrt(res.params['omega'] + res.params['alpha[1]'] * res.resid**2 + res.conditional_volatility**2 * res.params['beta[1]'])"
   ]
  },
  {
   "cell_type": "code",
   "execution_count": 76,
   "metadata": {
    "collapsed": true
   },
   "outputs": [],
   "source": [
    "model_fore = res.conditional_volatility*0.001"
   ]
  },
  {
   "cell_type": "code",
   "execution_count": 77,
   "metadata": {
    "collapsed": true
   },
   "outputs": [],
   "source": [
    "complete = np.c_[np.ones(len(forecasted_vol)),model_fore]"
   ]
  },
  {
   "cell_type": "code",
   "execution_count": 78,
   "metadata": {
    "collapsed": true
   },
   "outputs": [],
   "source": [
    "MZ_test = regression.linear_model.OLS(log_r**2,complete)"
   ]
  },
  {
   "cell_type": "code",
   "execution_count": 79,
   "metadata": {
    "collapsed": true
   },
   "outputs": [],
   "source": [
    "result = MZ_test.fit()"
   ]
  },
  {
   "cell_type": "code",
   "execution_count": 80,
   "metadata": {},
   "outputs": [
    {
     "data": {
      "text/plain": [
       "const   -0.012969\n",
       "x1       0.380222\n",
       "dtype: float64"
      ]
     },
     "execution_count": 80,
     "metadata": {},
     "output_type": "execute_result"
    }
   ],
   "source": [
    "result.params"
   ]
  },
  {
   "cell_type": "code",
   "execution_count": 81,
   "metadata": {
    "collapsed": true
   },
   "outputs": [],
   "source": [
    "dat = pd.read_csv(\"DEXJPUS.csv\")"
   ]
  },
  {
   "cell_type": "code",
   "execution_count": 82,
   "metadata": {},
   "outputs": [],
   "source": [
    "for i,v in enumerate(dat.DATE):\n",
    "    if re.sub(\"-.*\",\"\",v) == \"1990\":\n",
    "        break\n",
    "    \n",
    "dat = dat.loc[dat.DEXJPUS != \".\"].DEXJPUS.astype(float)\n",
    "dat = np.array(dat)\n",
    "dat = np.log(dat[1:])-np.log(dat[0:-1])\n",
    "dat = dat[:,np.newaxis]\n",
    "train = dat[:i]\n",
    "test = dat[i:]"
   ]
  },
  {
   "cell_type": "code",
   "execution_count": 83,
   "metadata": {},
   "outputs": [
    {
     "data": {
      "text/plain": [
       "(4326, 1)"
      ]
     },
     "execution_count": 83,
     "metadata": {},
     "output_type": "execute_result"
    }
   ],
   "source": [
    "train.shape"
   ]
  },
  {
   "cell_type": "code",
   "execution_count": 84,
   "metadata": {},
   "outputs": [
    {
     "name": "stdout",
     "output_type": "stream",
     "text": [
      "Iteration:      5,   Func. Count:     41,   Neg. LLF: 3493.691460700021\n",
      "Iteration:     10,   Func. Count:     72,   Neg. LLF: 3479.226118808358\n",
      "Optimization terminated successfully.    (Exit mode 0)\n",
      "            Current function value: 3479.226126061366\n",
      "            Iterations: 10\n",
      "            Function evaluations: 72\n",
      "            Gradient evaluations: 10\n"
     ]
    }
   ],
   "source": [
    "garch11_train = arch_model(train*100, p=1,q=1)\n",
    "res_train = garch11_train.fit(update_freq=5)"
   ]
  },
  {
   "cell_type": "code",
   "execution_count": 85,
   "metadata": {},
   "outputs": [],
   "source": [
    "# Parameters of the training set\n",
    "mu, omega, alpha, beta = res_train.params"
   ]
  },
  {
   "cell_type": "code",
   "execution_count": 86,
   "metadata": {},
   "outputs": [
    {
     "name": "stdout",
     "output_type": "stream",
     "text": [
      "Iteration:      5,   Func. Count:     40,   Neg. LLF: 3074.762431321689\n",
      "Optimization terminated successfully.    (Exit mode 0)\n",
      "            Current function value: 3074.719556857562\n",
      "            Iterations: 9\n",
      "            Function evaluations: 67\n",
      "            Gradient evaluations: 9\n"
     ]
    }
   ],
   "source": [
    "#To extract residuals and the conditonal volatilities of the test set\n",
    "garch11_test = arch_model(test*100, p=1,q=1)\n",
    "res_test = garch11_test.fit(update_freq=5)"
   ]
  },
  {
   "cell_type": "code",
   "execution_count": 97,
   "metadata": {},
   "outputs": [],
   "source": [
    "# Calculating the one-step forward prediction on the volatility.\n",
    "pred = 0.01*np.sqrt(omega+alpha*res_test.resid**2+res_test.conditional_volatility**2*beta)\n",
    "pred = pred.reshape(-1,1)"
   ]
  },
  {
   "cell_type": "code",
   "execution_count": 98,
   "metadata": {},
   "outputs": [],
   "source": [
    "complete2 = np.c_[np.ones(len(pred)),pred]"
   ]
  },
  {
   "cell_type": "code",
   "execution_count": 99,
   "metadata": {},
   "outputs": [],
   "source": [
    "MZ_test_DEXJPUS = regression.linear_model.OLS(test**2,complete2)"
   ]
  },
  {
   "cell_type": "code",
   "execution_count": 100,
   "metadata": {
    "collapsed": true
   },
   "outputs": [],
   "source": [
    "result2 = MZ_test_DEXJPUS.fit()"
   ]
  },
  {
   "cell_type": "code",
   "execution_count": 101,
   "metadata": {},
   "outputs": [
    {
     "data": {
      "text/plain": [
       "array([-0.00024094,  0.04197132])"
      ]
     },
     "execution_count": 101,
     "metadata": {},
     "output_type": "execute_result"
    }
   ],
   "source": [
    "result2.params"
   ]
  }
 ],
 "metadata": {
  "kernelspec": {
   "display_name": "Python 3",
   "language": "python",
   "name": "python3"
  },
  "language_info": {
   "codemirror_mode": {
    "name": "ipython",
    "version": 3
   },
   "file_extension": ".py",
   "mimetype": "text/x-python",
   "name": "python",
   "nbconvert_exporter": "python",
   "pygments_lexer": "ipython3",
   "version": "3.6.3"
  }
 },
 "nbformat": 4,
 "nbformat_minor": 2
}
