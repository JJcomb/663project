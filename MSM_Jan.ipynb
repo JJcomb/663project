{
 "cells": [
  {
   "cell_type": "code",
   "execution_count": 1,
   "metadata": {
    "collapsed": true
   },
   "outputs": [],
   "source": [
    "import numpy as np\n",
    "import scipy\n",
    "import pdb\n",
    "from numba import jit,vectorize,float64, int64,types\n",
    "import pandas as pd\n",
    "import scipy.optimize as opt"
   ]
  },
  {
   "cell_type": "code",
   "execution_count": 2,
   "metadata": {
    "collapsed": true
   },
   "outputs": [],
   "source": [
    "def T_mat_template(kbar):\n",
    "    kbar2 = 2**kbar\n",
    "    A = np.zeros((kbar2,kbar2))\n",
    "    for i in range(kbar2):\n",
    "        for j in range(i,kbar2-i):\n",
    "            A[i,j] = np.bitwise_xor(i,j)\n",
    "    return(A)     "
   ]
  },
  {
   "cell_type": "code",
   "execution_count": 3,
   "metadata": {},
   "outputs": [],
   "source": [
    "def transition_mat(A,inpt,kbar):\n",
    "    b = inpt[0]\n",
    "    gamma_kbar = inpt[2]\n",
    "    gamma = np.zeros((kbar,1))\n",
    "    gamma[0,0] = 1-(1-gamma_kbar)**(1/(b**(kbar-1)))\n",
    "    for i in range(1,kbar):\n",
    "        gamma[i,0] = 1-(1-gamma[0,0])**(b**(i))\n",
    "    gamma = gamma*0.5\n",
    "    gamma = np.c_[gamma,gamma]\n",
    "    gamma[:,0] = 1 - gamma[:,1]\n",
    "    kbar2 = 2**kbar\n",
    "    prob = np.ones((kbar2,1))\n",
    "    # all combination of probabilities from gamma_1*gamma_2*gamma_3, gamma_1*gamma_2*(1-gamma_3),...\n",
    "    for i in range(kbar2):\n",
    "        for m in range(kbar):\n",
    "            prob[i,0] =prob[i,0] * gamma[kbar-m-1,\n",
    "                np.unpackbits(np.array([i],dtype = np.uint8))[-(m+1)]]\n",
    "    A_ = np.zeros((kbar2,kbar2))\n",
    "    for i in range(kbar2):\n",
    "        for m in range(kbar):\n",
    "            prob[i,0] =prob[i,0]* gamma[kbar-m-1,\n",
    "                np.unpackbits(np.array([i],dtype = np.uint8))[-(m+1)]]\n",
    "    for i in range(2**(kbar-1)):\n",
    "        for j in range(i,2**(kbar-1)):\n",
    "            #pdb.set_trace()\n",
    "            A_[kbar2-i-1,j] = prob[np.rint(kbar2 - A.copy()[i,j]-1).astype(int),0]\n",
    "            A_[kbar2-j-1,i] = A_[kbar2-i-1,j]\n",
    "            A_[j,kbar2-i-1] = A_[kbar2-i-1,j]\n",
    "            A_[i,kbar2-j-1] = A_[kbar2-i-1,j]\n",
    "            A_[i,j] = prob[np.rint(A.copy()[i,j]).astype(int),0]\n",
    "            A_[j,i] = A_[i,j]\n",
    "            A_[kbar2-j-1,kbar2-i-1] = A_[i,j]\n",
    "            A_[kbar2-i-1,kbar2-j-1] = A_[i,j]\n",
    "        \n",
    "    return(A_)"
   ]
  },
  {
   "cell_type": "code",
   "execution_count": 4,
   "metadata": {
    "collapsed": true
   },
   "outputs": [],
   "source": [
    "def transition_mat_16(A,inpt,kbar):\n",
    "    b = inpt[0]\n",
    "    gamma_kbar = inpt[2]\n",
    "    gamma = np.zeros((kbar,1))\n",
    "    gamma[0,0] = 1-(1-gamma_kbar)**(1/(b**(kbar-1)))\n",
    "    for i in range(1,kbar):\n",
    "        gamma[i,0] = 1-(1-gamma[0,0])**(b**(i))\n",
    "    gamma = gamma*0.5\n",
    "    gamma = np.c_[gamma,gamma]\n",
    "    gamma[:,0] = 1 - gamma[:,1]\n",
    "    kbar2 = 2**kbar\n",
    "    prob = np.ones((kbar2,1))\n",
    "    # all combination of probabilities from gamma_1*gamma_2*gamma_3, gamma_1*gamma_2*(1-gamma_3),...\n",
    "    for i in range(kbar2):\n",
    "        for m in range(kbar):\n",
    "            tmp = np.unpackbits(np.arange(i,i+1,dtype = np.uint16).view(np.uint8))\n",
    "            tmp = np.append(tmp[8:],tmp[:8])\n",
    "            prob[i,0] =prob[i,0] * gamma[kbar-m-1,tmp[-(m+1)]]\n",
    "    A_ = np.zeros((kbar2,kbar2))\n",
    "    for i in range(2**(kbar-1)):\n",
    "        for j in range(i,2**(kbar-1)):\n",
    "            #pdb.set_trace()\n",
    "            A_[kbar2-i-1,j] = prob[np.rint(kbar2 - A.copy()[i,j]-1).astype(int),0]\n",
    "            A_[kbar2-j-1,i] = A_[kbar2-i-1,j]\n",
    "            A_[j,kbar2-i-1] = A_[kbar2-i-1,j]\n",
    "            A_[i,kbar2-j-1] = A_[kbar2-i-1,j]\n",
    "            A_[i,j] = prob[np.rint(A.copy()[i,j]).astype(int),0]\n",
    "            A_[j,i] = A_[i,j]\n",
    "            A_[kbar2-j-1,kbar2-i-1] = A_[i,j]\n",
    "            A_[kbar2-i-1,kbar2-j-1] = A_[i,j]\n",
    "        \n",
    "    return(A_)"
   ]
  },
  {
   "cell_type": "code",
   "execution_count": 5,
   "metadata": {},
   "outputs": [],
   "source": [
    "@jit(float64[:,:](float64[:,:],float64[:],int64))\n",
    "def transition_mat_jit(A,inpt,kbar):\n",
    "    b = inpt[0]\n",
    "    gamma_kbar = inpt[2]\n",
    "    gamma = np.zeros((kbar,1))\n",
    "    gamma[0,0] = 1-(1-gamma_kbar)**(1/(b**(kbar-1)))\n",
    "    for i in range(1,kbar):\n",
    "        gamma[i,0] = 1-(1-gamma[0,0])**(b**(i))\n",
    "    gamma = gamma*0.5\n",
    "    gamma = np.c_[gamma,gamma]\n",
    "    gamma[:,0] = 1 - gamma[:,1]\n",
    "    kbar2 = 2**kbar\n",
    "    prob = np.ones((kbar2,1))\n",
    "    A_ = np.zeros((kbar2,kbar2))\n",
    "    for i in range(kbar2):\n",
    "        for m in range(kbar):\n",
    "            prob[i,0] =prob[i,0]* gamma[kbar-m-1,\n",
    "                np.unpackbits(np.array([i],dtype = np.uint8))[-(m+1)]]\n",
    "    for i in range(2**(kbar-1)):\n",
    "        for j in range(i,2**(kbar-1)):\n",
    "            #pdb.set_trace()\n",
    "            A_[kbar2-i-1,j] = prob[np.rint(kbar2 - A.copy()[i,j]-1).astype(int),0]\n",
    "            A_[kbar2-j-1,i] = A_[kbar2-i-1,j]\n",
    "            A_[j,kbar2-i-1] = A_[kbar2-i-1,j]\n",
    "            A_[i,kbar2-j-1] = A_[kbar2-i-1,j]\n",
    "            A_[i,j] = prob[np.rint(A.copy()[i,j]).astype(int),0]\n",
    "            A_[j,i] = A_[i,j]\n",
    "            A_[kbar2-j-1,kbar2-i-1] = A_[i,j]\n",
    "            A_[kbar2-i-1,kbar2-j-1] = A_[i,j]\n",
    "        \n",
    "    return(A_)\n"
   ]
  },
  {
   "cell_type": "code",
   "execution_count": 6,
   "metadata": {
    "collapsed": true
   },
   "outputs": [],
   "source": [
    "def transition_mat_new(inpt,kbar):\n",
    "    b = inpt[0]\n",
    "    gamma_kbar = inpt[2]\n",
    "    gamma = np.zeros((kbar,1))\n",
    "    gamma[0,0] = 1-(1-gamma_kbar)**(1/(b**(kbar-1)))\n",
    "    for i in range(1,kbar):\n",
    "        gamma[i,0] = 1-(1-gamma[0,0])**(b**(i))\n",
    "    gamma = gamma*0.5\n",
    "    gamma = np.c_[gamma,gamma]\n",
    "    gamma[:,0] = 1 - gamma[:,1]\n",
    "    kbar2 = 2**kbar\n",
    "    prob = np.ones(kbar2)\n",
    "    # all combination of probabilities from gamma_1*gamma_2*gamma_3, gamma_1*gamma_2*(1-gamma_3),...\n",
    "    for i in range(kbar2):\n",
    "        for m in range(kbar):\n",
    "            tmp = np.unpackbits(np.arange(i,i+1,dtype = np.uint16).view(np.uint8))\n",
    "            tmp = np.append(tmp[8:],tmp[:8])\n",
    "            prob[i] =prob[i] * gamma[kbar-m-1,tmp[-(m+1)]]\n",
    "    A = np.fromfunction(lambda i,j: prob[np.bitwise_xor(i,j)],\n",
    "                          (kbar2,kbar2),dtype = np.uint16)                 \n",
    "    return(A)"
   ]
  },
  {
   "cell_type": "code",
   "execution_count": 7,
   "metadata": {},
   "outputs": [],
   "source": [
    "@jit(float64[:,:](float64[:],int64))\n",
    "def transition_mat_new_jit(inpt,kbar):\n",
    "    b = inpt[0]\n",
    "    gamma_kbar = inpt[2]\n",
    "    gamma = np.zeros((kbar,1))\n",
    "    gamma[0,0] = 1-(1-gamma_kbar)**(1/(b**(kbar-1)))\n",
    "    for i in range(1,kbar):\n",
    "        gamma[i,0] = 1-(1-gamma[0,0])**(b**(i))\n",
    "    gamma = gamma*0.5\n",
    "    gamma = np.c_[gamma,gamma]\n",
    "    gamma[:,0] = 1 - gamma[:,1]\n",
    "    kbar2 = 2**kbar\n",
    "    A = np.zeros((kbar2,kbar2))\n",
    "    prob = np.ones(kbar2)\n",
    "    # all combination of probabilities from gamma_1*gamma_2*gamma_3, gamma_1*gamma_2*(1-gamma_3),...\n",
    "    for i in range(kbar2):\n",
    "        for m in range(kbar):\n",
    "            prob[i] =prob[i] * gamma[kbar-m-1,\n",
    "                np.unpackbits(np.array([i],dtype = np.uint8))[-(m+1)]]\n",
    "    for i in range(kbar2):\n",
    "        for j in range(kbar2):\n",
    "            A[i,j] = prob[np.bitwise_xor(i,j)]\n",
    "    return(A)"
   ]
  },
  {
   "cell_type": "code",
   "execution_count": 8,
   "metadata": {
    "collapsed": true
   },
   "outputs": [],
   "source": [
    "A = [T_mat_template(i) for i in range(2,9)]"
   ]
  },
  {
   "cell_type": "code",
   "execution_count": 9,
   "metadata": {},
   "outputs": [
    {
     "data": {
      "text/plain": [
       "True"
      ]
     },
     "execution_count": 9,
     "metadata": {},
     "output_type": "execute_result"
    }
   ],
   "source": [
    "np.allclose(transition_mat(A[0],[3,1.5,0.5,3],2),transition_mat_jit(A[0],[3,1.5,0.5,3],2),\n",
    "            transition_mat_new_jit([3,1.5,0.5,3],2),transition_mat_new([3,1.5,0.5,3],2))"
   ]
  },
  {
   "cell_type": "code",
   "execution_count": 10,
   "metadata": {},
   "outputs": [],
   "source": [
    "import time\n",
    "\n",
    "times = np.zeros((4,len(A)))\n",
    "for i,v in enumerate(A):\n",
    "    start = time.time()\n",
    "    transition_mat(v,np.array([3,1.5,0.5,3]),i+2)\n",
    "    end = time.time()\n",
    "    times[0,i] = end-start\n",
    "    start = time.time()\n",
    "    transition_mat_jit(v,np.array([3,1.5,0.5,3]),i+2)\n",
    "    end = time.time()\n",
    "    times[1,i] = end-start\n",
    "    start = time.time()\n",
    "    transition_mat_new(np.array([3,1.5,0.5,3]),i+2)\n",
    "    end = time.time()\n",
    "    times[2,i] = end-start\n",
    "    start = time.time()\n",
    "    transition_mat_new_jit(np.array([3,1.5,0.5,3]),i+2)\n",
    "    end = time.time()\n",
    "    times[3,i] = end-start"
   ]
  },
  {
   "cell_type": "code",
   "execution_count": 11,
   "metadata": {},
   "outputs": [
    {
     "data": {
      "image/png": "[encoded data removed]",
      "text/plain": [
       "<matplotlib.figure.Figure at 0x15099308d0>"
      ]
     },
     "metadata": {},
     "output_type": "display_data"
    }
   ],
   "source": [
    "import matplotlib.pyplot as plt\n",
    "plt.plot(np.arange(2,9),times[0,:],color = \"blue\",label = \"original transition_mat\")\n",
    "plt.plot(np.arange(2,9),times[1,:],color = \"green\",label = \"jit transition_mat\")\n",
    "plt.plot(np.arange(2,9),times[2,:],color = \"red\",label = \"new transition_mat\")\n",
    "plt.plot(np.arange(2,9),times[3,:],color = \"black\",label = \"jit new transition_mat\")\n",
    "plt.legend(loc='upper left')\n",
    "plt.show()"
   ]
  },
  {
   "cell_type": "code",
   "execution_count": 12,
   "metadata": {
    "collapsed": true
   },
   "outputs": [],
   "source": [
    "def gofm(inpt,kbar):\n",
    "    \"\"\"\n",
    "    A function that calculates all the possible volatility states\n",
    "    \"\"\"\n",
    "    m0 = inpt[1]\n",
    "    m1 = 2-m0\n",
    "    kbar2 = 2**kbar\n",
    "    g_m1 = np.arange(kbar2)\n",
    "    g_m = np.zeros(kbar2)\n",
    "    \n",
    "    for i in range(kbar2):\n",
    "        g =1\n",
    "        for j in range(kbar):\n",
    "            if np.bitwise_and(g_m1[i],(2**j))!=0:\n",
    "                g = g*m1\n",
    "            else:\n",
    "                g = g*m0\n",
    "        g_m[i] = g\n",
    "    return(np.sqrt(g_m))"
   ]
  },
  {
   "cell_type": "code",
   "execution_count": 13,
   "metadata": {
    "collapsed": true
   },
   "outputs": [],
   "source": [
    "@jit(float64(float64,int64,float64[:,:],float64[:,:],float64[:]))\n",
    "#estim_flag= list\n",
    "#input = double\n",
    "def MSM_like_init(inpt,kbar,data,A_template,estim_flag):\n",
    "    inpt = [estim_flag[0],inpt,estim_flag[1],estim_flag[2]]\n",
    "    sigma = inpt[3]/np.sqrt(252)\n",
    "    k2 = 2**kbar\n",
    "    A = transition_mat(A_template.copy(),inpt,kbar)\n",
    "    g_m = gofm(inpt,kbar)\n",
    "    T = len(data)\n",
    "    pi_mat = np.zeros((T+1,k2))\n",
    "    LLs = np.zeros(T)\n",
    "    pi_mat[0,:] = (1/k2)*np.ones((1,k2))\n",
    "    \"\"\"\n",
    "    Likelihood Algorithm\n",
    "    \"\"\"\n",
    "    pa = (2*np.pi)**(-0.5)\n",
    "    s = sigma*g_m\n",
    "    w_t = data \n",
    "    w_t = pa*np.exp(-0.5*((w_t/s)**2))/s\n",
    "    w_t = w_t + 1e-16\n",
    "\n",
    "    for t in range(T):\n",
    "        \n",
    "        piA = np.dot(pi_mat[t,:],A)\n",
    "        C = (w_t[t,:]*piA)\n",
    "        ft = np.sum(C) # log\n",
    "        if np.isclose(ft,0):\n",
    "            pi_mat[t+1,1]=1\n",
    "        else:\n",
    "            pi_mat[t+1,:] = C/ft\n",
    "        LLs[t] = np.log(np.dot(w_t[t,:],piA))\n",
    "        \n",
    "    LL = -np.sum(LLs)\n",
    "    if np.any(np.isinf(LLs)):\n",
    "        print(\"Log-likelihood is inf. Probably due to all zeros in pi_mat.\")\n",
    "    return (LL)"
   ]
  },
  {
   "cell_type": "code",
   "execution_count": 14,
   "metadata": {},
   "outputs": [],
   "source": [
    "def MSM_likelihood(inpt,kbar,data):        \n",
    "    sigma = inpt[3]/np.sqrt(252)\n",
    "    k2 = 2**kbar\n",
    "    A = transition_mat_new(inpt,kbar)\n",
    "    g_m = gofm(inpt,kbar)\n",
    "    T = len(data)\n",
    "    pi_mat = np.zeros((T+1,k2))\n",
    "    LLs = np.zeros(T)\n",
    "    pi_mat[0,:] = (1/k2)*np.ones((1,k2))\n",
    "    \"\"\"\n",
    "    Likelihood Algorithm\n",
    "    \"\"\"\n",
    "    pa = (2*np.pi)**(-0.5)\n",
    "    s = sigma*g_m\n",
    "    w_t = data \n",
    "    w_t = pa*np.exp(-0.5*((w_t/s)**2))/s\n",
    "    w_t = w_t + 1e-16\n",
    "\n",
    "    for t in range(T):\n",
    "        \n",
    "        piA = np.dot(pi_mat[t,:],A)\n",
    "        C = (w_t[t,:]*piA)\n",
    "        ft = np.sum(C) # log\n",
    "        if np.isclose(ft,0):\n",
    "            pi_mat[t+1,1]=1\n",
    "        else:\n",
    "            pi_mat[t+1,:] = C/ft\n",
    "        LLs[t] = np.log(np.dot(w_t[t,:],piA))\n",
    "        \n",
    "    LL = -np.sum(LLs)\n",
    "    if np.any(np.isinf(LLs)):\n",
    "        print(\"Log-likelihood is inf. Probably due to all zeros in pi_mat.\")\n",
    "    else:\n",
    "        return(LL,LLs)"
   ]
  },
  {
   "cell_type": "code",
   "execution_count": 15,
   "metadata": {
    "collapsed": true
   },
   "outputs": [],
   "source": [
    "def MSM_starting_values(data,startingvals,kbar,A_template):\n",
    "    if startingvals is None:\n",
    "        print(\"No starting values entered: Using grid-search\")\n",
    "\n",
    "        b = np.array([1.5,3,6,20])\n",
    "        lb = len(b)\n",
    "        g = np.array([.1,.5,.9])\n",
    "        lg = len(g)\n",
    "        sigma = np.std(data)*np.sqrt(252)\n",
    "        output_parameters = np.zeros(((lb*lg),3))\n",
    "        LLs = np.zeros((lb*lg))\n",
    "        m0_lower = 1.2\n",
    "        m0_upper = 1.8\n",
    "        idx = 0\n",
    "        for i in range(lb):\n",
    "            for j in range(lg):\n",
    "                xopt,fval,ierr,numfunc = opt.fminbound(MSM_likelihood_init,\n",
    "                                                 x1 = m0_lower,x2 = m0_upper,xtol = 1e-3,\n",
    "                                                 args = (kbar,data,A_template,[b[i],g[j],sigma]),full_output = True)\n",
    "                m0,LL = xopt,fval\n",
    "                output_parameters[idx,:] = b[i],m0,g[j]\n",
    "                LLs[idx] = LL\n",
    "                idx +=1\n",
    "        idx = np.argsort(LLs)\n",
    "        LLs = np.sort(LLs)\n",
    "        startingvals = output_parameters[idx[0],:].tolist()+[sigma]\n",
    "        output_parameters = output_parameters[idx,:]\n",
    "        return(startingvals,LLs,output_parameters)"
   ]
  },
  {
   "cell_type": "code",
   "execution_count": 16,
   "metadata": {
    "collapsed": true
   },
   "outputs": [],
   "source": [
    "def MSM_modified(data,kbar,startingvals):\n",
    "        A_template = T_mat_template(kbar)\n",
    "        startingvals, LLs,ordered_parameters = MSM_starting_values(data,startingvals,kbar,A_template)\n",
    "        bnds = ((1,50),(1,1.99),(1e-3,0.999999),(1e-4,5))\n",
    "        minimizer_kwargs = dict(method = \"L-BFGS-B\",bounds = bnds,args = (kbar,dat,A_template,None))\n",
    "        res = opt.basinhopping(MSM_likelihood,x0 = startingvals,minimizer_kwargs = minimizer_kwargs,niter = 3)\n",
    "        parameters,LL,niters,output = res.x,res.fun,res.nit,res.message\n",
    "        LL, LLs = MSM_likelihood(parameters,kbar,data,A_template,None,2)\n",
    "        LL = -LL\n",
    "        \n",
    "        return(LL,LLs,parameters)"
   ]
  },
  {
   "cell_type": "code",
   "execution_count": 17,
   "metadata": {},
   "outputs": [],
   "source": [
    "dat = pd.read_csv(\"data_demo.csv\",header = None)\n",
    "dat = np.array(dat)"
   ]
  },
  {
   "cell_type": "code",
   "execution_count": 18,
   "metadata": {
    "collapsed": true
   },
   "outputs": [],
   "source": [
    "def MSM_likelihood_old(inpt,kbar,data,A_template):      \n",
    "    sigma = inpt[3]/np.sqrt(252)\n",
    "    k2 = 2**kbar\n",
    "    A = transition_mat_16(A_template.copy(),inpt,kbar)\n",
    "    g_m = gofm(inpt,kbar)\n",
    "    T = len(data)\n",
    "    pi_mat = np.zeros((T+1,k2))\n",
    "    LLs = np.zeros(T)\n",
    "    pi_mat[0,:] = (1/k2)*np.ones((1,k2))\n",
    "    \"\"\"\n",
    "    Likelihood Algorithm\n",
    "    \"\"\"\n",
    "    pa = (2*np.pi)**(-0.5)\n",
    "    s = sigma*g_m\n",
    "    w_t = data \n",
    "    w_t = pa*np.exp(-0.5*((w_t/s)**2))/s\n",
    "    w_t = w_t + 1e-16\n",
    "\n",
    "    for t in range(T):\n",
    "        \n",
    "        piA = np.dot(pi_mat[t,:],A)\n",
    "        C = (w_t[t,:]*piA)\n",
    "        ft = np.sum(C) # log\n",
    "        if np.isclose(ft,0):\n",
    "            pi_mat[t+1,1]=1\n",
    "        else:\n",
    "            pi_mat[t+1,:] = C/ft\n",
    "        LLs[t] = np.log(np.dot(w_t[t,:],piA))\n",
    "        \n",
    "    LL = -np.sum(LLs)\n",
    "    if np.any(np.isinf(LLs)):\n",
    "        print(\"Log-likelihood is inf. Probably due to all zeros in pi_mat.\")\n",
    "    else:\n",
    "        return(LL,LLs)"
   ]
  },
  {
   "cell_type": "code",
   "execution_count": null,
   "metadata": {
    "collapsed": true
   },
   "outputs": [],
   "source": [
    "A = [T_mat_template(i) for i in range(2,11)]"
   ]
  },
  {
   "cell_type": "code",
   "execution_count": null,
   "metadata": {},
   "outputs": [],
   "source": [
    "times = np.zeros((2,len(A)))\n",
    "for i,v in enumerate(A):\n",
    "    start = time.time()\n",
    "    MSM_likelihood([3,1.5,0.5,3],i+2,dat)\n",
    "    end = time.time()\n",
    "    times[0,i] = end-start\n",
    "    start = time.time()\n",
    "    MSM_likelihood_old([3,1.5,0.5,3],i+2,dat,v)\n",
    "    end = time.time()\n",
    "    times[1,i] = end-start\n",
    "plt.plot(np.arange(2,11),times[0,:],color = \"blue\",label = \"new MSM_likelihood\")\n",
    "plt.plot(np.arange(2,11),times[1,:],color = \"green\",label = \"old MSM_likelihood\")\n",
    "plt.legend(loc='upper left')\n",
    "plt.show()"
   ]
  },
  {
   "cell_type": "code",
   "execution_count": null,
   "metadata": {},
   "outputs": [],
   "source": [
    "%time LL_,LLs_ = MSM_likelihood([3,1.5,0.5,3],10,dat)\n",
    "%time LL,LLs = MSM_likelihood_old([3,1.5,0.5,3],10,dat,A[8])"
   ]
  },
  {
   "cell_type": "code",
   "execution_count": null,
   "metadata": {},
   "outputs": [],
   "source": [
    "np.allclose(LL,LL_)"
   ]
  },
  {
   "cell_type": "code",
   "execution_count": null,
   "metadata": {
    "collapsed": true
   },
   "outputs": [],
   "source": [
    "np.allclose(LLs_,LLs)"
   ]
  }
 ],
 "metadata": {
  "kernelspec": {
   "display_name": "Python [conda env:anaconda]",
   "language": "python",
   "name": "conda-env-anaconda-py"
  },
  "language_info": {
   "codemirror_mode": {
    "name": "ipython",
    "version": 3
   },
   "file_extension": ".py",
   "mimetype": "text/x-python",
   "name": "python",
   "nbconvert_exporter": "python",
   "pygments_lexer": "ipython3",
   "version": "3.5.4"
  }
 },
 "nbformat": 4,
 "nbformat_minor": 2
}
