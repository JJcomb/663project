{
 "cells": [
  {
   "cell_type": "code",
   "execution_count": 1,
   "metadata": {
    "collapsed": true
   },
   "outputs": [],
   "source": [
    "import numpy as np\n",
    "import scipy\n",
    "import pdb\n",
    "from numba import jit,vectorize,float64, int64,types\n",
    "import pandas as pd\n",
    "import scipy.optimize as opt"
   ]
  },
  {
   "cell_type": "code",
   "execution_count": 2,
   "metadata": {
    "collapsed": true
   },
   "outputs": [],
   "source": [
    "def T_mat_template(kbar):\n",
    "    kbar2 = 2**kbar\n",
    "    A = np.zeros((kbar2,kbar2))\n",
    "    for i in range(kbar2):\n",
    "        for j in range(i,kbar2-i):\n",
    "            A[i,j] = np.bitwise_xor(i,j)\n",
    "    return(A)     "
   ]
  },
  {
   "cell_type": "code",
   "execution_count": 3,
   "metadata": {},
   "outputs": [],
   "source": [
    "def transition_mat(A,inpt,kbar):\n",
    "    b = inpt[0]\n",
    "    gamma_kbar = inpt[2]\n",
    "    gamma = np.zeros((kbar,1))\n",
    "    gamma[0,0] = 1-(1-gamma_kbar)**(1/(b**(kbar-1)))\n",
    "    for i in range(1,kbar):\n",
    "        gamma[i,0] = 1-(1-gamma[0,0])**(b**(i))\n",
    "    gamma = gamma*0.5\n",
    "    gamma = np.c_[gamma,gamma]\n",
    "    gamma[:,1] = 1 - gamma[:,1]\n",
    "    kbar2 = 2**kbar\n",
    "    prob = np.ones((kbar2,1))\n",
    "    # all combination of probabilities from gamma_1*gamma_2*gamma_3, gamma_1*gamma_2*(1-gamma_3),...\n",
    "    A_ = np.zeros((kbar2,kbar2))\n",
    "    for i in range(kbar2):\n",
    "        for m in range(kbar):\n",
    "            prob[i,0] =prob[i,0]* gamma[kbar-m-1,\n",
    "                np.unpackbits(np.array([i],dtype = np.uint8))[-(m+1)]]\n",
    "    for i in range(2**(kbar-1)):\n",
    "        for j in range(i,2**(kbar-1)):\n",
    "            #pdb.set_trace()\n",
    "            A_[kbar2-i-1,j] = prob[np.rint(kbar2 - A.copy()[i,j]-1).astype(int),0]\n",
    "            A_[kbar2-j-1,i] = A_[kbar2-i-1,j]\n",
    "            A_[j,kbar2-i-1] = A_[kbar2-i-1,j]\n",
    "            A_[i,kbar2-j-1] = A_[kbar2-i-1,j]\n",
    "            A_[i,j] = prob[np.rint(A.copy()[i,j]).astype(int),0]\n",
    "            A_[j,i] = A_[i,j]\n",
    "            A_[kbar2-j-1,kbar2-i-1] = A_[i,j]\n",
    "            A_[kbar2-i-1,kbar2-j-1] = A_[i,j]\n",
    "        \n",
    "    return(A_)"
   ]
  },
  {
   "cell_type": "code",
   "execution_count": 4,
   "metadata": {
    "collapsed": true
   },
   "outputs": [],
   "source": [
    "def transition_mat_16(A,inpt,kbar):\n",
    "    b = inpt[0]\n",
    "    gamma_kbar = inpt[2]\n",
    "    gamma = np.zeros((kbar,1))\n",
    "    gamma[0,0] = 1-(1-gamma_kbar)**(1/(b**(kbar-1)))\n",
    "    for i in range(1,kbar):\n",
    "        gamma[i,1] = 1-(1-gamma[0,0])**(b**(i))\n",
    "    gamma = gamma*0.5\n",
    "    gamma = np.c_[gamma,gamma]\n",
    "    gamma[:,0] = 1 - gamma[:,1]\n",
    "    kbar2 = 2**kbar\n",
    "    prob = np.ones((kbar2,1))\n",
    "    # all combination of probabilities from gamma_1*gamma_2*gamma_3, gamma_1*gamma_2*(1-gamma_3),...\n",
    "    for i in range(kbar2):\n",
    "        for m in range(kbar):\n",
    "            tmp = np.unpackbits(np.arange(i,i+1,dtype = np.uint16).view(np.uint8))\n",
    "            tmp = np.append(tmp[8:],tmp[:8])\n",
    "            prob[i,0] =prob[i,0] * gamma[kbar-m-1,tmp[-(m+1)]]\n",
    "    A_ = np.zeros((kbar2,kbar2))\n",
    "    for i in range(2**(kbar-1)):\n",
    "        for j in range(i,2**(kbar-1)):\n",
    "            #pdb.set_trace()\n",
    "            A_[kbar2-i-1,j] = prob[np.rint(kbar2 - A.copy()[i,j]-1).astype(int),0]\n",
    "            A_[kbar2-j-1,i] = A_[kbar2-i-1,j]\n",
    "            A_[j,kbar2-i-1] = A_[kbar2-i-1,j]\n",
    "            A_[i,kbar2-j-1] = A_[kbar2-i-1,j]\n",
    "            A_[i,j] = prob[np.rint(A.copy()[i,j]).astype(int),0]\n",
    "            A_[j,i] = A_[i,j]\n",
    "            A_[kbar2-j-1,kbar2-i-1] = A_[i,j]\n",
    "            A_[kbar2-i-1,kbar2-j-1] = A_[i,j]\n",
    "        \n",
    "    return(A_)"
   ]
  },
  {
   "cell_type": "code",
   "execution_count": 5,
   "metadata": {},
   "outputs": [],
   "source": [
    "@jit(float64[:,:](float64[:,:],float64[:],int64))\n",
    "def transition_mat_jit(A,inpt,kbar):\n",
    "    b = inpt[0]\n",
    "    gamma_kbar = inpt[2]\n",
    "    gamma = np.zeros((kbar,1))\n",
    "    gamma[0,0] = 1-(1-gamma_kbar)**(1/(b**(kbar-1)))\n",
    "    for i in range(1,kbar):\n",
    "        gamma[i,0] = 1-(1-gamma[0,0])**(b**(i))\n",
    "    gamma = gamma*0.5\n",
    "    gamma = np.c_[gamma,gamma]\n",
    "    gamma[:,1] = 1 - gamma[:,1]\n",
    "    kbar2 = 2**kbar\n",
    "    prob = np.ones((kbar2,1))\n",
    "    A_ = np.zeros((kbar2,kbar2))\n",
    "    for i in range(kbar2):\n",
    "        for m in range(kbar):\n",
    "            prob[i,0] =prob[i,0]* gamma[kbar-m-1,\n",
    "                np.unpackbits(np.array([i],dtype = np.uint8))[-(m+1)]]\n",
    "    for i in range(2**(kbar-1)):\n",
    "        for j in range(i,2**(kbar-1)):\n",
    "            #pdb.set_trace()\n",
    "            A_[kbar2-i-1,j] = prob[np.rint(kbar2 - A.copy()[i,j]-1).astype(int),0]\n",
    "            A_[kbar2-j-1,i] = A_[kbar2-i-1,j]\n",
    "            A_[j,kbar2-i-1] = A_[kbar2-i-1,j]\n",
    "            A_[i,kbar2-j-1] = A_[kbar2-i-1,j]\n",
    "            A_[i,j] = prob[np.rint(A.copy()[i,j]).astype(int),0]\n",
    "            A_[j,i] = A_[i,j]\n",
    "            A_[kbar2-j-1,kbar2-i-1] = A_[i,j]\n",
    "            A_[kbar2-i-1,kbar2-j-1] = A_[i,j]\n",
    "        \n",
    "    return(A_)\n"
   ]
  },
  {
   "cell_type": "code",
   "execution_count": 6,
   "metadata": {
    "collapsed": true
   },
   "outputs": [],
   "source": [
    "def transition_mat_new(inpt,kbar):\n",
    "    b = inpt[0]\n",
    "    gamma_kbar = inpt[2]\n",
    "    gamma = np.zeros((kbar,1))\n",
    "    gamma[0,0] = 1-(1-gamma_kbar)**(1/(b**(kbar-1)))\n",
    "    for i in range(1,kbar):\n",
    "        gamma[i,0] = 1-(1-gamma[0,0])**(b**(i))\n",
    "    gamma = gamma*0.5\n",
    "    gamma = np.c_[gamma,gamma]\n",
    "    gamma[:,1] = 1 - gamma[:,1]\n",
    "    kbar2 = 2**kbar\n",
    "    prob = np.ones(kbar2)\n",
    "    # all combination of probabilities from gamma_1*gamma_2*gamma_3, gamma_1*gamma_2*(1-gamma_3),...\n",
    "    for i in range(kbar2):\n",
    "        for m in range(kbar):\n",
    "            tmp = np.unpackbits(np.arange(i,i+1,dtype = np.uint16).view(np.uint8))\n",
    "            tmp = np.append(tmp[8:],tmp[:8])\n",
    "            prob[i] =prob[i] * gamma[kbar-m-1,tmp[-(m+1)]]\n",
    "    A = np.fromfunction(lambda i,j: prob[np.bitwise_xor(i,j)],\n",
    "                          (kbar2,kbar2),dtype = np.uint16)                 \n",
    "    return(A)"
   ]
  },
  {
   "cell_type": "code",
   "execution_count": 7,
   "metadata": {},
   "outputs": [],
   "source": [
    "@jit(float64[:,:](float64[:],int64))\n",
    "def transition_mat_new_jit(inpt,kbar):\n",
    "    b = inpt[0]\n",
    "    gamma_kbar = inpt[2]\n",
    "    gamma = np.zeros((kbar,1))\n",
    "    gamma[0,0] = 1-(1-gamma_kbar)**(1/(b**(kbar-1)))\n",
    "    for i in range(1,kbar):\n",
    "        gamma[i,0] = 1-(1-gamma[0,0])**(b**(i))\n",
    "    gamma = gamma*0.5\n",
    "    gamma = np.c_[gamma,gamma]\n",
    "    gamma[:,1] = 1 - gamma[:,1]\n",
    "    kbar2 = 2**kbar\n",
    "    A = np.zeros((kbar2,kbar2))\n",
    "    prob = np.ones(kbar2)\n",
    "    # all combination of probabilities from gamma_1*gamma_2*gamma_3, gamma_1*gamma_2*(1-gamma_3),...\n",
    "    for i in range(kbar2):\n",
    "        for m in range(kbar):\n",
    "            prob[i] =prob[i] * gamma[kbar-m-1,\n",
    "                np.unpackbits(np.array([i],dtype = np.uint8))[-(m+1)]]\n",
    "    for i in range(kbar2):\n",
    "        for j in range(kbar2):\n",
    "            A[i,j] = prob[np.bitwise_xor(i,j)]\n",
    "    return(A)"
   ]
  },
  {
   "cell_type": "code",
   "execution_count": 8,
   "metadata": {
    "collapsed": true
   },
   "outputs": [],
   "source": [
    "A = [T_mat_template(i) for i in range(2,9)]"
   ]
  },
  {
   "cell_type": "code",
   "execution_count": 9,
   "metadata": {},
   "outputs": [
    {
     "data": {
      "text/plain": [
       "True"
      ]
     },
     "execution_count": 9,
     "metadata": {},
     "output_type": "execute_result"
    }
   ],
   "source": [
    "np.allclose(transition_mat(A[0],[3,1.5,0.5,3],2),transition_mat_jit(A[0],[3,1.5,0.5,3],2),\n",
    "            transition_mat_new_jit([3,1.5,0.5,3],2),transition_mat_new([3,1.5,0.5,3],2))"
   ]
  },
  {
   "cell_type": "code",
   "execution_count": 10,
   "metadata": {},
   "outputs": [],
   "source": [
    "import time\n",
    "\n",
    "times = np.zeros((4,len(A)))\n",
    "for i,v in enumerate(A):\n",
    "    start = time.time()\n",
    "    transition_mat(v,np.array([3,1.5,0.5,3]),i+2)\n",
    "    end = time.time()\n",
    "    times[0,i] = end-start\n",
    "    start = time.time()\n",
    "    transition_mat_jit(v,np.array([3,1.5,0.5,3]),i+2)\n",
    "    end = time.time()\n",
    "    times[1,i] = end-start\n",
    "    start = time.time()\n",
    "    transition_mat_new(np.array([3,1.5,0.5,3]),i+2)\n",
    "    end = time.time()\n",
    "    times[2,i] = end-start\n",
    "    start = time.time()\n",
    "    transition_mat_new_jit(np.array([3,1.5,0.5,3]),i+2)\n",
    "    end = time.time()\n",
    "    times[3,i] = end-start"
   ]
  },
  {
   "cell_type": "code",
   "execution_count": 11,
   "metadata": {},
   "outputs": [
    {
     "data": {
      "image/png": "[encoded data removed]",
      "text/plain": [
       "<matplotlib.figure.Figure at 0x1512ff1eb8>"
      ]
     },
     "metadata": {},
     "output_type": "display_data"
    }
   ],
   "source": [
    "import matplotlib.pyplot as plt\n",
    "plt.plot(np.arange(2,9),times[0,:],color = \"blue\",label = \"original transition_mat\")\n",
    "plt.plot(np.arange(2,9),times[1,:],color = \"green\",label = \"jit transition_mat\")\n",
    "plt.plot(np.arange(2,9),times[2,:],color = \"red\",label = \"new transition_mat\")\n",
    "plt.plot(np.arange(2,9),times[3,:],color = \"black\",label = \"jit new transition_mat\")\n",
    "plt.legend(loc='upper left')\n",
    "plt.show()"
   ]
  },
  {
   "cell_type": "code",
   "execution_count": 12,
   "metadata": {
    "collapsed": true
   },
   "outputs": [],
   "source": [
    "def gofm(inpt,kbar):\n",
    "    \"\"\"\n",
    "    A function that calculates all the possible volatility states\n",
    "    \"\"\"\n",
    "    m0 = inpt[1]\n",
    "    m1 = 2-m0\n",
    "    kbar2 = 2**kbar\n",
    "    g_m1 = np.arange(kbar2)\n",
    "    g_m = np.zeros(kbar2)\n",
    "    \n",
    "    for i in range(kbar2):\n",
    "        g =1\n",
    "        for j in range(kbar):\n",
    "            if np.bitwise_and(g_m1[i],(2**j))!=0:\n",
    "                g = g*m1\n",
    "            else:\n",
    "                g = g*m0\n",
    "        g_m[i] = g\n",
    "    return(np.sqrt(g_m))"
   ]
  },
  {
   "cell_type": "code",
   "execution_count": 13,
   "metadata": {},
   "outputs": [],
   "source": [
    "def MSM_likelihood(inpt,kbar,data,estim_flag,nargout =1):\n",
    "    if not hasattr(inpt,\"__len__\"):\n",
    "        inpt = [estim_flag[0],inpt,estim_flag[1],estim_flag[2]]\n",
    "        \n",
    "    sigma = inpt[3]/np.sqrt(252)\n",
    "    k2 = 2**kbar\n",
    "    A = transition_mat_new(inpt,kbar)\n",
    "    g_m = gofm(inpt,kbar)\n",
    "    T = len(data)\n",
    "    pi_mat = np.zeros((T+1,k2))\n",
    "    LLs = np.zeros(T)\n",
    "    pi_mat[0,:] = (1/k2)*np.ones((1,k2))\n",
    "    \"\"\"\n",
    "    Likelihood Algorithm\n",
    "    \"\"\"\n",
    "    pa = (2*np.pi)**(-0.5)\n",
    "    s = sigma*g_m\n",
    "    w_t = data \n",
    "    w_t = pa*np.exp(-0.5*((w_t/s)**2))/s\n",
    "    w_t = w_t + 1e-16\n",
    "\n",
    "    for t in range(T):\n",
    "        \n",
    "        piA = np.dot(pi_mat[t,:],A)\n",
    "        C = (w_t[t,:]*piA)\n",
    "        ft = np.sum(C) # log\n",
    "        if np.isclose(ft,0):\n",
    "            pi_mat[t+1,1]=1\n",
    "        else:\n",
    "            pi_mat[t+1,:] = C/ft\n",
    "        LLs[t] = np.log(np.dot(w_t[t,:],piA))\n",
    "        \n",
    "    LL = -np.sum(LLs)\n",
    "    if np.any(np.isinf(LLs)):\n",
    "        print(\"Log-likelihood is inf. Probably due to all zeros in pi_mat.\")\n",
    "    if nargout == 1:\n",
    "        return(LL)\n",
    "    else:\n",
    "        return(LL,LLs)\n"
   ]
  },
  {
   "cell_type": "code",
   "execution_count": 14,
   "metadata": {
    "collapsed": true
   },
   "outputs": [],
   "source": [
    "def MSM_starting_values(data,startingvals,kbar):\n",
    "    if startingvals is None:\n",
    "        print(\"No starting values entered: Using grid-search\")\n",
    "\n",
    "        b = np.array([1.5,3,6,20])\n",
    "        lb = len(b)\n",
    "        g = np.array([.1,.5,.9])\n",
    "        lg = len(g)\n",
    "        sigma = np.std(data)*np.sqrt(252)\n",
    "        output_parameters = np.zeros(((lb*lg),3))\n",
    "        LLs = np.zeros((lb*lg))\n",
    "        m0_lower = 1.2\n",
    "        m0_upper = 1.8\n",
    "        idx = 0\n",
    "        for i in range(lb):\n",
    "            for j in range(lg):\n",
    "                xopt,fval,ierr,numfunc = opt.fminbound(MSM_likelihood,\n",
    "                                                 x1 = m0_lower,x2 = m0_upper,xtol = 1e-3,\n",
    "                                                 args = (kbar,data,[b[i],g[j],sigma]),full_output = True)\n",
    "                m0,LL = xopt,fval\n",
    "                output_parameters[idx,:] = b[i],m0,g[j]\n",
    "                LLs[idx] = LL\n",
    "                idx +=1\n",
    "        idx = np.argsort(LLs)\n",
    "        LLs = np.sort(LLs)\n",
    "        startingvals = output_parameters[idx[0],:].tolist()+[sigma]\n",
    "        output_parameters = output_parameters[idx,:]\n",
    "        return(startingvals,LLs,output_parameters)"
   ]
  },
  {
   "cell_type": "code",
   "execution_count": 23,
   "metadata": {
    "collapsed": true
   },
   "outputs": [],
   "source": [
    "def MSM_modified(data,kbar,startingvals):\n",
    "        startingvals, LLs,ordered_parameters = MSM_starting_values(data,startingvals,kbar)\n",
    "        print(startingvals)\n",
    "        bnds = ((1.01,50),(1,1.99),(1e-3,0.999999),(1e-4,5))\n",
    "        minimizer_kwargs = dict(method = \"L-BFGS-B\",bounds = bnds,args = (kbar,dat,None))\n",
    "        res = opt.basinhopping(MSM_likelihood,x0 = startingvals,minimizer_kwargs = minimizer_kwargs,niter = 1)\n",
    "        parameters,LL,niters,output = res.x,res.fun,res.nit,res.message\n",
    "        LL, LLs = MSM_likelihood(parameters,kbar,data,None,1)\n",
    "        LL = -LL\n",
    "        \n",
    "        return(LL,LLs,parameters)"
   ]
  },
  {
   "cell_type": "code",
   "execution_count": 50,
   "metadata": {},
   "outputs": [],
   "source": [
    "dat = pd.read_csv(\"data_demo.csv\",header = None)\n",
    "dat = np.array(dat)"
   ]
  },
  {
   "cell_type": "code",
   "execution_count": 51,
   "metadata": {},
   "outputs": [
    {
     "name": "stdout",
     "output_type": "stream",
     "text": [
      "No starting values entered: Using grid-search\n",
      "[1.5, 1.2826170355588669, 0.9, 0.19351177915717233]\n"
     ]
    },
    {
     "ename": "TypeError",
     "evalue": "'numpy.float64' object is not iterable",
     "output_type": "error",
     "traceback": [
      "\u001b[0;31m---------------------------------------------------------------------------\u001b[0m",
      "\u001b[0;31mTypeError\u001b[0m                                 Traceback (most recent call last)",
      "\u001b[0;32m<ipython-input-51-5e96fe578aa7>\u001b[0m in \u001b[0;36m<module>\u001b[0;34m()\u001b[0m\n\u001b[0;32m----> 1\u001b[0;31m \u001b[0mLL\u001b[0m\u001b[0;34m,\u001b[0m\u001b[0mLLs\u001b[0m\u001b[0;34m,\u001b[0m\u001b[0mparams\u001b[0m \u001b[0;34m=\u001b[0m \u001b[0mMSM_modified\u001b[0m\u001b[0;34m(\u001b[0m\u001b[0mdat\u001b[0m\u001b[0;34m,\u001b[0m\u001b[0;36m5\u001b[0m\u001b[0;34m,\u001b[0m\u001b[0;32mNone\u001b[0m\u001b[0;34m)\u001b[0m\u001b[0;34m\u001b[0m\u001b[0m\n\u001b[0m",
      "\u001b[0;32m<ipython-input-23-82b96602569f>\u001b[0m in \u001b[0;36mMSM_modified\u001b[0;34m(data, kbar, startingvals)\u001b[0m\n\u001b[1;32m      6\u001b[0m         \u001b[0mres\u001b[0m \u001b[0;34m=\u001b[0m \u001b[0mopt\u001b[0m\u001b[0;34m.\u001b[0m\u001b[0mbasinhopping\u001b[0m\u001b[0;34m(\u001b[0m\u001b[0mMSM_likelihood\u001b[0m\u001b[0;34m,\u001b[0m\u001b[0mx0\u001b[0m \u001b[0;34m=\u001b[0m \u001b[0mstartingvals\u001b[0m\u001b[0;34m,\u001b[0m\u001b[0mminimizer_kwargs\u001b[0m \u001b[0;34m=\u001b[0m \u001b[0mminimizer_kwargs\u001b[0m\u001b[0;34m,\u001b[0m\u001b[0mniter\u001b[0m \u001b[0;34m=\u001b[0m \u001b[0;36m1\u001b[0m\u001b[0;34m)\u001b[0m\u001b[0;34m\u001b[0m\u001b[0m\n\u001b[1;32m      7\u001b[0m         \u001b[0mparameters\u001b[0m\u001b[0;34m,\u001b[0m\u001b[0mLL\u001b[0m\u001b[0;34m,\u001b[0m\u001b[0mniters\u001b[0m\u001b[0;34m,\u001b[0m\u001b[0moutput\u001b[0m \u001b[0;34m=\u001b[0m \u001b[0mres\u001b[0m\u001b[0;34m.\u001b[0m\u001b[0mx\u001b[0m\u001b[0;34m,\u001b[0m\u001b[0mres\u001b[0m\u001b[0;34m.\u001b[0m\u001b[0mfun\u001b[0m\u001b[0;34m,\u001b[0m\u001b[0mres\u001b[0m\u001b[0;34m.\u001b[0m\u001b[0mnit\u001b[0m\u001b[0;34m,\u001b[0m\u001b[0mres\u001b[0m\u001b[0;34m.\u001b[0m\u001b[0mmessage\u001b[0m\u001b[0;34m\u001b[0m\u001b[0m\n\u001b[0;32m----> 8\u001b[0;31m         \u001b[0mLL\u001b[0m\u001b[0;34m,\u001b[0m \u001b[0mLLs\u001b[0m \u001b[0;34m=\u001b[0m \u001b[0mMSM_likelihood\u001b[0m\u001b[0;34m(\u001b[0m\u001b[0mparameters\u001b[0m\u001b[0;34m,\u001b[0m\u001b[0mkbar\u001b[0m\u001b[0;34m,\u001b[0m\u001b[0mdata\u001b[0m\u001b[0;34m,\u001b[0m\u001b[0;32mNone\u001b[0m\u001b[0;34m,\u001b[0m\u001b[0;36m1\u001b[0m\u001b[0;34m)\u001b[0m\u001b[0;34m\u001b[0m\u001b[0m\n\u001b[0m\u001b[1;32m      9\u001b[0m         \u001b[0mLL\u001b[0m \u001b[0;34m=\u001b[0m \u001b[0;34m-\u001b[0m\u001b[0mLL\u001b[0m\u001b[0;34m\u001b[0m\u001b[0m\n\u001b[1;32m     10\u001b[0m \u001b[0;34m\u001b[0m\u001b[0m\n",
      "\u001b[0;31mTypeError\u001b[0m: 'numpy.float64' object is not iterable"
     ]
    }
   ],
   "source": [
    "LL,LLs,params = MSM_modified(dat,5,None)"
   ]
  },
  {
   "cell_type": "code",
   "execution_count": null,
   "metadata": {},
   "outputs": [],
   "source": [
    "params"
   ]
  },
  {
   "cell_type": "code",
   "execution_count": 19,
   "metadata": {
    "collapsed": true
   },
   "outputs": [],
   "source": [
    "def MSM_likelihood_old(inpt,kbar,data,A_template):      \n",
    "    sigma = inpt[3]/np.sqrt(252)\n",
    "    k2 = 2**kbar\n",
    "    A = transition_mat_16(A_template.copy(),inpt,kbar)\n",
    "    g_m = gofm(inpt,kbar)\n",
    "    T = len(data)\n",
    "    pi_mat = np.zeros((T+1,k2))\n",
    "    LLs = np.zeros(T)\n",
    "    pi_mat[0,:] = (1/k2)*np.ones((1,k2))\n",
    "    \"\"\"\n",
    "    Likelihood Algorithm\n",
    "    \"\"\"\n",
    "    pa = (2*np.pi)**(-0.5)\n",
    "    s = sigma*g_m\n",
    "    w_t = data \n",
    "    w_t = pa*np.exp(-0.5*((w_t/s)**2))/s\n",
    "    w_t = w_t + 1e-16\n",
    "\n",
    "    for t in range(T):\n",
    "        \n",
    "        piA = np.dot(pi_mat[t,:],A)\n",
    "        C = (w_t[t,:]*piA)\n",
    "        ft = np.sum(C) # log\n",
    "        if np.isclose(ft,0):\n",
    "            pi_mat[t+1,1]=1\n",
    "        else:\n",
    "            pi_mat[t+1,:] = C/ft\n",
    "        LLs[t] = np.log(np.dot(w_t[t,:],piA))\n",
    "        \n",
    "    LL = -np.sum(LLs)\n",
    "    if np.any(np.isinf(LLs)):\n",
    "        print(\"Log-likelihood is inf. Probably due to all zeros in pi_mat.\")\n",
    "    else:\n",
    "        return(LL,LLs)"
   ]
  },
  {
   "cell_type": "code",
   "execution_count": 20,
   "metadata": {
    "collapsed": true
   },
   "outputs": [],
   "source": [
    "def MSM_modified_old(data,kbar,startingvals):\n",
    "        A_template = T_mat_template(kbar)\n",
    "        startingvals, LLs,ordered_parameters = MSM_starting_values(data,startingvals,kbar,A_template)\n",
    "        bnds = ((1,50),(1,1.99),(1e-3,0.999999),(1e-4,5))\n",
    "        minimizer_kwargs = dict(method = \"L-BFGS-B\",bounds = bnds,args = (kbar,dat,A_template,None))\n",
    "        res = scipy.optimize.basinhopping(MSM_likelihood,x0 = startingvals,minimizer_kwargs = minimizer_kwargs,niter = 3)\n",
    "        parameters,LL,niters,output = res.x,res.fun,res.nit,res.message\n",
    "        LL, LLs = MSM_likelihood(parameters,kbar,data,A_template,None,2)\n",
    "        LL = -LL\n",
    "        \n",
    "        return(LL,LLs,parameters)"
   ]
  },
  {
   "cell_type": "code",
   "execution_count": 21,
   "metadata": {
    "collapsed": true
   },
   "outputs": [],
   "source": [
    "A = [T_mat_template(i) for i in range(2,11)]"
   ]
  },
  {
   "cell_type": "code",
   "execution_count": 22,
   "metadata": {},
   "outputs": [
    {
     "ename": "TypeError",
     "evalue": "MSM_likelihood() missing 1 required positional argument: 'estim_flag'",
     "output_type": "error",
     "traceback": [
      "\u001b[0;31m---------------------------------------------------------------------------\u001b[0m",
      "\u001b[0;31mTypeError\u001b[0m                                 Traceback (most recent call last)",
      "\u001b[0;32m<ipython-input-22-f892cbe5afed>\u001b[0m in \u001b[0;36m<module>\u001b[0;34m()\u001b[0m\n\u001b[1;32m      2\u001b[0m \u001b[0;32mfor\u001b[0m \u001b[0mi\u001b[0m\u001b[0;34m,\u001b[0m\u001b[0mv\u001b[0m \u001b[0;32min\u001b[0m \u001b[0menumerate\u001b[0m\u001b[0;34m(\u001b[0m\u001b[0mA\u001b[0m\u001b[0;34m)\u001b[0m\u001b[0;34m:\u001b[0m\u001b[0;34m\u001b[0m\u001b[0m\n\u001b[1;32m      3\u001b[0m     \u001b[0mstart\u001b[0m \u001b[0;34m=\u001b[0m \u001b[0mtime\u001b[0m\u001b[0;34m.\u001b[0m\u001b[0mtime\u001b[0m\u001b[0;34m(\u001b[0m\u001b[0;34m)\u001b[0m\u001b[0;34m\u001b[0m\u001b[0m\n\u001b[0;32m----> 4\u001b[0;31m     \u001b[0mMSM_likelihood\u001b[0m\u001b[0;34m(\u001b[0m\u001b[0;34m[\u001b[0m\u001b[0;36m3\u001b[0m\u001b[0;34m,\u001b[0m\u001b[0;36m1.5\u001b[0m\u001b[0;34m,\u001b[0m\u001b[0;36m0.5\u001b[0m\u001b[0;34m,\u001b[0m\u001b[0;36m3\u001b[0m\u001b[0;34m]\u001b[0m\u001b[0;34m,\u001b[0m\u001b[0mi\u001b[0m\u001b[0;34m+\u001b[0m\u001b[0;36m2\u001b[0m\u001b[0;34m,\u001b[0m\u001b[0mdat\u001b[0m\u001b[0;34m)\u001b[0m\u001b[0;34m\u001b[0m\u001b[0m\n\u001b[0m\u001b[1;32m      5\u001b[0m     \u001b[0mend\u001b[0m \u001b[0;34m=\u001b[0m \u001b[0mtime\u001b[0m\u001b[0;34m.\u001b[0m\u001b[0mtime\u001b[0m\u001b[0;34m(\u001b[0m\u001b[0;34m)\u001b[0m\u001b[0;34m\u001b[0m\u001b[0m\n\u001b[1;32m      6\u001b[0m     \u001b[0mtimes\u001b[0m\u001b[0;34m[\u001b[0m\u001b[0;36m0\u001b[0m\u001b[0;34m,\u001b[0m\u001b[0mi\u001b[0m\u001b[0;34m]\u001b[0m \u001b[0;34m=\u001b[0m \u001b[0mend\u001b[0m\u001b[0;34m-\u001b[0m\u001b[0mstart\u001b[0m\u001b[0;34m\u001b[0m\u001b[0m\n",
      "\u001b[0;31mTypeError\u001b[0m: MSM_likelihood() missing 1 required positional argument: 'estim_flag'"
     ]
    }
   ],
   "source": [
    "times = np.zeros((2,len(A)))\n",
    "for i,v in enumerate(A):\n",
    "    start = time.time()\n",
    "    MSM_likelihood([3,1.5,0.5,3],i+2,dat)\n",
    "    end = time.time()\n",
    "    times[0,i] = end-start\n",
    "    start = time.time()\n",
    "    MSM_likelihood_old([3,1.5,0.5,3],i+2,dat,v)\n",
    "    end = time.time()\n",
    "    times[1,i] = end-start\n",
    "plt.plot(np.arange(2,11),times[0,:],color = \"blue\",label = \"new MSM_likelihood\")\n",
    "plt.plot(np.arange(2,11),times[1,:],color = \"green\",label = \"old MSM_likelihood\")\n",
    "plt.legend(loc='upper left')\n",
    "plt.show()"
   ]
  },
  {
   "cell_type": "code",
   "execution_count": null,
   "metadata": {},
   "outputs": [],
   "source": [
    "%time LL_,LLs_ = MSM_likelihood([3,1.5,0.5,3],10,dat)\n",
    "%time LL,LLs = MSM_likelihood_old([3,1.5,0.5,3],10,dat,A[8])"
   ]
  },
  {
   "cell_type": "code",
   "execution_count": null,
   "metadata": {},
   "outputs": [],
   "source": [
    "np.allclose(LL,LL_)"
   ]
  },
  {
   "cell_type": "code",
   "execution_count": null,
   "metadata": {},
   "outputs": [],
   "source": [
    "np.allclose(LLs_,LLs)"
   ]
  },
  {
   "cell_type": "code",
   "execution_count": 53,
   "metadata": {
    "collapsed": true
   },
   "outputs": [],
   "source": [
    "class memoize(dict):\n",
    "    def __init__(self, func):\n",
    "        self.func = func\n",
    "\n",
    "    def __call__(self, *args):\n",
    "        return self[args]\n",
    "\n",
    "    def __missing__(self, key):\n",
    "        result = self[key] = self.func(*key)\n",
    "        return result"
   ]
  },
  {
   "cell_type": "code",
   "execution_count": 54,
   "metadata": {},
   "outputs": [],
   "source": [
    "@memoize\n",
    "def transition_prob(inpt,state_t,kbar):\n",
    "    b = inpt[0]\n",
    "    gamma_kbar = inpt[2]\n",
    "    gamma = np.zeros((kbar,1))\n",
    "    gamma[0,0] = 1-(1-gamma_kbar)**(1/(b**(kbar-1)))\n",
    "    for i in range(1,kbar):\n",
    "        gamma[i,0] = 1-(1-gamma[0,0])**(b**(i))\n",
    "    gamma = gamma*0.5\n",
    "    gamma = np.c_[gamma,gamma]\n",
    "    gamma[:,1] = 1 - gamma[:,1]\n",
    "    kbar2 = 2**kbar\n",
    "    prob = np.ones(kbar2)\n",
    "    # all combination of probabilities from gamma_1*gamma_2*gamma_3, gamma_1*gamma_2*(1-gamma_3),...\n",
    "    for i in range(kbar2):\n",
    "        for m in range(kbar):\n",
    "            tmp = np.unpackbits(np.arange(i,i+1,dtype = np.uint16).view(np.uint8))\n",
    "            tmp = np.append(tmp[8:],tmp[:8])\n",
    "            prob[i] =prob[i] * gamma[kbar-m-1,tmp[-(m+1)]]\n",
    "    A = np.fromfunction(lambda i,j: prob[np.bitwise_xor(np.uint16(state_t),j)],\n",
    "                          (1,kbar2),dtype = np.uint16)                 \n",
    "    return(A)"
   ]
  },
  {
   "cell_type": "code",
   "execution_count": 60,
   "metadata": {},
   "outputs": [],
   "source": [
    "def likelihood_pf(inpt,kbar,data,B):\n",
    "    g_m = gofm(inpt,kbar)\n",
    "    Ms = np.arange(len(g_m))\n",
    "    sigma = inpt[3]/np.sqrt(252)\n",
    "    # no particles given so will simulate from time 1to t with data\n",
    "    k2 = 2**kbar\n",
    "    T = len(data)\n",
    "    M_mat = np.zeros((T,B))\n",
    "    pa = (2*np.pi)**(-0.5)\n",
    "    s = sigma*g_m\n",
    "    w_t = data \n",
    "    w_t = pa*np.exp(-0.5*((w_t/s)**2))/s\n",
    "    w_t = w_t + 1e-16\n",
    "    LLs = np.zeros(T)\n",
    "    M_mat[0,:] = np.random.choice(Ms, size=B, replace=True, p=(1/k2)*np.ones(k2))\n",
    "    LLs[0] = np.mean(w_t[0,M_mat[0,:].astype(int)])\n",
    "    for i in range(T-1):\n",
    "        M_temp = np.zeros(B)\n",
    "        ws = np.zeros(B)\n",
    "        for j,val in enumerate(M_mat[i,:]):\n",
    "            #pdb.set_trace()\n",
    "            probs = transition_prob(inpt,val,kbar)[0]\n",
    "            M_temp[j] = np.random.choice(Ms,size = 1,p = probs)\n",
    "        for k,val in enumerate(M_temp):\n",
    "            ws[k] = w_t[i+1,val.astype(int)]/np.sum(w_t[i+1,M_temp.astype(int)])\n",
    "        M_mat[i+1,:] = np.random.choice(M_temp,size = B,replace = True,p = ws)\n",
    "        LLs[i+1] = np.mean(w_t[i+1,M_mat[i+1,:].astype(int)])\n",
    "    LL = np.sum(np.log(LLs))\n",
    "    return(LL,LLs,M_mat[-1,:],w_t[-1,:])  "
   ]
  },
  {
   "cell_type": "code",
   "execution_count": 61,
   "metadata": {},
   "outputs": [],
   "source": [
    "LL,LLs,mmat,w = likelihood_pf((1.5 ,1.3,0.99 ,0.2),5,dat,3000)"
   ]
  },
  {
   "cell_type": "code",
   "execution_count": 62,
   "metadata": {},
   "outputs": [
    {
     "data": {
      "text/plain": [
       "3139.8499232773875"
      ]
     },
     "execution_count": 62,
     "metadata": {},
     "output_type": "execute_result"
    }
   ],
   "source": [
    "LL"
   ]
  },
  {
   "cell_type": "code",
   "execution_count": 71,
   "metadata": {
    "collapsed": true
   },
   "outputs": [],
   "source": [
    "a = np.array([[0.5,0.2,0.3],[0.1,0.2,0.7],[0.1,0.1,0.8]])"
   ]
  },
  {
   "cell_type": "code",
   "execution_count": 76,
   "metadata": {},
   "outputs": [
    {
     "data": {
      "text/plain": [
       "array([[ 0.16666667,  0.12962963,  0.7037037 ],\n",
       "       [ 0.16666667,  0.12962963,  0.7037037 ],\n",
       "       [ 0.16666667,  0.12962963,  0.7037037 ]])"
      ]
     },
     "execution_count": 76,
     "metadata": {},
     "output_type": "execute_result"
    }
   ],
   "source": [
    "np.array(np.matrix(a)**100)"
   ]
  },
  {
   "cell_type": "code",
   "execution_count": null,
   "metadata": {
    "collapsed": true
   },
   "outputs": [],
   "source": [
    "def particle_filter_prediction(inpt,kbar,B,n_steps,particles,weights):\n",
    "    g_m = gofm(inpt,kbar)\n",
    "    Ms = np.arange(len(g_m))\n",
    "    sigma = inpt[3]/np.sqrt(252)\n",
    "    M_pred = np.zeros((n_steps+1,B))\n",
    "    pred_means = np.zeros(n_steps)\n",
    "    pred_vars = np.zeros(n_steps)\n",
    "    for i in range(n_steps):\n",
    "        for j,val in enumerate(M_pred[i,:]):\n",
    "            probs = transition_prob(inpt,val,kbar)[0]\n",
    "            M_pred[i+1,j] = np.random.choice(Ms,size = 1, p = probs)\n",
    "        pred_particles = sigma*np.sqrt(g_m[M_pred[i+1,:].astype(int)])\n",
    "        weights = weights[M_pred[i+1,:].astype(int)]\n",
    "        weights = weights/np.sum(weights)\n",
    "        pred_means[i] = np.average(pred_particles,weights=weights)\n",
    "        pred_vars[i] = np.average((pred_particles-pred_means[i])**2,weights=weights)\n",
    "    return(pred_means,pred_vars,M_pred,)  "
   ]
  },
  {
   "cell_type": "code",
   "execution_count": null,
   "metadata": {},
   "outputs": [],
   "source": [
    "transition_mat_new([3,1.5,0.5,3],5)[10,:]"
   ]
  },
  {
   "cell_type": "code",
   "execution_count": null,
   "metadata": {},
   "outputs": [],
   "source": [
    "particle_filter_prediction(( 1.89718756,  1.3374673 ,  0.00438763,  0.25166126),5,dat[:-5],1000,5)"
   ]
  },
  {
   "cell_type": "code",
   "execution_count": null,
   "metadata": {},
   "outputs": [],
   "source": [
    "dat[-5:]"
   ]
  },
  {
   "cell_type": "code",
   "execution_count": null,
   "metadata": {},
   "outputs": [],
   "source": [
    "2*np.sqrt(7.13822585e-07)"
   ]
  },
  {
   "cell_type": "code",
   "execution_count": null,
   "metadata": {
    "collapsed": true
   },
   "outputs": [],
   "source": []
  }
 ],
 "metadata": {
  "kernelspec": {
   "display_name": "Python [conda env:anaconda]",
   "language": "python",
   "name": "conda-env-anaconda-py"
  },
  "language_info": {
   "codemirror_mode": {
    "name": "ipython",
    "version": 3
   },
   "file_extension": ".py",
   "mimetype": "text/x-python",
   "name": "python",
   "nbconvert_exporter": "python",
   "pygments_lexer": "ipython3",
   "version": "3.5.4"
  }
 },
 "nbformat": 4,
 "nbformat_minor": 2
}
