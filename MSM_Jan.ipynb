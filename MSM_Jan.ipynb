{
 "cells": [
  {
   "cell_type": "code",
   "execution_count": 107,
   "metadata": {
    "collapsed": true
   },
   "outputs": [],
   "source": [
    "import numpy as np\n",
    "import scipy\n",
    "import pdb\n",
    "from numba import jit,vectorize,float64, int64,types\n",
    "import pandas as pd\n",
    "import scipy.optimize as opt"
   ]
  },
  {
   "cell_type": "code",
   "execution_count": 108,
   "metadata": {
    "collapsed": true
   },
   "outputs": [],
   "source": [
    "def T_mat_template(kbar):\n",
    "    kbar2 = 2**kbar\n",
    "    A = np.zeros((kbar2,kbar2))\n",
    "    for i in range(kbar2):\n",
    "        for j in range(i,kbar2-i):\n",
    "            A[i,j] = np.bitwise_xor(i,j)\n",
    "    return(A)     "
   ]
  },
  {
   "cell_type": "code",
   "execution_count": 109,
   "metadata": {},
   "outputs": [],
   "source": [
    "def transition_mat(A,inpt,kbar):\n",
    "    b = inpt[0]\n",
    "    gamma_kbar = inpt[2]\n",
    "    gamma = np.zeros((kbar,1))\n",
    "    gamma[0,0] = 1-(1-gamma_kbar)**(1/(b**(kbar-1)))\n",
    "    for i in range(1,kbar):\n",
    "        gamma[i,0] = 1-(1-gamma[0,0])**(b**(i))\n",
    "    gamma = gamma*0.5\n",
    "    gamma = np.c_[gamma,gamma]\n",
    "    gamma[:,0] = 1 - gamma[:,1]\n",
    "    kbar2 = 2**kbar\n",
    "    prob = np.ones((kbar2,1))\n",
    "    # all combination of probabilities from gamma_1*gamma_2*gamma_3, gamma_1*gamma_2*(1-gamma_3),...\n",
    "    A_ = np.zeros((kbar2,kbar2))\n",
    "    for i in range(kbar2):\n",
    "        for m in range(kbar):\n",
    "            prob[i,0] =prob[i,0]* gamma[kbar-m-1,\n",
    "                np.unpackbits(np.array([i],dtype = np.uint8))[-(m+1)]]\n",
    "    for i in range(2**(kbar-1)):\n",
    "        for j in range(i,2**(kbar-1)):\n",
    "            #pdb.set_trace()\n",
    "            A_[kbar2-i-1,j] = prob[np.rint(kbar2 - A.copy()[i,j]-1).astype(int),0]\n",
    "            A_[kbar2-j-1,i] = A_[kbar2-i-1,j]\n",
    "            A_[j,kbar2-i-1] = A_[kbar2-i-1,j]\n",
    "            A_[i,kbar2-j-1] = A_[kbar2-i-1,j]\n",
    "            A_[i,j] = prob[np.rint(A.copy()[i,j]).astype(int),0]\n",
    "            A_[j,i] = A_[i,j]\n",
    "            A_[kbar2-j-1,kbar2-i-1] = A_[i,j]\n",
    "            A_[kbar2-i-1,kbar2-j-1] = A_[i,j]\n",
    "        \n",
    "    return(A_)"
   ]
  },
  {
   "cell_type": "code",
   "execution_count": 110,
   "metadata": {
    "collapsed": true
   },
   "outputs": [],
   "source": [
    "def transition_mat_16(A,inpt,kbar):\n",
    "    b = inpt[0]\n",
    "    gamma_kbar = inpt[2]\n",
    "    gamma = np.zeros((kbar,1))\n",
    "    gamma[0,0] = 1-(1-gamma_kbar)**(1/(b**(kbar-1)))\n",
    "    for i in range(1,kbar):\n",
    "        gamma[i,0] = 1-(1-gamma[0,0])**(b**(i))\n",
    "    gamma = gamma*0.5\n",
    "    gamma = np.c_[gamma,gamma]\n",
    "    gamma[:,0] = 1 - gamma[:,1]\n",
    "    kbar2 = 2**kbar\n",
    "    prob = np.ones((kbar2,1))\n",
    "    # all combination of probabilities from gamma_1*gamma_2*gamma_3, gamma_1*gamma_2*(1-gamma_3),...\n",
    "    for i in range(kbar2):\n",
    "        for m in range(kbar):\n",
    "            tmp = np.unpackbits(np.arange(i,i+1,dtype = np.uint16).view(np.uint8))\n",
    "            tmp = np.append(tmp[8:],tmp[:8])\n",
    "            prob[i,0] =prob[i,0] * gamma[kbar-m-1,tmp[-(m+1)]]\n",
    "    A_ = np.zeros((kbar2,kbar2))\n",
    "    for i in range(2**(kbar-1)):\n",
    "        for j in range(i,2**(kbar-1)):\n",
    "            #pdb.set_trace()\n",
    "            A_[kbar2-i-1,j] = prob[np.rint(kbar2 - A.copy()[i,j]-1).astype(int),0]\n",
    "            A_[kbar2-j-1,i] = A_[kbar2-i-1,j]\n",
    "            A_[j,kbar2-i-1] = A_[kbar2-i-1,j]\n",
    "            A_[i,kbar2-j-1] = A_[kbar2-i-1,j]\n",
    "            A_[i,j] = prob[np.rint(A.copy()[i,j]).astype(int),0]\n",
    "            A_[j,i] = A_[i,j]\n",
    "            A_[kbar2-j-1,kbar2-i-1] = A_[i,j]\n",
    "            A_[kbar2-i-1,kbar2-j-1] = A_[i,j]\n",
    "        \n",
    "    return(A_)"
   ]
  },
  {
   "cell_type": "code",
   "execution_count": 111,
   "metadata": {},
   "outputs": [],
   "source": [
    "@jit(float64[:,:](float64[:,:],float64[:],int64))\n",
    "def transition_mat_jit(A,inpt,kbar):\n",
    "    b = inpt[0]\n",
    "    gamma_kbar = inpt[2]\n",
    "    gamma = np.zeros((kbar,1))\n",
    "    gamma[0,0] = 1-(1-gamma_kbar)**(1/(b**(kbar-1)))\n",
    "    for i in range(1,kbar):\n",
    "        gamma[i,0] = 1-(1-gamma[0,0])**(b**(i))\n",
    "    gamma = gamma*0.5\n",
    "    gamma = np.c_[gamma,gamma]\n",
    "    gamma[:,0] = 1 - gamma[:,1]\n",
    "    kbar2 = 2**kbar\n",
    "    prob = np.ones((kbar2,1))\n",
    "    A_ = np.zeros((kbar2,kbar2))\n",
    "    for i in range(kbar2):\n",
    "        for m in range(kbar):\n",
    "            prob[i,0] =prob[i,0]* gamma[kbar-m-1,\n",
    "                np.unpackbits(np.array([i],dtype = np.uint8))[-(m+1)]]\n",
    "    for i in range(2**(kbar-1)):\n",
    "        for j in range(i,2**(kbar-1)):\n",
    "            #pdb.set_trace()\n",
    "            A_[kbar2-i-1,j] = prob[np.rint(kbar2 - A.copy()[i,j]-1).astype(int),0]\n",
    "            A_[kbar2-j-1,i] = A_[kbar2-i-1,j]\n",
    "            A_[j,kbar2-i-1] = A_[kbar2-i-1,j]\n",
    "            A_[i,kbar2-j-1] = A_[kbar2-i-1,j]\n",
    "            A_[i,j] = prob[np.rint(A.copy()[i,j]).astype(int),0]\n",
    "            A_[j,i] = A_[i,j]\n",
    "            A_[kbar2-j-1,kbar2-i-1] = A_[i,j]\n",
    "            A_[kbar2-i-1,kbar2-j-1] = A_[i,j]\n",
    "        \n",
    "    return(A_)\n"
   ]
  },
  {
   "cell_type": "code",
   "execution_count": 112,
   "metadata": {
    "collapsed": true
   },
   "outputs": [],
   "source": [
    "def transition_mat_new(inpt,kbar):\n",
    "    b = inpt[0]\n",
    "    gamma_kbar = inpt[2]\n",
    "    gamma = np.zeros((kbar,1))\n",
    "    gamma[0,0] = 1-(1-gamma_kbar)**(1/(b**(kbar-1)))\n",
    "    for i in range(1,kbar):\n",
    "        gamma[i,0] = 1-(1-gamma[0,0])**(b**(i))\n",
    "    gamma = gamma*0.5\n",
    "    gamma = np.c_[gamma,gamma]\n",
    "    gamma[:,0] = 1 - gamma[:,1]\n",
    "    kbar2 = 2**kbar\n",
    "    prob = np.ones(kbar2)\n",
    "    # all combination of probabilities from gamma_1*gamma_2*gamma_3, gamma_1*gamma_2*(1-gamma_3),...\n",
    "    for i in range(kbar2):\n",
    "        for m in range(kbar):\n",
    "            tmp = np.unpackbits(np.arange(i,i+1,dtype = np.uint16).view(np.uint8))\n",
    "            tmp = np.append(tmp[8:],tmp[:8])\n",
    "            prob[i] =prob[i] * gamma[kbar-m-1,tmp[-(m+1)]]\n",
    "    A = np.fromfunction(lambda i,j: prob[np.bitwise_xor(i,j)],\n",
    "                          (kbar2,kbar2),dtype = np.uint16)                 \n",
    "    return(A)"
   ]
  },
  {
   "cell_type": "code",
   "execution_count": 113,
   "metadata": {},
   "outputs": [],
   "source": [
    "@jit(float64[:,:](float64[:],int64))\n",
    "def transition_mat_new_jit(inpt,kbar):\n",
    "    b = inpt[0]\n",
    "    gamma_kbar = inpt[2]\n",
    "    gamma = np.zeros((kbar,1))\n",
    "    gamma[0,0] = 1-(1-gamma_kbar)**(1/(b**(kbar-1)))\n",
    "    for i in range(1,kbar):\n",
    "        gamma[i,0] = 1-(1-gamma[0,0])**(b**(i))\n",
    "    gamma = gamma*0.5\n",
    "    gamma = np.c_[gamma,gamma]\n",
    "    gamma[:,0] = 1 - gamma[:,1]\n",
    "    kbar2 = 2**kbar\n",
    "    A = np.zeros((kbar2,kbar2))\n",
    "    prob = np.ones(kbar2)\n",
    "    # all combination of probabilities from gamma_1*gamma_2*gamma_3, gamma_1*gamma_2*(1-gamma_3),...\n",
    "    for i in range(kbar2):\n",
    "        for m in range(kbar):\n",
    "            prob[i] =prob[i] * gamma[kbar-m-1,\n",
    "                np.unpackbits(np.array([i],dtype = np.uint8))[-(m+1)]]\n",
    "    for i in range(kbar2):\n",
    "        for j in range(kbar2):\n",
    "            A[i,j] = prob[np.bitwise_xor(i,j)]\n",
    "    return(A)"
   ]
  },
  {
   "cell_type": "code",
   "execution_count": 114,
   "metadata": {
    "collapsed": true
   },
   "outputs": [],
   "source": [
    "A = [T_mat_template(i) for i in range(2,9)]"
   ]
  },
  {
   "cell_type": "code",
   "execution_count": 115,
   "metadata": {},
   "outputs": [
    {
     "data": {
      "text/plain": [
       "True"
      ]
     },
     "execution_count": 115,
     "metadata": {},
     "output_type": "execute_result"
    }
   ],
   "source": [
    "np.allclose(transition_mat(A[0],[3,1.5,0.5,3],2),transition_mat_jit(A[0],[3,1.5,0.5,3],2),\n",
    "            transition_mat_new_jit([3,1.5,0.5,3],2),transition_mat_new([3,1.5,0.5,3],2))"
   ]
  },
  {
   "cell_type": "code",
   "execution_count": 116,
   "metadata": {},
   "outputs": [],
   "source": [
    "import time\n",
    "\n",
    "times = np.zeros((4,len(A)))\n",
    "for i,v in enumerate(A):\n",
    "    start = time.time()\n",
    "    transition_mat(v,np.array([3,1.5,0.5,3]),i+2)\n",
    "    end = time.time()\n",
    "    times[0,i] = end-start\n",
    "    start = time.time()\n",
    "    transition_mat_jit(v,np.array([3,1.5,0.5,3]),i+2)\n",
    "    end = time.time()\n",
    "    times[1,i] = end-start\n",
    "    start = time.time()\n",
    "    transition_mat_new(np.array([3,1.5,0.5,3]),i+2)\n",
    "    end = time.time()\n",
    "    times[2,i] = end-start\n",
    "    start = time.time()\n",
    "    transition_mat_new_jit(np.array([3,1.5,0.5,3]),i+2)\n",
    "    end = time.time()\n",
    "    times[3,i] = end-start"
   ]
  },
  {
   "cell_type": "code",
   "execution_count": 117,
   "metadata": {},
   "outputs": [
    {
     "data": {
      "image/png": "[encoded data removed]",
      "text/plain": [
       "<matplotlib.figure.Figure at 0x1517bce320>"
      ]
     },
     "metadata": {},
     "output_type": "display_data"
    }
   ],
   "source": [
    "import matplotlib.pyplot as plt\n",
    "plt.plot(np.arange(2,9),times[0,:],color = \"blue\",label = \"original transition_mat\")\n",
    "plt.plot(np.arange(2,9),times[1,:],color = \"green\",label = \"jit transition_mat\")\n",
    "plt.plot(np.arange(2,9),times[2,:],color = \"red\",label = \"new transition_mat\")\n",
    "plt.plot(np.arange(2,9),times[3,:],color = \"black\",label = \"jit new transition_mat\")\n",
    "plt.legend(loc='upper left')\n",
    "plt.show()"
   ]
  },
  {
   "cell_type": "code",
   "execution_count": 118,
   "metadata": {
    "collapsed": true
   },
   "outputs": [],
   "source": [
    "def gofm(inpt,kbar):\n",
    "    \"\"\"\n",
    "    A function that calculates all the possible volatility states\n",
    "    \"\"\"\n",
    "    m0 = inpt[1]\n",
    "    m1 = 2-m0\n",
    "    kbar2 = 2**kbar\n",
    "    g_m1 = np.arange(kbar2)\n",
    "    g_m = np.zeros(kbar2)\n",
    "    \n",
    "    for i in range(kbar2):\n",
    "        g =1\n",
    "        for j in range(kbar):\n",
    "            if np.bitwise_and(g_m1[i],(2**j))!=0:\n",
    "                g = g*m1\n",
    "            else:\n",
    "                g = g*m0\n",
    "        g_m[i] = g\n",
    "    return(np.sqrt(g_m))"
   ]
  },
  {
   "cell_type": "code",
   "execution_count": 124,
   "metadata": {},
   "outputs": [],
   "source": [
    "def MSM_likelihood(inpt,kbar,data,estim_flag,nargout =1):\n",
    "    if not hasattr(inpt,\"__len__\"):\n",
    "        inpt = [estim_flag[0],inpt,estim_flag[1],estim_flag[2]]\n",
    "        \n",
    "    sigma = inpt[3]/np.sqrt(252)\n",
    "    k2 = 2**kbar\n",
    "    A = transition_mat_new(inpt,kbar)\n",
    "    g_m = gofm(inpt,kbar)\n",
    "    T = len(data)\n",
    "    pi_mat = np.zeros((T+1,k2))\n",
    "    LLs = np.zeros(T)\n",
    "    pi_mat[0,:] = (1/k2)*np.ones((1,k2))\n",
    "    \"\"\"\n",
    "    Likelihood Algorithm\n",
    "    \"\"\"\n",
    "    pa = (2*np.pi)**(-0.5)\n",
    "    s = sigma*g_m\n",
    "    w_t = data \n",
    "    w_t = pa*np.exp(-0.5*((w_t/s)**2))/s\n",
    "    w_t = w_t + 1e-16\n",
    "\n",
    "    for t in range(T):\n",
    "        \n",
    "        piA = np.dot(pi_mat[t,:],A)\n",
    "        C = (w_t[t,:]*piA)\n",
    "        ft = np.sum(C) # log\n",
    "        if np.isclose(ft,0):\n",
    "            pi_mat[t+1,1]=1\n",
    "        else:\n",
    "            pi_mat[t+1,:] = C/ft\n",
    "        LLs[t] = np.log(np.dot(w_t[t,:],piA))\n",
    "        \n",
    "    LL = -np.sum(LLs)\n",
    "    if np.any(np.isinf(LLs)):\n",
    "        print(\"Log-likelihood is inf. Probably due to all zeros in pi_mat.\")\n",
    "    if nargout == 1:\n",
    "        return(LL)\n",
    "    else:\n",
    "        return(LL,LLs)\n"
   ]
  },
  {
   "cell_type": "code",
   "execution_count": 139,
   "metadata": {
    "collapsed": true
   },
   "outputs": [],
   "source": [
    "def MSM_starting_values(data,startingvals,kbar):\n",
    "    if startingvals is None:\n",
    "        print(\"No starting values entered: Using grid-search\")\n",
    "\n",
    "        b = np.array([1.5,3,6])\n",
    "        lb = len(b)\n",
    "        g = np.array([.1,.5,.9])\n",
    "        lg = len(g)\n",
    "        sigma = np.std(data)*np.sqrt(252)\n",
    "        output_parameters = np.zeros(((lb*lg),3))\n",
    "        LLs = np.zeros((lb*lg))\n",
    "        m0_lower = 1.2\n",
    "        m0_upper = 1.8\n",
    "        idx = 0\n",
    "        for i in range(lb):\n",
    "            for j in range(lg):\n",
    "                xopt,fval,ierr,numfunc = opt.fminbound(MSM_likelihood,\n",
    "                                                 x1 = m0_lower,x2 = m0_upper,xtol = 1e-3,\n",
    "                                                 args = (kbar,data,[b[i],g[j],sigma]),full_output = True)\n",
    "                m0,LL = xopt,fval\n",
    "                output_parameters[idx,:] = b[i],m0,g[j]\n",
    "                LLs[idx] = LL\n",
    "                idx +=1\n",
    "        idx = np.argsort(LLs)\n",
    "        LLs = np.sort(LLs)\n",
    "        startingvals = output_parameters[idx[0],:].tolist()+[sigma]\n",
    "        output_parameters = output_parameters[idx,:]\n",
    "        return(startingvals,LLs,output_parameters)"
   ]
  },
  {
   "cell_type": "code",
   "execution_count": 159,
   "metadata": {
    "collapsed": true
   },
   "outputs": [],
   "source": [
    "def MSM_modified(data,kbar,startingvals):\n",
    "        startingvals, LLs,ordered_parameters = MSM_starting_values(data,startingvals,kbar)\n",
    "        print(startingvals)\n",
    "        bnds = ((1,50),(1,1.99),(1e-3,0.999999),(1e-4,5))\n",
    "        minimizer_kwargs = dict(method = \"TNC\",bounds = bnds,args = (kbar,dat,None))\n",
    "        res = opt.basinhopping(MSM_likelihood,x0 = startingvals,minimizer_kwargs = minimizer_kwargs,niter = 5)\n",
    "        parameters,LL,niters,output = res.x,res.fun,res.nit,res.message\n",
    "        LL, LLs = MSM_likelihood(parameters,kbar,data,None,2)\n",
    "        LL = -LL\n",
    "        \n",
    "        return(LL,LLs,parameters)"
   ]
  },
  {
   "cell_type": "code",
   "execution_count": 160,
   "metadata": {},
   "outputs": [],
   "source": [
    "dat = pd.read_csv(\"data_demo.csv\",header = None)\n",
    "dat = np.array(dat)"
   ]
  },
  {
   "cell_type": "code",
   "execution_count": 161,
   "metadata": {},
   "outputs": [
    {
     "name": "stdout",
     "output_type": "stream",
     "text": [
      "No starting values entered: Using grid-search\n",
      "[3.0, 1.2328492891150213, 0.1, 0.19351177915717233]\n"
     ]
    }
   ],
   "source": [
    "LL,LLs,params = MSM_modified(dat,5,None)"
   ]
  },
  {
   "cell_type": "code",
   "execution_count": 162,
   "metadata": {},
   "outputs": [
    {
     "data": {
      "text/plain": [
       "array([ 3.92313872,  1.42319675,  0.00555166,  0.12680934])"
      ]
     },
     "execution_count": 162,
     "metadata": {},
     "output_type": "execute_result"
    }
   ],
   "source": [
    "params"
   ]
  },
  {
   "cell_type": "code",
   "execution_count": 148,
   "metadata": {
    "collapsed": true
   },
   "outputs": [],
   "source": [
    "def MSM_likelihood_old(inpt,kbar,data,A_template):      \n",
    "    sigma = inpt[3]/np.sqrt(252)\n",
    "    k2 = 2**kbar\n",
    "    A = transition_mat_16(A_template.copy(),inpt,kbar)\n",
    "    g_m = gofm(inpt,kbar)\n",
    "    T = len(data)\n",
    "    pi_mat = np.zeros((T+1,k2))\n",
    "    LLs = np.zeros(T)\n",
    "    pi_mat[0,:] = (1/k2)*np.ones((1,k2))\n",
    "    \"\"\"\n",
    "    Likelihood Algorithm\n",
    "    \"\"\"\n",
    "    pa = (2*np.pi)**(-0.5)\n",
    "    s = sigma*g_m\n",
    "    w_t = data \n",
    "    w_t = pa*np.exp(-0.5*((w_t/s)**2))/s\n",
    "    w_t = w_t + 1e-16\n",
    "\n",
    "    for t in range(T):\n",
    "        \n",
    "        piA = np.dot(pi_mat[t,:],A)\n",
    "        C = (w_t[t,:]*piA)\n",
    "        ft = np.sum(C) # log\n",
    "        if np.isclose(ft,0):\n",
    "            pi_mat[t+1,1]=1\n",
    "        else:\n",
    "            pi_mat[t+1,:] = C/ft\n",
    "        LLs[t] = np.log(np.dot(w_t[t,:],piA))\n",
    "        \n",
    "    LL = -np.sum(LLs)\n",
    "    if np.any(np.isinf(LLs)):\n",
    "        print(\"Log-likelihood is inf. Probably due to all zeros in pi_mat.\")\n",
    "    else:\n",
    "        return(LL,LLs)"
   ]
  },
  {
   "cell_type": "code",
   "execution_count": null,
   "metadata": {
    "collapsed": true
   },
   "outputs": [],
   "source": [
    "def MSM_modified_old(data,kbar,startingvals):\n",
    "        A_template = T_mat_template(kbar)\n",
    "        startingvals, LLs,ordered_parameters = MSM_starting_values(data,startingvals,kbar,A_template)\n",
    "        bnds = ((1,50),(1,1.99),(1e-3,0.999999),(1e-4,5))\n",
    "        minimizer_kwargs = dict(method = \"L-BFGS-B\",bounds = bnds,args = (kbar,dat,A_template,None))\n",
    "        res = scipy.optimize.basinhopping(MSM_likelihood,x0 = startingvals,minimizer_kwargs = minimizer_kwargs,niter = 3)\n",
    "        parameters,LL,niters,output = res.x,res.fun,res.nit,res.message\n",
    "        LL, LLs = MSM_likelihood(parameters,kbar,data,A_template,None,2)\n",
    "        LL = -LL\n",
    "        \n",
    "        return(LL,LLs,parameters)"
   ]
  },
  {
   "cell_type": "code",
   "execution_count": 19,
   "metadata": {
    "collapsed": true
   },
   "outputs": [],
   "source": [
    "A = [T_mat_template(i) for i in range(2,11)]"
   ]
  },
  {
   "cell_type": "code",
   "execution_count": 20,
   "metadata": {},
   "outputs": [
    {
     "data": {
      "image/png": "[encoded data removed]",
      "text/plain": [
       "<matplotlib.figure.Figure at 0x15159ecb00>"
      ]
     },
     "metadata": {},
     "output_type": "display_data"
    }
   ],
   "source": [
    "times = np.zeros((2,len(A)))\n",
    "for i,v in enumerate(A):\n",
    "    start = time.time()\n",
    "    MSM_likelihood([3,1.5,0.5,3],i+2,dat)\n",
    "    end = time.time()\n",
    "    times[0,i] = end-start\n",
    "    start = time.time()\n",
    "    MSM_likelihood_old([3,1.5,0.5,3],i+2,dat,v)\n",
    "    end = time.time()\n",
    "    times[1,i] = end-start\n",
    "plt.plot(np.arange(2,11),times[0,:],color = \"blue\",label = \"new MSM_likelihood\")\n",
    "plt.plot(np.arange(2,11),times[1,:],color = \"green\",label = \"old MSM_likelihood\")\n",
    "plt.legend(loc='upper left')\n",
    "plt.show()"
   ]
  },
  {
   "cell_type": "code",
   "execution_count": 21,
   "metadata": {},
   "outputs": [
    {
     "name": "stdout",
     "output_type": "stream",
     "text": [
      "CPU times: user 1.9 s, sys: 74.7 ms, total: 1.97 s\n",
      "Wall time: 1.47 s\n",
      "CPU times: user 9min 14s, sys: 6min 41s, total: 15min 56s\n",
      "Wall time: 16min 24s\n"
     ]
    }
   ],
   "source": [
    "%time LL_,LLs_ = MSM_likelihood([3,1.5,0.5,3],10,dat)\n",
    "%time LL,LLs = MSM_likelihood_old([3,1.5,0.5,3],10,dat,A[8])"
   ]
  },
  {
   "cell_type": "code",
   "execution_count": 22,
   "metadata": {},
   "outputs": [
    {
     "data": {
      "text/plain": [
       "True"
      ]
     },
     "execution_count": 22,
     "metadata": {},
     "output_type": "execute_result"
    }
   ],
   "source": [
    "np.allclose(LL,LL_)"
   ]
  },
  {
   "cell_type": "code",
   "execution_count": 23,
   "metadata": {},
   "outputs": [
    {
     "data": {
      "text/plain": [
       "True"
      ]
     },
     "execution_count": 23,
     "metadata": {},
     "output_type": "execute_result"
    }
   ],
   "source": [
    "np.allclose(LLs_,LLs)"
   ]
  },
  {
   "cell_type": "code",
   "execution_count": 75,
   "metadata": {
    "collapsed": true
   },
   "outputs": [],
   "source": [
    "class memoize(dict):\n",
    "    def __init__(self, func):\n",
    "        self.func = func\n",
    "\n",
    "    def __call__(self, *args):\n",
    "        return self[args]\n",
    "\n",
    "    def __missing__(self, key):\n",
    "        result = self[key] = self.func(*key)\n",
    "        return result"
   ]
  },
  {
   "cell_type": "code",
   "execution_count": 76,
   "metadata": {},
   "outputs": [],
   "source": [
    "@memoize\n",
    "def transition_prob(inpt,state_t,kbar):\n",
    "    b = inpt[0]\n",
    "    gamma_kbar = inpt[2]\n",
    "    gamma = np.zeros((kbar,1))\n",
    "    gamma[0,0] = 1-(1-gamma_kbar)**(1/(b**(kbar-1)))\n",
    "    for i in range(1,kbar):\n",
    "        gamma[i,0] = 1-(1-gamma[0,0])**(b**(i))\n",
    "    gamma = gamma*0.5\n",
    "    gamma = np.c_[gamma,gamma]\n",
    "    gamma[:,0] = 1 - gamma[:,1]\n",
    "    kbar2 = 2**kbar\n",
    "    prob = np.ones(kbar2)\n",
    "    # all combination of probabilities from gamma_1*gamma_2*gamma_3, gamma_1*gamma_2*(1-gamma_3),...\n",
    "    for i in range(kbar2):\n",
    "        for m in range(kbar):\n",
    "            tmp = np.unpackbits(np.arange(i,i+1,dtype = np.uint16).view(np.uint8))\n",
    "            tmp = np.append(tmp[8:],tmp[:8])\n",
    "            prob[i] =prob[i] * gamma[kbar-m-1,tmp[-(m+1)]]\n",
    "    A = np.fromfunction(lambda i,j: prob[np.bitwise_xor(np.uint16(state_t),j)],\n",
    "                          (1,kbar2),dtype = np.uint16)                 \n",
    "    return(A)"
   ]
  },
  {
   "cell_type": "code",
   "execution_count": 96,
   "metadata": {},
   "outputs": [],
   "source": [
    "def particle_filter_prediction(inpt,kbar,data,B,n_steps,particles =None,weights = None):\n",
    "    g_m = gofm(inpt,kbar)\n",
    "    Ms = np.arange(len(g_m))\n",
    "    sigma = inpt[3]/np.sqrt(252)\n",
    "    M_pred = np.zeros((n_steps+1,B))\n",
    "    pred_means = np.zeros(n_steps)\n",
    "    pred_vars = np.zeros(n_steps)\n",
    "    # check if particles are None or given\n",
    "    if hasattr(particles,\"__len__\"):\n",
    "        M_pred[0,:] = particles\n",
    "    else:\n",
    "        # no particles given so will simulate from time 1to t with data\n",
    "        k2 = 2**kbar\n",
    "        T = len(data)\n",
    "        M_mat = np.zeros((T,B))\n",
    "        pa = (2*np.pi)**(-0.5)\n",
    "        s = sigma*g_m\n",
    "        w_t = data \n",
    "        w_t = pa*np.exp(-0.5*((w_t/s)**2))/s\n",
    "        w_t = w_t + 1e-16\n",
    "\n",
    "        LLs = np.zeros(T-1)\n",
    "        M_mat[0,:] = np.random.choice(Ms, size=B, replace=True, p=(1/k2)*np.ones(k2))\n",
    "\n",
    "        for i in range(T-1):\n",
    "            M_temp = np.zeros(B)\n",
    "            ws = np.zeros(B)\n",
    "            for j,val in enumerate(M_mat[i,:]):\n",
    "                #pdb.set_trace()\n",
    "                probs = transition_prob(inpt,val,kbar)[0]\n",
    "                M_temp[j] = np.random.choice(Ms,size = 1,p = probs)\n",
    "            for k,val in enumerate(M_temp):\n",
    "                ws[k] = w_t[i+1,val.astype(int)]/np.sum(w_t[i+1,M_temp.astype(int)])\n",
    "            M_mat[i+1,:] = np.random.choice(M_temp,size = B,replace = True,p = ws)\n",
    "            LLs[i] = np.mean(w_t[i+1,M_mat[i+1,:].astype(int)])\n",
    "        M_pred[0,:] = M_mat[-1,:]\n",
    "        weights = w_t[-1,:]\n",
    "    #n step ahed prediction with particle filter\n",
    "    for i in range(n_steps):\n",
    "        for j,val in enumerate(M_pred[i,:]):\n",
    "            probs = transition_prob(inpt,val,kbar)[0]\n",
    "            M_pred[i+1,j] = np.random.choice(Ms,size = 1, p = probs)\n",
    "        pred_particles = sigma*np.sqrt(g_m[M_pred[i+1,:].astype(int)])\n",
    "        #pdb.set_trace()\n",
    "        weights = weights[M_pred[i+1,:].astype(int)]\n",
    "        weights = weights/np.sum(weights)\n",
    "        pred_means[i] = np.average(pred_particles,weights=weights)\n",
    "        pred_vars[i] = np.average((pred_particles-pred_means[i])**2,weights=weights)\n",
    "    return(pred_means,pred_vars,M_pred)  "
   ]
  },
  {
   "cell_type": "code",
   "execution_count": 79,
   "metadata": {},
   "outputs": [
    {
     "data": {
      "text/plain": [
       "array([  9.40031023e-04,   3.13343674e-04,   8.17323529e-03,\n",
       "         2.72441176e-03,   3.61809985e-05,   1.20603328e-05,\n",
       "         3.14580909e-04,   1.04860303e-04,   7.32376392e-02,\n",
       "         2.44125464e-02,   6.36775215e-01,   2.12258405e-01,\n",
       "         2.81885475e-03,   9.39618250e-04,   2.45089391e-02,\n",
       "         8.16964637e-03,   4.02207332e-06,   1.34069111e-06,\n",
       "         3.49704964e-05,   1.16568321e-05,   1.54806198e-07,\n",
       "         5.16020660e-08,   1.34598481e-06,   4.48661604e-07,\n",
       "         3.13358971e-04,   1.04452990e-04,   2.72454476e-03,\n",
       "         9.08181588e-04,   1.20609216e-05,   4.02030720e-06,\n",
       "         1.04865422e-04,   3.49551407e-05])"
      ]
     },
     "execution_count": 79,
     "metadata": {},
     "output_type": "execute_result"
    }
   ],
   "source": [
    "transition_mat_new([3,1.5,0.5,3],5)[10,:]"
   ]
  },
  {
   "cell_type": "code",
   "execution_count": 133,
   "metadata": {},
   "outputs": [
    {
     "data": {
      "text/plain": [
       "(array([ 0.01347683,  0.01353111,  0.01353267,  0.01354262,  0.01354187]),\n",
       " array([  3.60900863e-07,   3.99577667e-07,   4.24574933e-07,\n",
       "          4.63001675e-07,   4.90471041e-07]),\n",
       " array([[ 13.,  13.,  28., ...,  28.,  19.,  28.],\n",
       "        [ 13.,  13.,  28., ...,  28.,  19.,  28.],\n",
       "        [ 13.,  13.,  28., ...,  28.,  19.,  28.],\n",
       "        [ 13.,  13.,  28., ...,  28.,  19.,  28.],\n",
       "        [ 13.,  13.,  28., ...,  28.,  19.,  28.],\n",
       "        [ 13.,  13.,  28., ...,  28.,  19.,  28.]]))"
      ]
     },
     "execution_count": 133,
     "metadata": {},
     "output_type": "execute_result"
    }
   ],
   "source": [
    "particle_filter_prediction((1.,1.26265339,0.00322442,0.24088307),5,dat[:-5],1000,5)"
   ]
  },
  {
   "cell_type": "code",
   "execution_count": 134,
   "metadata": {},
   "outputs": [
    {
     "data": {
      "text/plain": [
       "array([[ 0.00508014],\n",
       "       [-0.00726191],\n",
       "       [ 0.00502422],\n",
       "       [ 0.02150801],\n",
       "       [ 0.01572753]])"
      ]
     },
     "execution_count": 134,
     "metadata": {},
     "output_type": "execute_result"
    }
   ],
   "source": [
    "dat[-5:]"
   ]
  },
  {
   "cell_type": "code",
   "execution_count": null,
   "metadata": {
    "collapsed": true
   },
   "outputs": [],
   "source": []
  }
 ],
 "metadata": {
  "kernelspec": {
   "display_name": "Python [conda env:anaconda]",
   "language": "python",
   "name": "conda-env-anaconda-py"
  },
  "language_info": {
   "codemirror_mode": {
    "name": "ipython",
    "version": 3
   },
   "file_extension": ".py",
   "mimetype": "text/x-python",
   "name": "python",
   "nbconvert_exporter": "python",
   "pygments_lexer": "ipython3",
   "version": "3.5.4"
  }
 },
 "nbformat": 4,
 "nbformat_minor": 2
}
